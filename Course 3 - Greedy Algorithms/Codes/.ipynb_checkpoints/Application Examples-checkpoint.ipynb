{
 "cells": [
  {
   "cell_type": "markdown",
   "metadata": {},
   "source": [
    "# <center>Greedy Algorithms, Minimum Spanning Trees, and Dynamic Programming</center>"
   ]
  },
  {
   "cell_type": "markdown",
   "metadata": {
    "toc": true
   },
   "source": [
    "<h1>Table of Contents<span class=\"tocSkip\"></span></h1>\n",
    "<div class=\"toc\"><ul class=\"toc-item\"><li><span><a href=\"#Greedy-Algorithms\" data-toc-modified-id=\"Greedy-Algorithms-1\"><span class=\"toc-item-num\">1&nbsp;&nbsp;</span>Greedy Algorithms</a></span><ul class=\"toc-item\"><li><span><a href=\"#Job-Scheduling\" data-toc-modified-id=\"Job-Scheduling-1.1\"><span class=\"toc-item-num\">1.1&nbsp;&nbsp;</span>Job Scheduling</a></span><ul class=\"toc-item\"><li><span><a href=\"#Question-2\" data-toc-modified-id=\"Question-2-1.1.1\"><span class=\"toc-item-num\">1.1.1&nbsp;&nbsp;</span>Question 2</a></span></li></ul></li><li><span><a href=\"#Prim's-Minimum-Spanning-Tree\" data-toc-modified-id=\"Prim's-Minimum-Spanning-Tree-1.2\"><span class=\"toc-item-num\">1.2&nbsp;&nbsp;</span>Prim's Minimum Spanning Tree</a></span><ul class=\"toc-item\"><li><span><a href=\"#Minimum-Spanning-Tree-Definition\" data-toc-modified-id=\"Minimum-Spanning-Tree-Definition-1.2.1\"><span class=\"toc-item-num\">1.2.1&nbsp;&nbsp;</span>Minimum Spanning Tree Definition</a></span></li><li><span><a href=\"#Prim's-Algorithm\" data-toc-modified-id=\"Prim's-Algorithm-1.2.2\"><span class=\"toc-item-num\">1.2.2&nbsp;&nbsp;</span>Prim's Algorithm</a></span></li></ul></li><li><span><a href=\"#1.\" data-toc-modified-id=\"1.-1.3\"><span class=\"toc-item-num\">1.3&nbsp;&nbsp;</span>1.</a></span></li><li><span><a href=\"#2.\" data-toc-modified-id=\"2.-1.4\"><span class=\"toc-item-num\">1.4&nbsp;&nbsp;</span>2.</a></span></li></ul></li></ul></div>"
   ]
  },
  {
   "cell_type": "markdown",
   "metadata": {},
   "source": [
    "## Greedy Algorithms\n",
    "<img src=\"Images/greedy1.png\" width=\"500\"/>\n",
    "<img src=\"Images/greedy2.png\" width=\"500\"/>\n",
    "\n",
    "### Job Scheduling\n",
    "<img src=\"Images/job_scheduling1.png\" width=\"400\"/>\n",
    "<img src=\"Images/job_scheduling2.png\" width=\"400\"/>\n",
    "<img src=\"Images/job_scheduling3.png\" width=\"400\"/>\n",
    "#### Question 1\n",
    "In this programming problem and the next you'll code up the greedy algorithms from lecture for minimizing the weighted sum of completion times..\n",
    "\n",
    "Download the text file below.\n",
    "\n",
    "\n",
    "<a href=\"https://github.com/StephanePEILLET/Algorithms_Specialization/blob/main/Course%203%20-%20Greedy%20Algorithms/Data/jobs.txt\">jobs.txt</a>\n",
    "\n",
    "This file describes a set of jobs with positive and integral weights and lengths.  It has the format\n",
    "\n",
    "[number_of_jobs]\n",
    "\n",
    "[job_1_weight] [job_1_length]\n",
    "\n",
    "[job_2_weight] [job_2_length]\n",
    "\n",
    "...\n",
    "\n",
    "For example, the third line of the file is \"74 59\", indicating that the second job has weight 74 and length 59.\n",
    "\n",
    "You should NOT assume that edge weights or lengths are distinct.\n",
    "\n",
    "Your task in this problem is to run the greedy algorithm that schedules jobs in decreasing order of the difference (weight - length).  Recall from lecture that this algorithm is not always optimal.  IMPORTANT: if two jobs have equal difference (weight - length), you should schedule the job with higher weight first.  Beware: if you break ties in a different way, you are likely to get the wrong answer.  You should report the sum of weighted completion times of the resulting schedule --- a positive integer --- in the box below. \n",
    "\n",
    "ADVICE: If you get the wrong answer, try out some small test cases to debug your algorithm (and post your test cases to the discussion forum).\n",
    "\n",
    "#### Question 2\n",
    "For this problem, use the same data set as in the previous problem.\n",
    "\n",
    "Your task now is to run the greedy algorithm that schedules jobs (optimally) in decreasing order of the ratio (weight/length).  In this algorithm, it does not matter how you break ties.  You should report the sum of weighted completion times of the resulting schedule --- a positive integer --- in the box below. "
   ]
  },
  {
   "cell_type": "code",
   "execution_count": 81,
   "metadata": {
    "ExecuteTime": {
     "end_time": "2021-03-13T23:01:40.652568Z",
     "start_time": "2021-03-13T23:01:31.212842Z"
    }
   },
   "outputs": [
    {
     "name": "stdout",
     "output_type": "stream",
     "text": [
      "The cost of process with no order is 129224578455\n",
      "The cost of process with difference is 99275007989\n",
      "The cost of process with ratio is 100574773939\n"
     ]
    }
   ],
   "source": [
    "import os\n",
    "from job_scheduling import *\n",
    "\n",
    "filepath = os.path.join(os.getcwd(), '../Data/jobs.txt')\n",
    "df_jobs = load_data(filepath)\n",
    "unorder_cost, diff_cost, ratio_cost = compute_costs(df_jobs)\n",
    "\n",
    "print(f'The cost of process with no order is {unorder_cost}')\n",
    "print(f'The cost of process with difference is {diff_cost}') # Question 1\n",
    "print(f'The cost of process with ratio is {ratio_cost}')     # Question 2"
   ]
  },
  {
   "cell_type": "markdown",
   "metadata": {},
   "source": [
    "### Prim's Minimum Spanning Tree\n",
    "\n",
    "#### Minimum Spanning Tree Definition\n",
    "<img src=\"Images/mst1.png\" width=\"500\"/>\n",
    "<img src=\"Images/mst2.png\" width=\"400\"/>"
   ]
  },
  {
   "cell_type": "code",
   "execution_count": 158,
   "metadata": {
    "ExecuteTime": {
     "end_time": "2021-03-14T14:06:18.191670Z",
     "start_time": "2021-03-14T14:06:18.175993Z"
    }
   },
   "outputs": [],
   "source": [
    "graph_example = {'a': {'b': 1, 'c':4, 'd':3},\n",
    "                 'b': {'a': 1, 'd':2},\n",
    "                 'c': {'a': 4, 'd':5},\n",
    "                 'd': {'a': 3, 'b':2, 'c':5}}"
   ]
  },
  {
   "cell_type": "markdown",
   "metadata": {},
   "source": [
    "#### Prim's Algorithm\n",
    "<img src=\"Images/prims1.png\" width=\"500\"/>\n",
    "In this programming problem you'll code up Prim's minimum spanning tree algorithm.\n",
    "\n",
    "Download the text file below.\n",
    "\n",
    "<a href=\"https://github.com/StephanePEILLET/Algorithms_Specialization/blob/main/Course%203%20-%20Greedy%20Algorithms/Data/edges.txt\">edges.txt</a>\n",
    "\n",
    "This file describes an undirected graph with integer edge costs.  It has the format\n",
    "\n",
    "[number_of_nodes] [number_of_edges]\n",
    "\n",
    "[one_node_of_edge_1] [other_node_of_edge_1] [edge_1_cost]\n",
    "\n",
    "[one_node_of_edge_2] [other_node_of_edge_2] [edge_2_cost]\n",
    "\n",
    "...\n",
    "\n",
    "For example, the third line of the file is \"2 3 -8874\", indicating that there is an edge connecting vertex #2 and vertex #3 that has cost -8874. \n",
    "\n",
    "You should NOT assume that edge costs are positive, nor should you assume that they are distinct.\n",
    "\n",
    "Your task is to run Prim's minimum spanning tree algorithm on this graph.  You should report the overall cost of a minimum spanning tree --- an integer, which may or may not be negative --- in the box below. \n",
    "\n",
    "IMPLEMENTATION NOTES: This graph is small enough that the straightforward O(mn) time implementation of Prim's algorithm should work fine. OPTIONAL: For those of you seeking an additional challenge, try implementing a heap-based version. The simpler approach, which should already give you a healthy speed-up, is to maintain relevant edges in a heap (with keys = edge costs).  The superior approach stores the unprocessed vertices in the heap, as described in lecture.  Note this requires a heap that supports deletions, and you'll probably need to maintain some kind of mapping between vertices and their positions in the heap.\n",
    "\n",
    "<img src=\"Images/prims2.png\" width=\"500\"/>"
   ]
  },
  {
   "cell_type": "code",
   "execution_count": 160,
   "metadata": {
    "ExecuteTime": {
     "end_time": "2021-03-14T14:10:50.112070Z",
     "start_time": "2021-03-14T14:10:50.102021Z"
    }
   },
   "outputs": [
    {
     "name": "stdout",
     "output_type": "stream",
     "text": [
      "The MST of the graph is [('b', 'a'), ('b', 'd'), ('a', 'c')] with a minimum cost of 7.\n"
     ]
    }
   ],
   "source": [
    "import os\n",
    "from prims import *\n",
    "\n",
    "MST, minimum_cost = prims(graph_example)\n",
    "print(f'The MST of the graph is {MST} with a minimum cost of {minimum_cost}.')"
   ]
  },
  {
   "cell_type": "code",
   "execution_count": 167,
   "metadata": {
    "ExecuteTime": {
     "end_time": "2021-03-14T14:16:39.110734Z",
     "start_time": "2021-03-14T14:16:36.199635Z"
    }
   },
   "outputs": [
    {
     "name": "stdout",
     "output_type": "stream",
     "text": [
      "The MST of the graph has a size of 499 on 2184 edges and has a minimum cost of -3612829.\n",
      "We can observe that the MST size is close to n-1 (n the number of nodes), here 500.\n"
     ]
    }
   ],
   "source": [
    "filepath = os.path.join(os.getcwd(), '../Data/edges.txt')\n",
    "graph, n_nodes, n_edges = load_data(filepath)\n",
    "MST, minimum_cost = prims(graph)\n",
    "\n",
    "print(f'The MST of the graph has a size of {len(MST)} on {n_edges} edges and has a minimum cost of {minimum_cost}.')\n",
    "print(f'We can observe that the MST size is close to n-1 (n the number of nodes), here {n_nodes}.')"
   ]
  },
  {
   "cell_type": "markdown",
   "metadata": {},
   "source": [
    "# Week 2\n",
    "### 1.\n",
    "Question 1\n",
    "\n",
    "In this programming problem and the next you'll code up the clustering algorithm from lecture for computing a max-spacing kkk-clustering.\n",
    "\n",
    "Download the text file below.\n",
    "\n",
    "clustering1.txt\n",
    "\n",
    "This file describes a distance function (equivalently, a complete graph with edge costs).  It has the following format:\n",
    "\n",
    "[number_of_nodes]\n",
    "\n",
    "[edge 1 node 1] [edge 1 node 2] [edge 1 cost]\n",
    "\n",
    "[edge 2 node 1] [edge 2 node 2] [edge 2 cost]\n",
    "\n",
    "...\n",
    "\n",
    "There is one edge (i,j)(i,j)(i,j) for each choice of 1≤i<j≤n1 \\leq i \\lt j \\leq n1≤i<j≤n, where nnn is the number of nodes.\n",
    "\n",
    "For example, the third line of the file is \"1 3 5250\", indicating that the distance between nodes 1 and 3 (equivalently, the cost of the edge (1,3)) is 5250.  You can assume that distances are positive, but you should NOT assume that they are distinct.\n",
    "\n",
    "Your task in this problem is to run the clustering algorithm from lecture on this data set, where the target number kkk of clusters is set to 4.  What is the maximum spacing of a 4-clustering?\n",
    "\n",
    "ADVICE: If you're not getting the correct answer, try debugging your algorithm using some small test cases.  And then post them to the discussion forum!\n",
    "\n",
    "### 2.\n",
    "Question 2\n",
    "\n",
    "In this question your task is again to run the clustering algorithm from lecture, but on a MUCH bigger graph.  So big, in fact, that the distances (i.e., edge costs) are only defined implicitly, rather than being provided as an explicit list.\n",
    "\n",
    "The data set is below.\n",
    "clustering_big.txt\n",
    "\n",
    " The format is:\n",
    "\n",
    "[# of nodes] [# of bits for each node's label]\n",
    "\n",
    "[first bit of node 1] ... [last bit of node 1]\n",
    "\n",
    "[first bit of node 2] ... [last bit of node 2]\n",
    "\n",
    "...\n",
    "\n",
    "For example, the third line of the file \"0 1 1 0 0 1 1 0 0 1 0 1 1 1 1 1 1 0 1 0 1 1 0 1\" denotes the 24 bits associated with node #2.\n",
    "\n",
    "The distance between two nodes uuu and vvv in this problem is defined as the Hamming distance--- the number of differing bits --- between the two nodes' labels.  For example, the Hamming distance between the 24-bit label of node #2 above and the label \"0 1 0 0 0 1 0 0 0 1 0 1 1 1 1 1 1 0 1 0 0 1 0 1\" is 3 (since they differ in the 3rd, 7th, and 21st bits).\n",
    "\n",
    "The question is: what is the largest value of kkk such that there is a kkk-clustering with spacing at least 3?  That is, how many clusters are needed to ensure that no pair of nodes with all but 2 bits in common get split into different clusters?\n",
    "\n",
    "NOTE: The graph implicitly defined by the data file is so big that you probably can't write it out explicitly, let alone sort the edges by cost.  So you will have to be a little creative to complete this part of the question.  For example, is there some way you can identify the smallest distances without explicitly looking at every pair of nodes?\n",
    "\n"
   ]
  },
  {
   "cell_type": "code",
   "execution_count": null,
   "metadata": {},
   "outputs": [],
   "source": []
  },
  {
   "cell_type": "markdown",
   "metadata": {},
   "source": [
    "# Week 3\n",
    "1.\n",
    "Question 1\n",
    "\n",
    "In this programming problem and the next you'll code up the greedy algorithm from the lectures on Huffman coding.\n",
    "\n",
    "Download the text file below.\n",
    "\n",
    "huffman.txt\n",
    "\n",
    "This file describes an instance of the problem. It has the following format:\n",
    "\n",
    "[number_of_symbols]\n",
    "\n",
    "[weight of symbol #1]\n",
    "\n",
    "[weight of symbol #2]\n",
    "\n",
    "...\n",
    "\n",
    "For example, the third line of the file is \"6852892,\" indicating that the weight of the second symbol of the alphabet is 6852892.  (We're using weights instead of frequencies, like in the \"A More Complex Example\" video.)\n",
    "\n",
    "Your task in this problem is to run the Huffman coding algorithm from lecture on this data set. What is the maximum length of a codeword in the resulting Huffman code?\n",
    "\n",
    "ADVICE: If you're not getting the correct answer, try debugging your algorithm using some small test cases. And then post them to the discussion forum!\n",
    "\n",
    "2.\n",
    "Question 2\n",
    "\n",
    "Continuing the previous problem, what is the minimum length of a codeword in your Huffman code?\n",
    "\n",
    "3.\n",
    "Question 3\n",
    "\n",
    "In this programming problem you'll code up the dynamic programming algorithm for computing a maximum-weight independent set of a path graph. \n",
    "\n",
    "Download the text file below.\n",
    "mwis.txt\n",
    "\n",
    "This file describes the weights of the vertices in a path graph (with the weights listed in the order in which vertices appear in the path). It has the following format:\n",
    "\n",
    "[number_of_vertices]\n",
    "\n",
    "[weight of first vertex]\n",
    "\n",
    "[weight of second vertex]\n",
    "\n",
    "...\n",
    "\n",
    "For example, the third line of the file is \"6395702,\" indicating that the weight of the second vertex of the graph is 6395702. \n",
    "\n",
    "Your task in this problem is to run the dynamic programming algorithm (and the reconstruction procedure) from lecture on this data set.  The question is: of the vertices 1, 2, 3, 4, 17, 117, 517, and 997, which ones belong to the maximum-weight independent set?  (By \"vertex 1\" we mean the first vertex of the graph---there is no vertex 0.)   In the box below, enter a 8-bit string, where the ith bit should be 1 if the ith of these 8 vertices is in the maximum-weight independent set, and 0 otherwise. For example, if you think that the vertices 1, 4, 17, and 517 are in the maximum-weight independent set and the other four vertices are not, then you should enter the string 10011010 in the box below."
   ]
  },
  {
   "cell_type": "code",
   "execution_count": null,
   "metadata": {},
   "outputs": [],
   "source": []
  },
  {
   "cell_type": "markdown",
   "metadata": {},
   "source": [
    "# Week 4\n",
    "1.\n",
    "Question 1\n",
    "\n",
    "In this programming problem and the next you'll code up the knapsack algorithm from lecture.\n",
    "\n",
    "Let's start with a warm-up.  Download the text file below.\n",
    "knapsack1.txt\n",
    "\n",
    "This file describes a knapsack instance, and it has the following format:\n",
    "\n",
    "[knapsack_size][number_of_items]\n",
    "\n",
    "[value_1] [weight_1]\n",
    "\n",
    "[value_2] [weight_2]\n",
    "\n",
    "...\n",
    "\n",
    "For example, the third line of the file is \"50074 659\", indicating that the second item has value 50074 and size 659, respectively.\n",
    "\n",
    "You can assume that all numbers are positive.  You should assume that item weights and the knapsack capacity are integers.\n",
    "\n",
    "In the box below, type in the value of the optimal solution.\n",
    "\n",
    "ADVICE: If you're not getting the correct answer, try debugging your algorithm using some small test cases. And then post them to the discussion forum!\n",
    "\n",
    "2.\n",
    "Question 2\n",
    "\n",
    "This problem also asks you to solve a knapsack instance, but a much bigger one. \n",
    "\n",
    "Download the text file below. \n",
    "knapsack_big.txt\n",
    "\n",
    "This file describes a knapsack instance, and it has the following format:\n",
    "\n",
    "[knapsack_size][number_of_items]\n",
    "\n",
    "[value_1] [weight_1]\n",
    "\n",
    "[value_2] [weight_2]\n",
    "\n",
    "...\n",
    "\n",
    "For example, the third line of the file is \"50074 834558\", indicating that the second item has value 50074 and size 834558, respectively.  As before, you should assume that item weights and the knapsack capacity are integers.\n",
    "\n",
    "This instance is so big that the straightforward iterative implemetation uses an infeasible amount of time and space.  So you will have to be creative to compute an optimal solution.  One idea is to go back to a recursive implementation, solving subproblems --- and, of course, caching the results to avoid redundant work --- only on an \"as needed\" basis.  Also, be sure to think about appropriate data structures for storing and looking up solutions to subproblems.\n",
    "\n",
    "In the box below, type in the value of the optimal solution.\n",
    "\n",
    "ADVICE: If you're not getting the correct answer, try debugging your algorithm using some small test cases. And then post them to the discussion forum!"
   ]
  },
  {
   "cell_type": "code",
   "execution_count": null,
   "metadata": {},
   "outputs": [],
   "source": []
  }
 ],
 "metadata": {
  "kernelspec": {
   "display_name": "Python 3",
   "language": "python",
   "name": "python3"
  },
  "language_info": {
   "codemirror_mode": {
    "name": "ipython",
    "version": 3
   },
   "file_extension": ".py",
   "mimetype": "text/x-python",
   "name": "python",
   "nbconvert_exporter": "python",
   "pygments_lexer": "ipython3",
   "version": "3.7.7"
  },
  "toc": {
   "base_numbering": 1,
   "nav_menu": {},
   "number_sections": true,
   "sideBar": true,
   "skip_h1_title": true,
   "title_cell": "Table of Contents",
   "title_sidebar": "Contents",
   "toc_cell": true,
   "toc_position": {},
   "toc_section_display": true,
   "toc_window_display": false
  },
  "varInspector": {
   "cols": {
    "lenName": 16,
    "lenType": 16,
    "lenVar": 40
   },
   "kernels_config": {
    "python": {
     "delete_cmd_postfix": "",
     "delete_cmd_prefix": "del ",
     "library": "var_list.py",
     "varRefreshCmd": "print(var_dic_list())"
    },
    "r": {
     "delete_cmd_postfix": ") ",
     "delete_cmd_prefix": "rm(",
     "library": "var_list.r",
     "varRefreshCmd": "cat(var_dic_list()) "
    }
   },
   "types_to_exclude": [
    "module",
    "function",
    "builtin_function_or_method",
    "instance",
    "_Feature"
   ],
   "window_display": false
  }
 },
 "nbformat": 4,
 "nbformat_minor": 4
}
