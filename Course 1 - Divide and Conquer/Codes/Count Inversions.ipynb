{
 "cells": [
  {
   "cell_type": "code",
   "execution_count": 30,
   "metadata": {
    "ExecuteTime": {
     "end_time": "2020-11-05T16:14:36.665006Z",
     "start_time": "2020-11-05T16:14:36.655547Z"
    }
   },
   "outputs": [],
   "source": [
    "import numpy as np\n",
    "import random"
   ]
  },
  {
   "cell_type": "code",
   "execution_count": 46,
   "metadata": {
    "ExecuteTime": {
     "end_time": "2020-11-05T16:39:32.761210Z",
     "start_time": "2020-11-05T16:39:32.710290Z"
    }
   },
   "outputs": [],
   "source": [
    "filepath = '/Users/stephanepeillet/Downloads/data.txt'\n",
    "with open(filepath) as fp:\n",
    "    try: \n",
    "        data = [int(line.strip()) for line in fp]\n",
    "    finally:\n",
    "        fp.close()"
   ]
  },
  {
   "cell_type": "code",
   "execution_count": 81,
   "metadata": {
    "ExecuteTime": {
     "end_time": "2020-11-05T20:16:09.659328Z",
     "start_time": "2020-11-05T20:16:09.636052Z"
    }
   },
   "outputs": [],
   "source": [
    "def split(input_list:list)->(list, list):\n",
    "    '''\n",
    "        Split a list in two parts\n",
    "    '''\n",
    "    n = len(input_list)\n",
    "    return input_list[:n//2], input_list[n//2:]\n",
    "\n",
    "def swap_sort(A:list)->list:\n",
    "    '''\n",
    "        Sort a list of length 2 by comparing and swapping.\n",
    "    '''\n",
    "    output = [0,0]\n",
    "    if A[0] < A[1]:\n",
    "        output = [A[0],A[1]]\n",
    "    else:\n",
    "        output = [A[1],A[0]]\n",
    "    return output\n",
    "\n",
    "def merge(list1:list, list2:list, sortedL:list=[])->list:\n",
    "    '''\n",
    "        Merge by sorting two sorted input lists. \n",
    "    '''\n",
    "    if len(list1)==0 or len(list2)==0:\n",
    "        return sortedL + list1 if len(list2)==0 else sortedL + list2 \n",
    "    elif list1[0] < list2[0]:\n",
    "        return merge(list1[1:], list2, sortedL+[list1[0]])\n",
    "    else:\n",
    "        return merge(list1, list2[1:], sortedL+[list2[0]])\n",
    "\n",
    "def merge_sort(input_list:list)->list:\n",
    "    '''\n",
    "        Function to sort a list with merge sort paradigme with o(n * log(n) complexity).\n",
    "    '''\n",
    "    n = len(input_list)\n",
    "    first_half, second_half = split(input_list)\n",
    "    if n % 2 == 0:\n",
    "        if n//2 == 2:\n",
    "            first_half, second_half = swap_sort(first_half), swap_sort(second_half)\n",
    "        else:\n",
    "            first_half, second_half = merge_sort(first_half), merge_sort(second_half)\n",
    "    else:\n",
    "        # first_half is even and second_half is odd\n",
    "        if len(first_half) == 1:\n",
    "            second_half = swap_sort(second_half)\n",
    "        elif len(first_half) == 2:\n",
    "            first_half = swap_sort(first_half)\n",
    "            second_half = merge_sort(second_half)\n",
    "        else:\n",
    "            first_half, second_half = merge_sort(first_half), merge_sort(second_half)\n",
    "    return merge(first_half, second_half)\n",
    "\n",
    "def merge_and_count_inv(list1:list, list2:list, sortedL:list=[], count=0)->(list, int):\n",
    "    '''\n",
    "        Merge by sorting two sorted input lists. \n",
    "    '''\n",
    "    if len(list1)==0 or len(list2)==0:\n",
    "        return (sortedL + list1, count+len(list1)) if len(list2)==0 else (sortedL + list2, count) \n",
    "    elif list1[0] < list2[0]:\n",
    "        return merge_and_count_inv(list1[1:], list2, sortedL+[list1[0]], count=count)\n",
    "    else:\n",
    "        return merge_and_count_inv(list1, list2[1:], sortedL+[list2[0]], count=count+1)\n",
    "\n",
    "def count_inv(input_list:list)->list:\n",
    "    '''\n",
    "        Function to sort a list with merge sort paradigme with o(n * log(n) complexity).\n",
    "    '''\n",
    "    n = len(input_list)\n",
    "    first_half, second_half = split(input_list)\n",
    "    if n % 2 == 0:\n",
    "        if n//2 == 2:\n",
    "            first_half, second_half = swap_sort(first_half), swap_sort(second_half)\n",
    "        else:\n",
    "            first_half, second_half = merge_sort(first_half), merge_sort(second_half)\n",
    "    else:\n",
    "        # first_half is even and second_half is odd\n",
    "        if len(first_half) == 1:\n",
    "            second_half = swap_sort(second_half)\n",
    "        elif len(first_half) == 2:\n",
    "            first_half = swap_sort(first_half)\n",
    "            second_half = merge_sort(second_half)\n",
    "        else:\n",
    "            first_half, second_half = merge_sort(first_half), merge_sort(second_half)\n",
    "    output, count = merge_and_count_inv(first_half, second_half)\n",
    "    return output, count\n",
    "\n",
    "def sort_and_count(A:list)->int:\n",
    "    '''\n",
    "        Count the number of inversions in a list. \n",
    "    '''\n",
    "    n = len(A)\n",
    "    if n <= 2:\n",
    "        return 0    \n",
    "    else:\n",
    "        first_half, second_half = split(A)\n",
    "        X = sort_and_count(first_half) \n",
    "        Y = sort_and_count(second_half) \n",
    "        _, Z = count_inv(A)    \n",
    "    return X+Y+Z"
   ]
  },
  {
   "cell_type": "code",
   "execution_count": 77,
   "metadata": {
    "ExecuteTime": {
     "end_time": "2020-11-05T19:12:40.842743Z",
     "start_time": "2020-11-05T19:12:40.836397Z"
    }
   },
   "outputs": [],
   "source": [
    "list_ints = random.sample(range(0, 10), 8)\n",
    "a, b = list_ints[:len(list_ints)//2], list_ints[len(list_ints)//2:]"
   ]
  },
  {
   "cell_type": "code",
   "execution_count": 56,
   "metadata": {
    "ExecuteTime": {
     "end_time": "2020-11-05T17:18:08.851475Z",
     "start_time": "2020-11-05T17:18:08.838124Z"
    }
   },
   "outputs": [
    {
     "name": "stdout",
     "output_type": "stream",
     "text": [
      "[4, 2, 6, 7, 5, 1, 9, 0]\n"
     ]
    },
    {
     "data": {
      "text/plain": [
       "[0, 1, 2, 4, 5, 6, 7, 9]"
      ]
     },
     "execution_count": 56,
     "metadata": {},
     "output_type": "execute_result"
    }
   ],
   "source": [
    "print(list_ints)\n",
    "merge_sort(list_ints)"
   ]
  },
  {
   "cell_type": "code",
   "execution_count": 80,
   "metadata": {
    "ExecuteTime": {
     "end_time": "2020-11-05T20:15:56.721335Z",
     "start_time": "2020-11-05T20:15:53.797977Z"
    }
   },
   "outputs": [
    {
     "ename": "RecursionError",
     "evalue": "maximum recursion depth exceeded while calling a Python object",
     "output_type": "error",
     "traceback": [
      "\u001b[0;31m---------------------------------------------------------------------------\u001b[0m",
      "\u001b[0;31mRecursionError\u001b[0m                            Traceback (most recent call last)",
      "\u001b[0;32m<ipython-input-80-fb6a31dd9fe0>\u001b[0m in \u001b[0;36m<module>\u001b[0;34m\u001b[0m\n\u001b[0;32m----> 1\u001b[0;31m \u001b[0msort_and_count\u001b[0m\u001b[0;34m(\u001b[0m\u001b[0mX\u001b[0m\u001b[0;34m)\u001b[0m\u001b[0;34m\u001b[0m\u001b[0;34m\u001b[0m\u001b[0m\n\u001b[0m",
      "\u001b[0;32m<ipython-input-79-9143afb546b3>\u001b[0m in \u001b[0;36msort_and_count\u001b[0;34m(A)\u001b[0m\n\u001b[1;32m     93\u001b[0m     \u001b[0;32melse\u001b[0m\u001b[0;34m:\u001b[0m\u001b[0;34m\u001b[0m\u001b[0;34m\u001b[0m\u001b[0m\n\u001b[1;32m     94\u001b[0m         \u001b[0mfirst_half\u001b[0m\u001b[0;34m,\u001b[0m \u001b[0msecond_half\u001b[0m \u001b[0;34m=\u001b[0m \u001b[0msplit\u001b[0m\u001b[0;34m(\u001b[0m\u001b[0mA\u001b[0m\u001b[0;34m)\u001b[0m\u001b[0;34m\u001b[0m\u001b[0;34m\u001b[0m\u001b[0m\n\u001b[0;32m---> 95\u001b[0;31m         \u001b[0mX\u001b[0m \u001b[0;34m=\u001b[0m \u001b[0msort_and_count\u001b[0m\u001b[0;34m(\u001b[0m\u001b[0mfirst_half\u001b[0m\u001b[0;34m)\u001b[0m\u001b[0;34m\u001b[0m\u001b[0;34m\u001b[0m\u001b[0m\n\u001b[0m\u001b[1;32m     96\u001b[0m         \u001b[0mY\u001b[0m \u001b[0;34m=\u001b[0m \u001b[0msort_and_count\u001b[0m\u001b[0;34m(\u001b[0m\u001b[0msecond_half\u001b[0m\u001b[0;34m)\u001b[0m\u001b[0;34m\u001b[0m\u001b[0;34m\u001b[0m\u001b[0m\n\u001b[1;32m     97\u001b[0m         \u001b[0m_\u001b[0m\u001b[0;34m,\u001b[0m \u001b[0mZ\u001b[0m \u001b[0;34m=\u001b[0m \u001b[0mcount_inv\u001b[0m\u001b[0;34m(\u001b[0m\u001b[0mA\u001b[0m\u001b[0;34m)\u001b[0m\u001b[0;34m\u001b[0m\u001b[0;34m\u001b[0m\u001b[0m\n",
      "\u001b[0;32m<ipython-input-79-9143afb546b3>\u001b[0m in \u001b[0;36msort_and_count\u001b[0;34m(A)\u001b[0m\n\u001b[1;32m     94\u001b[0m         \u001b[0mfirst_half\u001b[0m\u001b[0;34m,\u001b[0m \u001b[0msecond_half\u001b[0m \u001b[0;34m=\u001b[0m \u001b[0msplit\u001b[0m\u001b[0;34m(\u001b[0m\u001b[0mA\u001b[0m\u001b[0;34m)\u001b[0m\u001b[0;34m\u001b[0m\u001b[0;34m\u001b[0m\u001b[0m\n\u001b[1;32m     95\u001b[0m         \u001b[0mX\u001b[0m \u001b[0;34m=\u001b[0m \u001b[0msort_and_count\u001b[0m\u001b[0;34m(\u001b[0m\u001b[0mfirst_half\u001b[0m\u001b[0;34m)\u001b[0m\u001b[0;34m\u001b[0m\u001b[0;34m\u001b[0m\u001b[0m\n\u001b[0;32m---> 96\u001b[0;31m         \u001b[0mY\u001b[0m \u001b[0;34m=\u001b[0m \u001b[0msort_and_count\u001b[0m\u001b[0;34m(\u001b[0m\u001b[0msecond_half\u001b[0m\u001b[0;34m)\u001b[0m\u001b[0;34m\u001b[0m\u001b[0;34m\u001b[0m\u001b[0m\n\u001b[0m\u001b[1;32m     97\u001b[0m         \u001b[0m_\u001b[0m\u001b[0;34m,\u001b[0m \u001b[0mZ\u001b[0m \u001b[0;34m=\u001b[0m \u001b[0mcount_inv\u001b[0m\u001b[0;34m(\u001b[0m\u001b[0mA\u001b[0m\u001b[0;34m)\u001b[0m\u001b[0;34m\u001b[0m\u001b[0;34m\u001b[0m\u001b[0m\n\u001b[1;32m     98\u001b[0m     \u001b[0;32mreturn\u001b[0m \u001b[0mX\u001b[0m\u001b[0;34m+\u001b[0m\u001b[0mY\u001b[0m\u001b[0;34m+\u001b[0m\u001b[0mZ\u001b[0m\u001b[0;34m\u001b[0m\u001b[0;34m\u001b[0m\u001b[0m\n",
      "\u001b[0;32m<ipython-input-79-9143afb546b3>\u001b[0m in \u001b[0;36msort_and_count\u001b[0;34m(A)\u001b[0m\n\u001b[1;32m     95\u001b[0m         \u001b[0mX\u001b[0m \u001b[0;34m=\u001b[0m \u001b[0msort_and_count\u001b[0m\u001b[0;34m(\u001b[0m\u001b[0mfirst_half\u001b[0m\u001b[0;34m)\u001b[0m\u001b[0;34m\u001b[0m\u001b[0;34m\u001b[0m\u001b[0m\n\u001b[1;32m     96\u001b[0m         \u001b[0mY\u001b[0m \u001b[0;34m=\u001b[0m \u001b[0msort_and_count\u001b[0m\u001b[0;34m(\u001b[0m\u001b[0msecond_half\u001b[0m\u001b[0;34m)\u001b[0m\u001b[0;34m\u001b[0m\u001b[0;34m\u001b[0m\u001b[0m\n\u001b[0;32m---> 97\u001b[0;31m         \u001b[0m_\u001b[0m\u001b[0;34m,\u001b[0m \u001b[0mZ\u001b[0m \u001b[0;34m=\u001b[0m \u001b[0mcount_inv\u001b[0m\u001b[0;34m(\u001b[0m\u001b[0mA\u001b[0m\u001b[0;34m)\u001b[0m\u001b[0;34m\u001b[0m\u001b[0;34m\u001b[0m\u001b[0m\n\u001b[0m\u001b[1;32m     98\u001b[0m     \u001b[0;32mreturn\u001b[0m \u001b[0mX\u001b[0m\u001b[0;34m+\u001b[0m\u001b[0mY\u001b[0m\u001b[0;34m+\u001b[0m\u001b[0mZ\u001b[0m\u001b[0;34m\u001b[0m\u001b[0;34m\u001b[0m\u001b[0m\n",
      "\u001b[0;32m<ipython-input-79-9143afb546b3>\u001b[0m in \u001b[0;36mcount_inv\u001b[0;34m(input_list)\u001b[0m\n\u001b[1;32m     71\u001b[0m             \u001b[0mfirst_half\u001b[0m\u001b[0;34m,\u001b[0m \u001b[0msecond_half\u001b[0m \u001b[0;34m=\u001b[0m \u001b[0mswap_sort\u001b[0m\u001b[0;34m(\u001b[0m\u001b[0mfirst_half\u001b[0m\u001b[0;34m)\u001b[0m\u001b[0;34m,\u001b[0m \u001b[0mswap_sort\u001b[0m\u001b[0;34m(\u001b[0m\u001b[0msecond_half\u001b[0m\u001b[0;34m)\u001b[0m\u001b[0;34m\u001b[0m\u001b[0;34m\u001b[0m\u001b[0m\n\u001b[1;32m     72\u001b[0m         \u001b[0;32melse\u001b[0m\u001b[0;34m:\u001b[0m\u001b[0;34m\u001b[0m\u001b[0;34m\u001b[0m\u001b[0m\n\u001b[0;32m---> 73\u001b[0;31m             \u001b[0mfirst_half\u001b[0m\u001b[0;34m,\u001b[0m \u001b[0msecond_half\u001b[0m \u001b[0;34m=\u001b[0m \u001b[0mmerge_sort\u001b[0m\u001b[0;34m(\u001b[0m\u001b[0mfirst_half\u001b[0m\u001b[0;34m)\u001b[0m\u001b[0;34m,\u001b[0m \u001b[0mmerge_sort\u001b[0m\u001b[0;34m(\u001b[0m\u001b[0msecond_half\u001b[0m\u001b[0;34m)\u001b[0m\u001b[0;34m\u001b[0m\u001b[0;34m\u001b[0m\u001b[0m\n\u001b[0m\u001b[1;32m     74\u001b[0m     \u001b[0;32melse\u001b[0m\u001b[0;34m:\u001b[0m\u001b[0;34m\u001b[0m\u001b[0;34m\u001b[0m\u001b[0m\n\u001b[1;32m     75\u001b[0m         \u001b[0;31m# first_half is even and second_half is odd\u001b[0m\u001b[0;34m\u001b[0m\u001b[0;34m\u001b[0m\u001b[0;34m\u001b[0m\u001b[0m\n",
      "\u001b[0;32m<ipython-input-79-9143afb546b3>\u001b[0m in \u001b[0;36mmerge_sort\u001b[0;34m(input_list)\u001b[0m\n\u001b[1;32m     47\u001b[0m             \u001b[0msecond_half\u001b[0m \u001b[0;34m=\u001b[0m \u001b[0mmerge_sort\u001b[0m\u001b[0;34m(\u001b[0m\u001b[0msecond_half\u001b[0m\u001b[0;34m)\u001b[0m\u001b[0;34m\u001b[0m\u001b[0;34m\u001b[0m\u001b[0m\n\u001b[1;32m     48\u001b[0m         \u001b[0;32melse\u001b[0m\u001b[0;34m:\u001b[0m\u001b[0;34m\u001b[0m\u001b[0;34m\u001b[0m\u001b[0m\n\u001b[0;32m---> 49\u001b[0;31m             \u001b[0mfirst_half\u001b[0m\u001b[0;34m,\u001b[0m \u001b[0msecond_half\u001b[0m \u001b[0;34m=\u001b[0m \u001b[0mmerge_sort\u001b[0m\u001b[0;34m(\u001b[0m\u001b[0mfirst_half\u001b[0m\u001b[0;34m)\u001b[0m\u001b[0;34m,\u001b[0m \u001b[0mmerge_sort\u001b[0m\u001b[0;34m(\u001b[0m\u001b[0msecond_half\u001b[0m\u001b[0;34m)\u001b[0m\u001b[0;34m\u001b[0m\u001b[0;34m\u001b[0m\u001b[0m\n\u001b[0m\u001b[1;32m     50\u001b[0m     \u001b[0;32mreturn\u001b[0m \u001b[0mmerge\u001b[0m\u001b[0;34m(\u001b[0m\u001b[0mfirst_half\u001b[0m\u001b[0;34m,\u001b[0m \u001b[0msecond_half\u001b[0m\u001b[0;34m)\u001b[0m\u001b[0;34m\u001b[0m\u001b[0;34m\u001b[0m\u001b[0m\n\u001b[1;32m     51\u001b[0m \u001b[0;34m\u001b[0m\u001b[0m\n",
      "\u001b[0;32m<ipython-input-79-9143afb546b3>\u001b[0m in \u001b[0;36mmerge_sort\u001b[0;34m(input_list)\u001b[0m\n\u001b[1;32m     38\u001b[0m             \u001b[0mfirst_half\u001b[0m\u001b[0;34m,\u001b[0m \u001b[0msecond_half\u001b[0m \u001b[0;34m=\u001b[0m \u001b[0mswap_sort\u001b[0m\u001b[0;34m(\u001b[0m\u001b[0mfirst_half\u001b[0m\u001b[0;34m)\u001b[0m\u001b[0;34m,\u001b[0m \u001b[0mswap_sort\u001b[0m\u001b[0;34m(\u001b[0m\u001b[0msecond_half\u001b[0m\u001b[0;34m)\u001b[0m\u001b[0;34m\u001b[0m\u001b[0;34m\u001b[0m\u001b[0m\n\u001b[1;32m     39\u001b[0m         \u001b[0;32melse\u001b[0m\u001b[0;34m:\u001b[0m\u001b[0;34m\u001b[0m\u001b[0;34m\u001b[0m\u001b[0m\n\u001b[0;32m---> 40\u001b[0;31m             \u001b[0mfirst_half\u001b[0m\u001b[0;34m,\u001b[0m \u001b[0msecond_half\u001b[0m \u001b[0;34m=\u001b[0m \u001b[0mmerge_sort\u001b[0m\u001b[0;34m(\u001b[0m\u001b[0mfirst_half\u001b[0m\u001b[0;34m)\u001b[0m\u001b[0;34m,\u001b[0m \u001b[0mmerge_sort\u001b[0m\u001b[0;34m(\u001b[0m\u001b[0msecond_half\u001b[0m\u001b[0;34m)\u001b[0m\u001b[0;34m\u001b[0m\u001b[0;34m\u001b[0m\u001b[0m\n\u001b[0m\u001b[1;32m     41\u001b[0m     \u001b[0;32melse\u001b[0m\u001b[0;34m:\u001b[0m\u001b[0;34m\u001b[0m\u001b[0;34m\u001b[0m\u001b[0m\n\u001b[1;32m     42\u001b[0m         \u001b[0;31m# first_half is even and second_half is odd\u001b[0m\u001b[0;34m\u001b[0m\u001b[0;34m\u001b[0m\u001b[0;34m\u001b[0m\u001b[0m\n",
      "... last 1 frames repeated, from the frame below ...\n",
      "\u001b[0;32m<ipython-input-79-9143afb546b3>\u001b[0m in \u001b[0;36mmerge_sort\u001b[0;34m(input_list)\u001b[0m\n\u001b[1;32m     38\u001b[0m             \u001b[0mfirst_half\u001b[0m\u001b[0;34m,\u001b[0m \u001b[0msecond_half\u001b[0m \u001b[0;34m=\u001b[0m \u001b[0mswap_sort\u001b[0m\u001b[0;34m(\u001b[0m\u001b[0mfirst_half\u001b[0m\u001b[0;34m)\u001b[0m\u001b[0;34m,\u001b[0m \u001b[0mswap_sort\u001b[0m\u001b[0;34m(\u001b[0m\u001b[0msecond_half\u001b[0m\u001b[0;34m)\u001b[0m\u001b[0;34m\u001b[0m\u001b[0;34m\u001b[0m\u001b[0m\n\u001b[1;32m     39\u001b[0m         \u001b[0;32melse\u001b[0m\u001b[0;34m:\u001b[0m\u001b[0;34m\u001b[0m\u001b[0;34m\u001b[0m\u001b[0m\n\u001b[0;32m---> 40\u001b[0;31m             \u001b[0mfirst_half\u001b[0m\u001b[0;34m,\u001b[0m \u001b[0msecond_half\u001b[0m \u001b[0;34m=\u001b[0m \u001b[0mmerge_sort\u001b[0m\u001b[0;34m(\u001b[0m\u001b[0mfirst_half\u001b[0m\u001b[0;34m)\u001b[0m\u001b[0;34m,\u001b[0m \u001b[0mmerge_sort\u001b[0m\u001b[0;34m(\u001b[0m\u001b[0msecond_half\u001b[0m\u001b[0;34m)\u001b[0m\u001b[0;34m\u001b[0m\u001b[0;34m\u001b[0m\u001b[0m\n\u001b[0m\u001b[1;32m     41\u001b[0m     \u001b[0;32melse\u001b[0m\u001b[0;34m:\u001b[0m\u001b[0;34m\u001b[0m\u001b[0;34m\u001b[0m\u001b[0m\n\u001b[1;32m     42\u001b[0m         \u001b[0;31m# first_half is even and second_half is odd\u001b[0m\u001b[0;34m\u001b[0m\u001b[0;34m\u001b[0m\u001b[0;34m\u001b[0m\u001b[0m\n",
      "\u001b[0;31mRecursionError\u001b[0m: maximum recursion depth exceeded while calling a Python object"
     ]
    }
   ],
   "source": [
    "sort_and_count(X)"
   ]
  },
  {
   "cell_type": "code",
   "execution_count": 65,
   "metadata": {
    "ExecuteTime": {
     "end_time": "2020-11-05T18:52:36.096935Z",
     "start_time": "2020-11-05T18:52:36.086080Z"
    }
   },
   "outputs": [
    {
     "data": {
      "text/plain": [
       "3"
      ]
     },
     "execution_count": 65,
     "metadata": {},
     "output_type": "execute_result"
    }
   ],
   "source": [
    "def count_inversions(a):\n",
    "    res = 0\n",
    "    counts = [0]*(len(a)+1)\n",
    "    rank = { v : i+1 for i, v in enumerate(sorted(a)) }\n",
    "    for x in reversed(a):\n",
    "        i = rank[x] - 1\n",
    "        while i:\n",
    "            res += counts[i]\n",
    "            i -= i & -i\n",
    "        i = rank[x]\n",
    "        while i <= len(a):\n",
    "            counts[i] += 1\n",
    "            i += i & -i\n",
    "    return res\n",
    "        \n",
    "X = [1, 3, 5, 2, 4, 6]\n",
    "count_inversions(X)        "
   ]
  },
  {
   "cell_type": "code",
   "execution_count": 59,
   "metadata": {
    "ExecuteTime": {
     "end_time": "2020-11-05T18:44:41.569370Z",
     "start_time": "2020-11-05T18:44:41.539320Z"
    }
   },
   "outputs": [
    {
     "name": "stdout",
     "output_type": "stream",
     "text": [
      "[2, 4, 6, 7]\n",
      "[0, 1, 5, 9]\n",
      "[0, 1, 2, 4, 5, 6, 7, 9]\n",
      "[0, 1, 2, 4, 5, 6, 7, 9]\n",
      "[0, 1, 2, 4, 5, 6, 7, 9]\n"
     ]
    }
   ],
   "source": [
    "a = sorted(a) \n",
    "b = sorted(b)\n",
    "print(a)\n",
    "print(b)\n",
    "print(sorted(a+b))\n",
    "print(mSort_T(a, b))\n",
    "print(merge_sort(a+b))"
   ]
  },
  {
   "cell_type": "code",
   "execution_count": 58,
   "metadata": {
    "ExecuteTime": {
     "end_time": "2020-11-05T17:38:31.776734Z",
     "start_time": "2020-11-05T17:38:31.748591Z"
    }
   },
   "outputs": [
    {
     "data": {
      "text/plain": [
       "[4, 2, 6, 7, 5, 1, 9, 0]"
      ]
     },
     "execution_count": 58,
     "metadata": {},
     "output_type": "execute_result"
    }
   ],
   "source": []
  },
  {
   "cell_type": "code",
   "execution_count": null,
   "metadata": {},
   "outputs": [],
   "source": []
  }
 ],
 "metadata": {
  "kernelspec": {
   "display_name": "Python 3",
   "language": "python",
   "name": "python3"
  },
  "language_info": {
   "codemirror_mode": {
    "name": "ipython",
    "version": 3
   },
   "file_extension": ".py",
   "mimetype": "text/x-python",
   "name": "python",
   "nbconvert_exporter": "python",
   "pygments_lexer": "ipython3",
   "version": "3.7.7"
  },
  "toc": {
   "base_numbering": 1,
   "nav_menu": {},
   "number_sections": true,
   "sideBar": true,
   "skip_h1_title": false,
   "title_cell": "Table of Contents",
   "title_sidebar": "Contents",
   "toc_cell": false,
   "toc_position": {},
   "toc_section_display": true,
   "toc_window_display": false
  },
  "varInspector": {
   "cols": {
    "lenName": 16,
    "lenType": 16,
    "lenVar": 40
   },
   "kernels_config": {
    "python": {
     "delete_cmd_postfix": "",
     "delete_cmd_prefix": "del ",
     "library": "var_list.py",
     "varRefreshCmd": "print(var_dic_list())"
    },
    "r": {
     "delete_cmd_postfix": ") ",
     "delete_cmd_prefix": "rm(",
     "library": "var_list.r",
     "varRefreshCmd": "cat(var_dic_list()) "
    }
   },
   "position": {
    "height": "604.85px",
    "left": "1402px",
    "right": "20px",
    "top": "113px",
    "width": "350px"
   },
   "types_to_exclude": [
    "module",
    "function",
    "builtin_function_or_method",
    "instance",
    "_Feature"
   ],
   "window_display": true
  }
 },
 "nbformat": 4,
 "nbformat_minor": 4
}
