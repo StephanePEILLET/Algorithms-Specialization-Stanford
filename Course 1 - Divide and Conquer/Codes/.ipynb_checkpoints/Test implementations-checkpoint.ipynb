{
 "cells": [
  {
   "cell_type": "markdown",
   "metadata": {},
   "source": [
    "# <center>Test implementations</center>"
   ]
  },
  {
   "cell_type": "markdown",
   "metadata": {},
   "source": [
    "## Week 1:"
   ]
  },
  {
   "cell_type": "markdown",
   "metadata": {},
   "source": [
    "### Karatsuba Multiplication"
   ]
  },
  {
   "cell_type": "code",
   "execution_count": null,
   "metadata": {
    "ExecuteTime": {
     "end_time": "2020-11-19T10:32:30.891340Z",
     "start_time": "2020-11-19T10:32:30.878472Z"
    }
   },
   "outputs": [],
   "source": [
    "from karatsuba import *\n",
    "\n",
    "# ac\n",
    "# bd\n",
    "# (a+b)(c+d) = (ac + ad + bc + bd)\n",
    "# (ac + ad + bc + bd) - ac - bd = ad + bc \n",
    "# 10^n * ac + (ad + bc) * 10^n/2 + bd \n",
    "\n",
    "print('Test 1:')\n",
    "verification_karatsuba(2468,11356)\n",
    "print('\\nTest 2:')\n",
    "verification_karatsuba(12341234, 56785678)\n",
    "print('\\nTest 3:')\n",
    "verification_karatsuba(3141592653589793238462643383279502884197169399375105820974944592, 2718281828459045235360287471352662497757247093699959574966967627)"
   ]
  },
  {
   "cell_type": "markdown",
   "metadata": {
    "ExecuteTime": {
     "end_time": "2020-08-04T16:44:15.970317Z",
     "start_time": "2020-08-04T16:44:15.966041Z"
    }
   },
   "source": [
    "### Merge Sort"
   ]
  },
  {
   "cell_type": "code",
   "execution_count": null,
   "metadata": {
    "ExecuteTime": {
     "end_time": "2020-11-19T10:33:07.010661Z",
     "start_time": "2020-11-19T10:33:06.999353Z"
    }
   },
   "outputs": [],
   "source": [
    "from mergesort import *\n",
    "\n",
    "print('Test 1:')\n",
    "input_list = [5,4,1,8,7,2,6,3]\n",
    "print('input:', input_list)\n",
    "print('result:', merge_sort(input_list))\n",
    "\n",
    "print('\\nTest 2:')\n",
    "input_list = [5,40,1,8,7,20,6,30]\n",
    "print('input:', input_list)\n",
    "print('result:', merge_sort(input_list))"
   ]
  },
  {
   "cell_type": "markdown",
   "metadata": {},
   "source": [
    "### Counting Inversion"
   ]
  },
  {
   "cell_type": "code",
   "execution_count": null,
   "metadata": {
    "ExecuteTime": {
     "end_time": "2020-11-19T11:06:11.821240Z",
     "start_time": "2020-11-19T11:06:11.624934Z"
    }
   },
   "outputs": [],
   "source": [
    "from counting_inversions import *\n",
    " \n",
    "print('Test 1:')\n",
    "input_list = [1, 3, 5, 2, 4, 6]\n",
    "print('input:', input_list)\n",
    "result, count = count_split_inv(input_list)\n",
    "print('result:', result, ' split inversions:', count)\n",
    "print('result:', sort_and_count(input_list))\n",
    "     \n",
    "print('\\nTest 2:')        \n",
    "input_list = [5,4,1,8,7,2,6,3]\n",
    "print('input:', input_list)\n",
    "result, count = count_split_inv(input_list)\n",
    "print('result:', result, ' split inversions:', count)\n",
    "print('result:', sort_and_count(input_list))\n",
    "\n",
    "print('\\nTest 3:')\n",
    "input_list = [5,40,1,8,7,20,6,30]\n",
    "print('input:', input_list)\n",
    "result, count = count_split_inv(input_list)\n",
    "print('result:', result, ' split inversions:', count)\n",
    "print('result:', sort_and_count(input_list))"
   ]
  },
  {
   "cell_type": "code",
   "execution_count": null,
   "metadata": {
    "ExecuteTime": {
     "end_time": "2020-11-19T10:44:19.384769Z",
     "start_time": "2020-11-19T10:44:19.343068Z"
    }
   },
   "outputs": [],
   "source": [
    "# Coursera Week 2 test\n",
    "import os\n",
    "filepath = os.path.join(os.getcwd(),'data.txt')\n",
    "\n",
    "file = open(filepath,'r')\n",
    "data= list(map(int,file.read().split('\\n')[:-1]))\n",
    "file.close()\n",
    "        \n",
    "print(f'Head of input: {data[:10]} ...')\n",
    "print(f'Length : {len(data)}')"
   ]
  },
  {
   "cell_type": "code",
   "execution_count": null,
   "metadata": {},
   "outputs": [],
   "source": []
  },
  {
   "cell_type": "code",
   "execution_count": 2,
   "metadata": {
    "ExecuteTime": {
     "end_time": "2020-11-19T19:27:06.334025Z",
     "start_time": "2020-11-19T19:27:06.310341Z"
    }
   },
   "outputs": [
    {
     "data": {
      "text/plain": [
       "\"\\n\\nints = open(filepath,'r')\\nints_list = list(map(int,ints.read().split('\\n')[:-1]))\\nints.close()\\n\\nprint(merge_sort_and_count_inversions(ints_list))\\nprint(inversions)\\n\\n\""
      ]
     },
     "execution_count": 2,
     "metadata": {},
     "output_type": "execute_result"
    }
   ],
   "source": [
    "inversions = 0\n",
    "def merge_and_count_inversions(left , right):\n",
    "    global inversions\n",
    "    count = 0 \n",
    "    i=0\n",
    "    j=0\n",
    "    result = []\n",
    "    inversions_indicies = []\n",
    "    while i < len(left) and j <len(right):\n",
    "        if right[j]<left[i]:\n",
    "            result.append(right[j])\n",
    "            j +=1\n",
    "            if j  not in inversions_indicies:\n",
    "                inversions_indicies.append(j)\n",
    "                inversions += len(left) - i  \n",
    "                count += len(left) - i  \n",
    "        else:\n",
    "            result.append(left[i])\n",
    "            i += 1\n",
    "    while i <len(left):\n",
    "        result.append(left[i])\n",
    "        i += 1\n",
    "        if j  not in inversions_indicies:\n",
    "                inversions_indicies.append(j)\n",
    "                inversions += len(left) - i  \n",
    "                count = len(left) - i  \n",
    "                \n",
    "    while j <len(right):\n",
    "        result.append(right[j])\n",
    "        j += 1\n",
    "        \n",
    "    return result, count\n",
    "    \n",
    "def merge_sort_and_count_inversions(ints_list):\n",
    "    if len(ints_list) < 2:\n",
    "        return ints_list[:]\n",
    "    else:\n",
    "        middle =len(ints_list)//2\n",
    "        left = merge_sort_and_count_inversions(ints_list[:middle])\n",
    "        right= merge_sort_and_count_inversions(ints_list[middle:])\n",
    "        return merge_and_count_inversions(left,right)\n",
    "'''\n",
    "\n",
    "ints = open(filepath,'r')\n",
    "ints_list = list(map(int,ints.read().split('\\n')[:-1]))\n",
    "ints.close()\n",
    "\n",
    "print(merge_sort_and_count_inversions(ints_list))\n",
    "print(inversions)\n",
    "\n",
    "'''"
   ]
  },
  {
   "cell_type": "code",
   "execution_count": null,
   "metadata": {},
   "outputs": [],
   "source": [
    "print('Test 1:')\n",
    "input_list = [1, 3, 5, 2, 4, 6]\n",
    "print('input:', input_list)\n",
    "result, count = count_split_inv(input_list)\n",
    "print('result:', result, ' split inversions:', count)\n",
    "print('result:', sort_and_count(input_list))\n",
    "     \n",
    "print('\\nTest 2:')        \n",
    "input_list = [5,4,1,8,7,2,6,3]\n",
    "print('input:', input_list)\n",
    "result, count = count_split_inv(input_list)\n",
    "print('result:', result, ' split inversions:', count)\n",
    "print('result:', sort_and_count(input_list))\n",
    "\n",
    "print('\\nTest 3:')\n",
    "input_list = [5,40,1,8,7,20,6,30]\n",
    "print('input:', input_list)\n",
    "result, count = count_split_inv(input_list)\n",
    "print('result:', result, ' split inversions:', count)\n",
    "print('result:', sort_and_count(input_list))"
   ]
  },
  {
   "cell_type": "markdown",
   "metadata": {},
   "source": [
    "## Week 2:"
   ]
  },
  {
   "cell_type": "code",
   "execution_count": null,
   "metadata": {},
   "outputs": [],
   "source": []
  },
  {
   "cell_type": "markdown",
   "metadata": {},
   "source": [
    "### Strassen's Subcubic Matrix Multiplication Algorithm"
   ]
  },
  {
   "cell_type": "code",
   "execution_count": null,
   "metadata": {},
   "outputs": [],
   "source": []
  },
  {
   "cell_type": "code",
   "execution_count": null,
   "metadata": {},
   "outputs": [],
   "source": []
  },
  {
   "cell_type": "markdown",
   "metadata": {},
   "source": [
    "### Closest Pair Algorithm in O(n * log(n)) "
   ]
  },
  {
   "cell_type": "code",
   "execution_count": null,
   "metadata": {},
   "outputs": [],
   "source": []
  },
  {
   "cell_type": "code",
   "execution_count": null,
   "metadata": {},
   "outputs": [],
   "source": []
  },
  {
   "cell_type": "markdown",
   "metadata": {},
   "source": [
    "## Week 3:"
   ]
  },
  {
   "cell_type": "code",
   "execution_count": null,
   "metadata": {},
   "outputs": [],
   "source": []
  }
 ],
 "metadata": {
  "kernelspec": {
   "display_name": "Python 3",
   "language": "python",
   "name": "python3"
  },
  "language_info": {
   "codemirror_mode": {
    "name": "ipython",
    "version": 3
   },
   "file_extension": ".py",
   "mimetype": "text/x-python",
   "name": "python",
   "nbconvert_exporter": "python",
   "pygments_lexer": "ipython3",
   "version": "3.7.7"
  },
  "toc": {
   "base_numbering": 1,
   "nav_menu": {},
   "number_sections": true,
   "sideBar": true,
   "skip_h1_title": true,
   "title_cell": "Table of Contents",
   "title_sidebar": "Contents",
   "toc_cell": false,
   "toc_position": {
    "height": "calc(100% - 180px)",
    "left": "10px",
    "top": "150px",
    "width": "336px"
   },
   "toc_section_display": true,
   "toc_window_display": false
  },
  "varInspector": {
   "cols": {
    "lenName": 16,
    "lenType": 16,
    "lenVar": 40
   },
   "kernels_config": {
    "python": {
     "delete_cmd_postfix": "",
     "delete_cmd_prefix": "del ",
     "library": "var_list.py",
     "varRefreshCmd": "print(var_dic_list())"
    },
    "r": {
     "delete_cmd_postfix": ") ",
     "delete_cmd_prefix": "rm(",
     "library": "var_list.r",
     "varRefreshCmd": "cat(var_dic_list()) "
    }
   },
   "types_to_exclude": [
    "module",
    "function",
    "builtin_function_or_method",
    "instance",
    "_Feature"
   ],
   "window_display": false
  }
 },
 "nbformat": 4,
 "nbformat_minor": 4
}
