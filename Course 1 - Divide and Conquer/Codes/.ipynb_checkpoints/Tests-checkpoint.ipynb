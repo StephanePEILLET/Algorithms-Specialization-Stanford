{
 "cells": [
  {
   "cell_type": "markdown",
   "metadata": {},
   "source": [
    "# <center>Tests</center>"
   ]
  },
  {
   "cell_type": "markdown",
   "metadata": {},
   "source": [
    "## Divide and Conquer Algorithms"
   ]
  },
  {
   "cell_type": "markdown",
   "metadata": {},
   "source": [
    "### Karatsuba Multiplication"
   ]
  },
  {
   "cell_type": "code",
   "execution_count": 1,
   "metadata": {
    "ExecuteTime": {
     "end_time": "2020-11-26T01:06:20.174322Z",
     "start_time": "2020-11-26T01:06:20.155468Z"
    }
   },
   "outputs": [
    {
     "name": "stdout",
     "output_type": "stream",
     "text": [
      "Test 1:\n",
      "Multiplication of x: 2468 and y: 11356.\n",
      "- Karatsuba: 28026608\n",
      "- Native   : 28026608\n",
      "Same result !\n",
      "\n",
      "Test 2:\n",
      "Multiplication of x: 12341234 and y: 56785678.\n",
      "- Karatsuba: 700805340046652\n",
      "- Native   : 700805340046652\n",
      "Same result !\n",
      "\n",
      "Test 3:\n",
      "Multiplication of x: 3141592653589793238462643383279502884197169399375105820974944592 and y: 2718281828459045235360287471352662497757247093699959574966967627.\n",
      "- Karatsuba: 8539734222673567065463550869546574495034888535765114961879601127067743044893204848617875072216249073013374895871952806582723184\n",
      "- Native   : 8539734222673567065463550869546574495034888535765114961879601127067743044893204848617875072216249073013374895871952806582723184\n",
      "Same result !\n"
     ]
    }
   ],
   "source": [
    "from karatsuba import *\n",
    "\n",
    "# ac\n",
    "# bd\n",
    "# (a+b)(c+d) = (ac + ad + bc + bd)\n",
    "# (ac + ad + bc + bd) - ac - bd = ad + bc \n",
    "# 10^n * ac + (ad + bc) * 10^n/2 + bd \n",
    "\n",
    "print('Test 1:')\n",
    "verification_karatsuba(2468,11356)\n",
    "print('\\nTest 2:')\n",
    "verification_karatsuba(12341234, 56785678)\n",
    "print('\\nTest 3:')\n",
    "verification_karatsuba(3141592653589793238462643383279502884197169399375105820974944592, 2718281828459045235360287471352662497757247093699959574966967627)"
   ]
  },
  {
   "cell_type": "markdown",
   "metadata": {
    "ExecuteTime": {
     "end_time": "2020-08-04T16:44:15.970317Z",
     "start_time": "2020-08-04T16:44:15.966041Z"
    }
   },
   "source": [
    "### Merge Sort"
   ]
  },
  {
   "cell_type": "code",
   "execution_count": 2,
   "metadata": {
    "ExecuteTime": {
     "end_time": "2020-11-26T01:06:20.927407Z",
     "start_time": "2020-11-26T01:06:20.915681Z"
    }
   },
   "outputs": [
    {
     "name": "stdout",
     "output_type": "stream",
     "text": [
      "Test 1:\n",
      "input: [5, 4, 1, 8, 7, 2, 6, 3]\n",
      "result: [1, 2, 3, 4, 5, 6, 7, 8]\n",
      "\n",
      "Test 2:\n",
      "input: [5, 40, 1, 8, 7, 20, 6, 30]\n",
      "result: [1, 5, 6, 7, 8, 20, 30, 40]\n"
     ]
    }
   ],
   "source": [
    "from mergesort import *\n",
    "\n",
    "print('Test 1:')\n",
    "input_list = [5,4,1,8,7,2,6,3]\n",
    "print('input:', input_list)\n",
    "print('result:', mergeSort(input_list))\n",
    "\n",
    "print('\\nTest 2:')\n",
    "input_list = [5,40,1,8,7,20,6,30]\n",
    "print('input:', input_list)\n",
    "print('result:', mergeSort(input_list))"
   ]
  },
  {
   "cell_type": "markdown",
   "metadata": {},
   "source": [
    "### Counting Inversion"
   ]
  },
  {
   "cell_type": "code",
   "execution_count": 3,
   "metadata": {
    "ExecuteTime": {
     "end_time": "2020-11-26T01:06:21.451925Z",
     "start_time": "2020-11-26T01:06:21.436975Z"
    }
   },
   "outputs": [
    {
     "name": "stdout",
     "output_type": "stream",
     "text": [
      "Test 1:\n",
      "input: [1, 3, 5, 2, 4, 6]\n",
      "Number of inversions : 3\n",
      "Inversion pairs:  [(2, 3), (2, 5), (4, 5)]\n",
      "result: [1, 2, 3, 4, 5, 6]  Nbr inversions: 3\n",
      "\n",
      "Test 2:\n",
      "input: [5, 4, 1, 8, 7, 2, 6, 3]\n",
      "Number of inversions : 8\n",
      "Inversion pairs:  [(2, 4), (2, 5), (2, 8), (3, 4), (3, 5), (3, 8), (6, 8), (7, 8)]\n",
      "result: [1, 2, 3, 4, 5, 6, 7, 8]  Nbr inversions: 15\n",
      "\n",
      "Test 3:\n",
      "input: [5, 40, 1, 8, 7, 20, 6, 30]\n",
      "Number of inversions : 6\n",
      "Inversion pairs:  [(6, 8), (6, 40), (7, 8), (7, 40), (20, 40), (30, 40)]\n",
      "result: [1, 5, 6, 7, 8, 20, 30, 40]  Nbr inversions: 11\n"
     ]
    }
   ],
   "source": [
    "from counting_inversions import *\n",
    " \n",
    "print('Test 1:')\n",
    "input_list = [1, 3, 5, 2, 4, 6]\n",
    "print('input:', input_list)\n",
    "result, count = sort_and_count(input_list, verbose=True)\n",
    "print('result:', result, ' Nbr inversions:', count)\n",
    "     \n",
    "print('\\nTest 2:')        \n",
    "input_list = [5,4,1,8,7,2,6,3]\n",
    "print('input:', input_list)\n",
    "result, count = sort_and_count(input_list, verbose=True)\n",
    "print('result:', result, ' Nbr inversions:', count)\n",
    "\n",
    "print('\\nTest 3:')\n",
    "input_list = [5,40,1,8,7,20,6,30]\n",
    "print('input:', input_list)\n",
    "result, count = sort_and_count(input_list, verbose=True)\n",
    "print('result:', result, ' Nbr inversions:', count)"
   ]
  },
  {
   "cell_type": "code",
   "execution_count": 4,
   "metadata": {
    "ExecuteTime": {
     "end_time": "2020-11-26T01:06:22.501216Z",
     "start_time": "2020-11-26T01:06:21.701852Z"
    }
   },
   "outputs": [
    {
     "name": "stdout",
     "output_type": "stream",
     "text": [
      "Head of input: [54044, 14108, 79294, 29649, 25260, 60660, 2995, 53777, 49689, 9083] ...\n",
      "Length : 100000\n"
     ]
    },
    {
     "data": {
      "text/plain": [
       "2407905288"
      ]
     },
     "execution_count": 4,
     "metadata": {},
     "output_type": "execute_result"
    }
   ],
   "source": [
    "import os\n",
    "filepath = os.path.join(os.getcwd(),'../Data/IntegerArray.txt')\n",
    "\n",
    "file = open(filepath,'r')\n",
    "data= list(map(int,file.read().split('\\n')[:-1]))\n",
    "file.close()\n",
    "        \n",
    "print(f'Head of input: {data[:10]} ...')\n",
    "print(f'Length : {len(data)}')\n",
    "\n",
    "sort_and_count(data)[1]"
   ]
  },
  {
   "cell_type": "markdown",
   "metadata": {},
   "source": [
    "## Randomized Algorithms"
   ]
  },
  {
   "cell_type": "markdown",
   "metadata": {},
   "source": [
    "### Quick Sort"
   ]
  },
  {
   "cell_type": "code",
   "execution_count": 5,
   "metadata": {
    "ExecuteTime": {
     "end_time": "2020-11-26T01:06:24.305520Z",
     "start_time": "2020-11-26T01:06:24.296384Z"
    }
   },
   "outputs": [
    {
     "name": "stdout",
     "output_type": "stream",
     "text": [
      "[9, 5, 2, 8, 3, 7, 1, 6, 4, 0]\n",
      "[0, 1, 2, 3, 4, 5, 6, 7, 8, 9]\n"
     ]
    }
   ],
   "source": [
    "from quicksort import *\n",
    "\n",
    "inputs = [9,5,2,8,3,7,1,6,4,0]\n",
    "\n",
    "print(inputs)\n",
    "print(quicksort(inputs))"
   ]
  },
  {
   "cell_type": "code",
   "execution_count": null,
   "metadata": {},
   "outputs": [],
   "source": [
    "return "
   ]
  },
  {
   "cell_type": "code",
   "execution_count": 151,
   "metadata": {
    "ExecuteTime": {
     "end_time": "2020-11-26T16:41:22.933391Z",
     "start_time": "2020-11-26T16:41:22.915489Z"
    }
   },
   "outputs": [],
   "source": [
    "def median_of_three(inputs):\n",
    "    points = [inputs[0], inputs[(len(inputs)-1)//2], inputs[-1]]\n",
    "    points.remove(min(points))\n",
    "    return inputs.index(min(points))\n",
    "\n",
    "def choose_pivot(inputs:list, select_pivot:str='random')->int:\n",
    "    '''\n",
    "        Return the indice of a randomly selected pivot from the input list.\n",
    "    '''\n",
    "    if select_pivot == 'median_of_three':\n",
    "        return median_of_three(inputs)\n",
    "    elif select_pivot == 'first':\n",
    "        return 0 # first element of the list\n",
    "    elif select_pivot == 'last':\n",
    "        return len(inputs)-1\n",
    "    elif select_pivot == 'median':\n",
    "        import numpy as np\n",
    "        return int(np.argwhere(inputs == np.percentile(inputs, 50, interpolation='nearest'))) # use the position of the median\n",
    "    else:\n",
    "        import random\n",
    "        return random.choice(range(len(inputs))) # choose randomly \n",
    "\n",
    "def partition(inputs:list, idx_pivot:int)->(list, int):\n",
    "    '''\n",
    "        Partition an input list with a selected pivot.\n",
    "    '''\n",
    "    pivot = inputs[idx_pivot]\n",
    "    inputs[idx_pivot], inputs[0] = inputs[0], inputs[idx_pivot] \n",
    "    i = 1 \n",
    "    for j in range(1,len(inputs)):\n",
    "        if inputs[j] < pivot:\n",
    "            inputs[i], inputs[j] = inputs[j], inputs[i] \n",
    "            i+= 1 \n",
    "    inputs[0], inputs[i-1] = inputs[i-1], inputs[0] \n",
    "    return inputs, i-1 \n",
    "\n",
    "def quicksort(inputs:list, select_pivot:str='random')->list:\n",
    "    '''\n",
    "        Sort an algorithm with the quicksort paradigm.\n",
    "    '''  \n",
    "    n = len(inputs)\n",
    "    if n < 1:\n",
    "        return inputs\n",
    "    else:\n",
    "        idx_pivot = choose_pivot(inputs, select_pivot)\n",
    "        inputs, idx_pivot = partition(inputs, idx_pivot) \n",
    "        inputs[:idx_pivot] = quicksort(inputs[:idx_pivot])        \n",
    "        inputs[idx_pivot+1:] = quicksort(inputs[idx_pivot+1:])\n",
    "        return inputs"
   ]
  },
  {
   "cell_type": "code",
   "execution_count": 152,
   "metadata": {
    "ExecuteTime": {
     "end_time": "2020-11-26T16:41:30.251132Z",
     "start_time": "2020-11-26T16:41:30.243318Z"
    }
   },
   "outputs": [],
   "source": [
    "def quicksort_with_count(inputs:list, select_pivot:str='random')->(list, int):\n",
    "    '''\n",
    "        Sort an algorithm with the quicksort paradigm.\n",
    "    '''  \n",
    "    n = len(inputs)\n",
    "    count = n-1\n",
    "    if n < 1:\n",
    "        return inputs, 0\n",
    "    else:\n",
    "        idx_pivot = choose_pivot(inputs, select_pivot=select_pivot)\n",
    "        inputs, idx_pivot = partition(inputs, idx_pivot)\n",
    "        inputs[:idx_pivot], c1 = quicksort_with_count(inputs[:idx_pivot])\n",
    "        inputs[idx_pivot+1:], c2 = quicksort_with_count(inputs[idx_pivot+1:])\n",
    "        count += (c1+c2)\n",
    "        return inputs, count"
   ]
  },
  {
   "cell_type": "code",
   "execution_count": 162,
   "metadata": {
    "ExecuteTime": {
     "end_time": "2020-11-26T16:44:56.250421Z",
     "start_time": "2020-11-26T16:44:55.995988Z"
    }
   },
   "outputs": [
    {
     "name": "stdout",
     "output_type": "stream",
     "text": [
      "Head of input: [2148, 9058, 7742, 3153, 6324, 609, 7628, 5469, 7017, 504] ...\n",
      "Length : 10000\n",
      "Number of comparison with selecting the first element as pivot: 148831\n",
      "Number of comparison with selecting the last element as pivot: 165070\n",
      "Number of comparison with selecting the median_of_three as pivot: 159382\n"
     ]
    }
   ],
   "source": [
    "def load_data(path_file:str, verbose=False)->None:\n",
    "    '''\n",
    "        Load .txt file content in a list and cast each element.\n",
    "    '''\n",
    "    import os\n",
    "    filepath = os.path.join(os.getcwd(), path_file)\n",
    "\n",
    "    file = open(filepath,'r')\n",
    "    data= list(map(int,file.read().split('\\n')[:-1]))\n",
    "    file.close()\n",
    "    \n",
    "    if verbose:\n",
    "        print(f'Head of input: {data[:10]} ...')\n",
    "        print(f'Length : {len(data)}')\n",
    "    return data\n",
    "\n",
    "data = load_data('../Data/Quicksort.txt', verbose=True)\n",
    "result, count = quicksort_with_count(data, select_pivot='first')\n",
    "print('Number of comparison with selecting the first element as pivot:', count)\n",
    "\n",
    "data = load_data('../Data/Quicksort.txt')\n",
    "result, count = quicksort_with_count(data, select_pivot='last')\n",
    "print('Number of comparison with selecting the last element as pivot:', count)\n",
    "\n",
    "data = load_data('../Data/Quicksort.txt')\n",
    "result, count = quicksort_with_count(data, select_pivot='median_of_three')\n",
    "print('Number of comparison with selecting the median_of_three as pivot:', count)"
   ]
  },
  {
   "cell_type": "markdown",
   "metadata": {},
   "source": [
    "### Karger's Minimum Cut Algorithm"
   ]
  },
  {
   "cell_type": "code",
   "execution_count": null,
   "metadata": {
    "ExecuteTime": {
     "end_time": "2020-11-23T06:36:02.665630Z",
     "start_time": "2020-11-23T06:36:02.568204Z"
    }
   },
   "outputs": [],
   "source": []
  },
  {
   "cell_type": "code",
   "execution_count": null,
   "metadata": {
    "ExecuteTime": {
     "end_time": "2020-11-21T12:45:14.572905Z",
     "start_time": "2020-11-21T12:45:14.565629Z"
    }
   },
   "outputs": [],
   "source": []
  },
  {
   "cell_type": "code",
   "execution_count": null,
   "metadata": {},
   "outputs": [],
   "source": []
  }
 ],
 "metadata": {
  "kernelspec": {
   "display_name": "Python 3",
   "language": "python",
   "name": "python3"
  },
  "language_info": {
   "codemirror_mode": {
    "name": "ipython",
    "version": 3
   },
   "file_extension": ".py",
   "mimetype": "text/x-python",
   "name": "python",
   "nbconvert_exporter": "python",
   "pygments_lexer": "ipython3",
   "version": "3.7.7"
  },
  "toc": {
   "base_numbering": 1,
   "nav_menu": {},
   "number_sections": true,
   "sideBar": true,
   "skip_h1_title": true,
   "title_cell": "Table of Contents",
   "title_sidebar": "Contents",
   "toc_cell": false,
   "toc_position": {
    "height": "calc(100% - 180px)",
    "left": "10px",
    "top": "150px",
    "width": "336px"
   },
   "toc_section_display": true,
   "toc_window_display": false
  },
  "varInspector": {
   "cols": {
    "lenName": 16,
    "lenType": 16,
    "lenVar": 40
   },
   "kernels_config": {
    "python": {
     "delete_cmd_postfix": "",
     "delete_cmd_prefix": "del ",
     "library": "var_list.py",
     "varRefreshCmd": "print(var_dic_list())"
    },
    "r": {
     "delete_cmd_postfix": ") ",
     "delete_cmd_prefix": "rm(",
     "library": "var_list.r",
     "varRefreshCmd": "cat(var_dic_list()) "
    }
   },
   "position": {
    "height": "831.85px",
    "left": "1310px",
    "right": "20px",
    "top": "120px",
    "width": "350px"
   },
   "types_to_exclude": [
    "module",
    "function",
    "builtin_function_or_method",
    "instance",
    "_Feature"
   ],
   "window_display": false
  }
 },
 "nbformat": 4,
 "nbformat_minor": 4
}
