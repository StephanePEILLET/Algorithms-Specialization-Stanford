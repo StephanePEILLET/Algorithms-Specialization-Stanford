{
 "cells": [
  {
   "cell_type": "markdown",
   "metadata": {},
   "source": [
    "## Divide and Conquer Algorithms"
   ]
  },
  {
   "cell_type": "code",
   "execution_count": 31,
   "metadata": {
    "ExecuteTime": {
     "end_time": "2020-11-30T16:03:15.508522Z",
     "start_time": "2020-11-30T16:03:15.499964Z"
    }
   },
   "outputs": [],
   "source": [
    "import os\n",
    "filepath = os.path.join(os.getcwd(), path_file)\n",
    "\n",
    "file = open(filepath,'r')\n",
    "data= list(map(lambda x: int(x),file.read().split('\\n')[:-1]))\n",
    "file.close()"
   ]
  },
  {
   "cell_type": "markdown",
   "metadata": {},
   "source": [
    "### Karatsuba Multiplication\n",
    "<img src=\"Images/Karatsuba1.png\" width=\"500\"/>\n",
    "<img src=\"Images/Karatsuba2.png\" width=\"500\"/>"
   ]
  },
  {
   "cell_type": "code",
   "execution_count": 55,
   "metadata": {
    "ExecuteTime": {
     "end_time": "2020-11-27T15:17:59.276532Z",
     "start_time": "2020-11-27T15:17:59.264484Z"
    }
   },
   "outputs": [
    {
     "name": "stdout",
     "output_type": "stream",
     "text": [
      "Test 1:\n",
      "Multiplication of x: 2468 and y: 11356.\n",
      "- Karatsuba: 28026608\n",
      "- Native   : 28026608\n",
      "Same result !\n",
      "\n",
      "Test 2:\n",
      "Multiplication of x: 12341234 and y: 56785678.\n",
      "- Karatsuba: 700805340046652\n",
      "- Native   : 700805340046652\n",
      "Same result !\n",
      "\n",
      "Test 3:\n",
      "Multiplication of x: 3141592653589793238462643383279502884197169399375105820974944592 and y: 2718281828459045235360287471352662497757247093699959574966967627.\n",
      "- Karatsuba: 8539734222673567065463550869546574495034888535765114961879601127067743044893204848617875072216249073013374895871952806582723184\n",
      "- Native   : 8539734222673567065463550869546574495034888535765114961879601127067743044893204848617875072216249073013374895871952806582723184\n",
      "Same result !\n"
     ]
    }
   ],
   "source": [
    "from karatsuba import *\n",
    "\n",
    "# ac\n",
    "# bd\n",
    "# (a+b)(c+d) = (ac + ad + bc + bd)\n",
    "# (ac + ad + bc + bd) - ac - bd = ad + bc \n",
    "# 10^n * ac + (ad + bc) * 10^n/2 + bd \n",
    "\n",
    "print('Test 1:')\n",
    "verification_karatsuba(2468,11356)\n",
    "print('\\nTest 2:')\n",
    "verification_karatsuba(12341234, 56785678)\n",
    "print('\\nTest 3:')\n",
    "verification_karatsuba(3141592653589793238462643383279502884197169399375105820974944592, 2718281828459045235360287471352662497757247093699959574966967627)"
   ]
  },
  {
   "cell_type": "markdown",
   "metadata": {
    "ExecuteTime": {
     "end_time": "2020-08-04T16:44:15.970317Z",
     "start_time": "2020-08-04T16:44:15.966041Z"
    }
   },
   "source": [
    "### Merge Sort\n",
    "<img src=\"Images/mergesort1.png\" width=\"400\"/>\n",
    "<img src=\"Images/mergesort2.png\" width=\"400\"/>"
   ]
  },
  {
   "cell_type": "code",
   "execution_count": 56,
   "metadata": {
    "ExecuteTime": {
     "end_time": "2020-11-27T15:17:59.690827Z",
     "start_time": "2020-11-27T15:17:59.680475Z"
    }
   },
   "outputs": [
    {
     "name": "stdout",
     "output_type": "stream",
     "text": [
      "Test 1:\n",
      "input: [5, 4, 1, 8, 7, 2, 6, 3]\n",
      "result: [1, 2, 3, 4, 5, 6, 7, 8]\n",
      "\n",
      "Test 2:\n",
      "input: [5, 40, 1, 8, 7, 20, 6, 30]\n",
      "result: [1, 5, 6, 7, 8, 20, 30, 40]\n"
     ]
    }
   ],
   "source": [
    "from mergesort import *\n",
    "\n",
    "print('Test 1:')\n",
    "input_list = [5,4,1,8,7,2,6,3]\n",
    "print('input:', input_list)\n",
    "print('result:', mergeSort(input_list))\n",
    "\n",
    "print('\\nTest 2:')\n",
    "input_list = [5,40,1,8,7,20,6,30]\n",
    "print('input:', input_list)\n",
    "print('result:', mergeSort(input_list))"
   ]
  },
  {
   "cell_type": "markdown",
   "metadata": {},
   "source": [
    "### Counting Inversion\n",
    "<img src=\"Images/countingInversions1.png\" width=\"600\"/>\n",
    "<img src=\"Images/countingInversions2.png\" width=\"600\"/>"
   ]
  },
  {
   "cell_type": "code",
   "execution_count": 57,
   "metadata": {
    "ExecuteTime": {
     "end_time": "2020-11-27T15:18:00.143874Z",
     "start_time": "2020-11-27T15:18:00.129154Z"
    }
   },
   "outputs": [
    {
     "name": "stdout",
     "output_type": "stream",
     "text": [
      "Test 1:\n",
      "input: [1, 3, 5, 2, 4, 6]\n",
      "Number of inversions : 3\n",
      "Inversion pairs:  [(2, 3), (2, 5), (4, 5)]\n",
      "result: [1, 2, 3, 4, 5, 6]  Nbr inversions: 3\n",
      "\n",
      "Test 2:\n",
      "input: [5, 4, 1, 8, 7, 2, 6, 3]\n",
      "Number of inversions : 8\n",
      "Inversion pairs:  [(2, 4), (2, 5), (2, 8), (3, 4), (3, 5), (3, 8), (6, 8), (7, 8)]\n",
      "result: [1, 2, 3, 4, 5, 6, 7, 8]  Nbr inversions: 15\n",
      "\n",
      "Test 3:\n",
      "input: [5, 40, 1, 8, 7, 20, 6, 30]\n",
      "Number of inversions : 6\n",
      "Inversion pairs:  [(6, 8), (6, 40), (7, 8), (7, 40), (20, 40), (30, 40)]\n",
      "result: [1, 5, 6, 7, 8, 20, 30, 40]  Nbr inversions: 11\n"
     ]
    }
   ],
   "source": [
    "from counting_inversions import *\n",
    "\n",
    "print('Test 1:')\n",
    "input_list = [1, 3, 5, 2, 4, 6]\n",
    "print('input:', input_list)\n",
    "result, count = sort_and_count(input_list, verbose=True)\n",
    "print('result:', result, ' Nbr inversions:', count)\n",
    "\n",
    "print('\\nTest 2:')        \n",
    "input_list = [5,4,1,8,7,2,6,3]\n",
    "print('input:', input_list)\n",
    "result, count = sort_and_count(input_list, verbose=True)\n",
    "print('result:', result, ' Nbr inversions:', count)\n",
    "\n",
    "print('\\nTest 3:')\n",
    "input_list = [5,40,1,8,7,20,6,30]\n",
    "print('input:', input_list)\n",
    "result, count = sort_and_count(input_list, verbose=True)\n",
    "print('result:', result, ' Nbr inversions:', count)"
   ]
  },
  {
   "cell_type": "code",
   "execution_count": 58,
   "metadata": {
    "ExecuteTime": {
     "end_time": "2020-11-27T15:18:01.193086Z",
     "start_time": "2020-11-27T15:18:00.357214Z"
    }
   },
   "outputs": [
    {
     "name": "stdout",
     "output_type": "stream",
     "text": [
      "Head of input: [54044, 14108, 79294, 29649, 25260, 60660, 2995, 53777, 49689, 9083] ...\n",
      "Length : 100000\n"
     ]
    },
    {
     "data": {
      "text/plain": [
       "2407905288"
      ]
     },
     "execution_count": 58,
     "metadata": {},
     "output_type": "execute_result"
    }
   ],
   "source": [
    "data = load_data('../Data/IntegerArray.txt', verbose=True)\n",
    "sort_and_count(data)[1]"
   ]
  },
  {
   "cell_type": "markdown",
   "metadata": {},
   "source": [
    "## Randomized Algorithms"
   ]
  },
  {
   "cell_type": "markdown",
   "metadata": {},
   "source": [
    "### Quick Sort\n",
    "<img src=\"Images/QuickSort_Partition.png\" width=\"600\"/>"
   ]
  },
  {
   "cell_type": "code",
   "execution_count": 80,
   "metadata": {
    "ExecuteTime": {
     "end_time": "2020-11-30T17:05:51.228967Z",
     "start_time": "2020-11-30T17:05:51.205705Z"
    }
   },
   "outputs": [
    {
     "name": "stdout",
     "output_type": "stream",
     "text": [
      "[9, 5, 2, 8, 3, 7, 1, 6, 4, 0]\n",
      "[0, 1, 2, 3, 4, 5, 6, 7, 8, 9]\n"
     ]
    }
   ],
   "source": [
    "from quicksort import *\n",
    "\n",
    "inputs = [9,5,2,8,3,7,1,6,4,0]\n",
    "print(inputs)\n",
    "print(quicksort(inputs))"
   ]
  },
  {
   "cell_type": "code",
   "execution_count": 81,
   "metadata": {
    "ExecuteTime": {
     "end_time": "2020-11-30T17:05:51.694157Z",
     "start_time": "2020-11-30T17:05:51.483841Z"
    }
   },
   "outputs": [
    {
     "name": "stdout",
     "output_type": "stream",
     "text": [
      "Head of input: [2148, 9058, 7742, 3153, 6324, 609, 7628, 5469, 7017, 504] ...\n",
      "Length : 10000\n",
      "Number of comparison with selecting the first element as pivot: 162085\n",
      "Number of comparison with selecting the last element as pivot: 164123\n",
      "Number of comparison with selecting the median of three as pivot: 138382\n"
     ]
    }
   ],
   "source": [
    "data = load_data('../Data/Quicksort.txt', verbose=True)\n",
    "result, count = quicksort_with_count(data, select_pivot='first')\n",
    "print('Number of comparison with selecting the first element as pivot:', count)\n",
    "\n",
    "data = load_data('../Data/Quicksort.txt')\n",
    "result, count = quicksort_with_count(data, select_pivot='last')\n",
    "print('Number of comparison with selecting the last element as pivot:', count)\n",
    "\n",
    "data = load_data('../Data/Quicksort.txt')\n",
    "result, count = quicksort_with_count(data, select_pivot='median_of_three')\n",
    "print('Number of comparison with selecting the median of three as pivot:', count)"
   ]
  },
  {
   "cell_type": "markdown",
   "metadata": {},
   "source": [
    "### Randomized Selection\n",
    "<img src=\"Images/randomized_selection.png\" width=\"600\"/>"
   ]
  },
  {
   "cell_type": "code",
   "execution_count": 82,
   "metadata": {
    "ExecuteTime": {
     "end_time": "2020-11-30T17:05:52.392342Z",
     "start_time": "2020-11-30T17:05:52.381384Z"
    }
   },
   "outputs": [
    {
     "name": "stdout",
     "output_type": "stream",
     "text": [
      "The 3th bigger element in [26, 20, 10, 11, 27, 23, 18, 15, 16, 22] is 16.\n"
     ]
    }
   ],
   "source": [
    "import random\n",
    "randomlist = random.sample(range(10, 30), 10)\n",
    "index = 3\n",
    "print(f'The {index}th bigger element in {randomlist} is {randomized_selection(randomlist, index)}.')"
   ]
  },
  {
   "cell_type": "markdown",
   "metadata": {},
   "source": [
    "### Karger's Minimum Cut Algorithm\n",
    "<img src=\"Images/karger.png\" width=\"600\"/>"
   ]
  },
  {
   "cell_type": "code",
   "execution_count": 366,
   "metadata": {
    "ExecuteTime": {
     "end_time": "2020-12-01T18:16:58.559861Z",
     "start_time": "2020-12-01T18:16:58.552555Z"
    }
   },
   "outputs": [
    {
     "name": "stdout",
     "output_type": "stream",
     "text": [
      "Before transformation\n",
      "graph {1: [2, 3], 2: [1, 3, 4], 3: [1, 2, 4], 4: [2, 3]}\n",
      "n1_to_cut 3\n",
      "n2_to_cut 1\n",
      "graph[3] : [1, 2, 4]\n",
      "graph[1] : [2, 3]\n",
      "After transformation\n",
      "graph {2: [3, 3, 4], 3: [2, 4, 2], 4: [2, 3]}\n",
      "Before transformation\n",
      "graph {2: [3, 3, 4], 3: [2, 4, 2], 4: [2, 3]}\n",
      "n1_to_cut 3\n",
      "n2_to_cut 2\n",
      "graph[3] : [2, 4, 2]\n",
      "graph[2] : [3, 3, 4]\n",
      "After transformation\n",
      "graph {3: [4, 4], 4: [3, 3]}\n",
      "\n",
      "Mincuts in graph after n trials is 2.\n"
     ]
    }
   ],
   "source": [
    "from karger import *\n",
    "\n",
    "example = {1: [2,3],\n",
    "           2: [1,3,4],\n",
    "           3: [1,2,4],\n",
    "           4: [2,3]}\n",
    "\n",
    "_ = kargerMinCut(example, verbose=True) # One example on application of karger algorithm\n",
    "minCuts = countingCuts(example) # n trials and keep the best result\n",
    "\n",
    "print(f'\\nMincuts in graph after n trials is {minCuts}.')"
   ]
  },
  {
   "cell_type": "code",
   "execution_count": 367,
   "metadata": {
    "ExecuteTime": {
     "end_time": "2020-12-01T18:17:58.657705Z",
     "start_time": "2020-12-01T18:16:59.573112Z"
    }
   },
   "outputs": [
    {
     "data": {
      "text/plain": [
       "17"
      ]
     },
     "execution_count": 367,
     "metadata": {},
     "output_type": "execute_result"
    }
   ],
   "source": [
    "import os\n",
    "\n",
    "filepath =  os.path.join(os.getcwd(), '../Data/KargerMinCut.txt')\n",
    "f = open(filepath,'r')\n",
    "data = [list(map(int, x.split('\\n')[0].split('\\t')[:-1])) for x in f]\n",
    "f.close()\n",
    "\n",
    "graph = {}\n",
    "for line in data:\n",
    "    graph[line[0]] = line[1:]\n",
    "\n",
    "countingCuts(graph)"
   ]
  },
  {
   "cell_type": "code",
   "execution_count": null,
   "metadata": {},
   "outputs": [],
   "source": []
  }
 ],
 "metadata": {
  "kernelspec": {
   "display_name": "Python 3",
   "language": "python",
   "name": "python3"
  },
  "language_info": {
   "codemirror_mode": {
    "name": "ipython",
    "version": 3
   },
   "file_extension": ".py",
   "mimetype": "text/x-python",
   "name": "python",
   "nbconvert_exporter": "python",
   "pygments_lexer": "ipython3",
   "version": "3.7.7"
  },
  "toc": {
   "base_numbering": 1,
   "nav_menu": {},
   "number_sections": true,
   "sideBar": true,
   "skip_h1_title": true,
   "title_cell": "Table of Contents",
   "title_sidebar": "Contents",
   "toc_cell": false,
   "toc_position": {
    "height": "calc(100% - 180px)",
    "left": "10px",
    "top": "150px",
    "width": "336px"
   },
   "toc_section_display": true,
   "toc_window_display": false
  },
  "varInspector": {
   "cols": {
    "lenName": 16,
    "lenType": 16,
    "lenVar": 40
   },
   "kernels_config": {
    "python": {
     "delete_cmd_postfix": "",
     "delete_cmd_prefix": "del ",
     "library": "var_list.py",
     "varRefreshCmd": "print(var_dic_list())"
    },
    "r": {
     "delete_cmd_postfix": ") ",
     "delete_cmd_prefix": "rm(",
     "library": "var_list.r",
     "varRefreshCmd": "cat(var_dic_list()) "
    }
   },
   "position": {
    "height": "831.85px",
    "left": "1310px",
    "right": "20px",
    "top": "120px",
    "width": "350px"
   },
   "types_to_exclude": [
    "module",
    "function",
    "builtin_function_or_method",
    "instance",
    "_Feature"
   ],
   "window_display": false
  }
 },
 "nbformat": 4,
 "nbformat_minor": 4
}
