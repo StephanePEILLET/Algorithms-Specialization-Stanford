{
 "cells": [
  {
   "cell_type": "markdown",
   "metadata": {},
   "source": [
    "# <center>Tests</center>"
   ]
  },
  {
   "cell_type": "markdown",
   "metadata": {},
   "source": [
    "## Divide and Conquer Algorithms"
   ]
  },
  {
   "cell_type": "markdown",
   "metadata": {},
   "source": [
    "### Karatsuba Multiplication"
   ]
  },
  {
   "cell_type": "code",
   "execution_count": 1,
   "metadata": {
    "ExecuteTime": {
     "end_time": "2020-11-26T01:06:20.174322Z",
     "start_time": "2020-11-26T01:06:20.155468Z"
    }
   },
   "outputs": [
    {
     "name": "stdout",
     "output_type": "stream",
     "text": [
      "Test 1:\n",
      "Multiplication of x: 2468 and y: 11356.\n",
      "- Karatsuba: 28026608\n",
      "- Native   : 28026608\n",
      "Same result !\n",
      "\n",
      "Test 2:\n",
      "Multiplication of x: 12341234 and y: 56785678.\n",
      "- Karatsuba: 700805340046652\n",
      "- Native   : 700805340046652\n",
      "Same result !\n",
      "\n",
      "Test 3:\n",
      "Multiplication of x: 3141592653589793238462643383279502884197169399375105820974944592 and y: 2718281828459045235360287471352662497757247093699959574966967627.\n",
      "- Karatsuba: 8539734222673567065463550869546574495034888535765114961879601127067743044893204848617875072216249073013374895871952806582723184\n",
      "- Native   : 8539734222673567065463550869546574495034888535765114961879601127067743044893204848617875072216249073013374895871952806582723184\n",
      "Same result !\n"
     ]
    }
   ],
   "source": [
    "from karatsuba import *\n",
    "\n",
    "# ac\n",
    "# bd\n",
    "# (a+b)(c+d) = (ac + ad + bc + bd)\n",
    "# (ac + ad + bc + bd) - ac - bd = ad + bc \n",
    "# 10^n * ac + (ad + bc) * 10^n/2 + bd \n",
    "\n",
    "print('Test 1:')\n",
    "verification_karatsuba(2468,11356)\n",
    "print('\\nTest 2:')\n",
    "verification_karatsuba(12341234, 56785678)\n",
    "print('\\nTest 3:')\n",
    "verification_karatsuba(3141592653589793238462643383279502884197169399375105820974944592, 2718281828459045235360287471352662497757247093699959574966967627)"
   ]
  },
  {
   "cell_type": "markdown",
   "metadata": {
    "ExecuteTime": {
     "end_time": "2020-08-04T16:44:15.970317Z",
     "start_time": "2020-08-04T16:44:15.966041Z"
    }
   },
   "source": [
    "### Merge Sort"
   ]
  },
  {
   "cell_type": "code",
   "execution_count": 2,
   "metadata": {
    "ExecuteTime": {
     "end_time": "2020-11-26T01:06:20.927407Z",
     "start_time": "2020-11-26T01:06:20.915681Z"
    }
   },
   "outputs": [
    {
     "name": "stdout",
     "output_type": "stream",
     "text": [
      "Test 1:\n",
      "input: [5, 4, 1, 8, 7, 2, 6, 3]\n",
      "result: [1, 2, 3, 4, 5, 6, 7, 8]\n",
      "\n",
      "Test 2:\n",
      "input: [5, 40, 1, 8, 7, 20, 6, 30]\n",
      "result: [1, 5, 6, 7, 8, 20, 30, 40]\n"
     ]
    }
   ],
   "source": [
    "from mergesort import *\n",
    "\n",
    "print('Test 1:')\n",
    "input_list = [5,4,1,8,7,2,6,3]\n",
    "print('input:', input_list)\n",
    "print('result:', mergeSort(input_list))\n",
    "\n",
    "print('\\nTest 2:')\n",
    "input_list = [5,40,1,8,7,20,6,30]\n",
    "print('input:', input_list)\n",
    "print('result:', mergeSort(input_list))"
   ]
  },
  {
   "cell_type": "markdown",
   "metadata": {},
   "source": [
    "### Counting Inversion"
   ]
  },
  {
   "cell_type": "code",
   "execution_count": 3,
   "metadata": {
    "ExecuteTime": {
     "end_time": "2020-11-26T01:06:21.451925Z",
     "start_time": "2020-11-26T01:06:21.436975Z"
    }
   },
   "outputs": [
    {
     "name": "stdout",
     "output_type": "stream",
     "text": [
      "Test 1:\n",
      "input: [1, 3, 5, 2, 4, 6]\n",
      "Number of inversions : 3\n",
      "Inversion pairs:  [(2, 3), (2, 5), (4, 5)]\n",
      "result: [1, 2, 3, 4, 5, 6]  Nbr inversions: 3\n",
      "\n",
      "Test 2:\n",
      "input: [5, 4, 1, 8, 7, 2, 6, 3]\n",
      "Number of inversions : 8\n",
      "Inversion pairs:  [(2, 4), (2, 5), (2, 8), (3, 4), (3, 5), (3, 8), (6, 8), (7, 8)]\n",
      "result: [1, 2, 3, 4, 5, 6, 7, 8]  Nbr inversions: 15\n",
      "\n",
      "Test 3:\n",
      "input: [5, 40, 1, 8, 7, 20, 6, 30]\n",
      "Number of inversions : 6\n",
      "Inversion pairs:  [(6, 8), (6, 40), (7, 8), (7, 40), (20, 40), (30, 40)]\n",
      "result: [1, 5, 6, 7, 8, 20, 30, 40]  Nbr inversions: 11\n"
     ]
    }
   ],
   "source": [
    "from counting_inversions import *\n",
    " \n",
    "print('Test 1:')\n",
    "input_list = [1, 3, 5, 2, 4, 6]\n",
    "print('input:', input_list)\n",
    "result, count = sort_and_count(input_list, verbose=True)\n",
    "print('result:', result, ' Nbr inversions:', count)\n",
    "     \n",
    "print('\\nTest 2:')        \n",
    "input_list = [5,4,1,8,7,2,6,3]\n",
    "print('input:', input_list)\n",
    "result, count = sort_and_count(input_list, verbose=True)\n",
    "print('result:', result, ' Nbr inversions:', count)\n",
    "\n",
    "print('\\nTest 3:')\n",
    "input_list = [5,40,1,8,7,20,6,30]\n",
    "print('input:', input_list)\n",
    "result, count = sort_and_count(input_list, verbose=True)\n",
    "print('result:', result, ' Nbr inversions:', count)"
   ]
  },
  {
   "cell_type": "code",
   "execution_count": 4,
   "metadata": {
    "ExecuteTime": {
     "end_time": "2020-11-26T01:06:22.501216Z",
     "start_time": "2020-11-26T01:06:21.701852Z"
    }
   },
   "outputs": [
    {
     "name": "stdout",
     "output_type": "stream",
     "text": [
      "Head of input: [54044, 14108, 79294, 29649, 25260, 60660, 2995, 53777, 49689, 9083] ...\n",
      "Length : 100000\n"
     ]
    },
    {
     "data": {
      "text/plain": [
       "2407905288"
      ]
     },
     "execution_count": 4,
     "metadata": {},
     "output_type": "execute_result"
    }
   ],
   "source": [
    "import os\n",
    "filepath = os.path.join(os.getcwd(),'../Data/IntegerArray.txt')\n",
    "\n",
    "file = open(filepath,'r')\n",
    "data= list(map(int,file.read().split('\\n')[:-1]))\n",
    "file.close()\n",
    "        \n",
    "print(f'Head of input: {data[:10]} ...')\n",
    "print(f'Length : {len(data)}')\n",
    "\n",
    "sort_and_count(data)[1]"
   ]
  },
  {
   "cell_type": "markdown",
   "metadata": {},
   "source": [
    "## Randomized Algorithms"
   ]
  },
  {
   "cell_type": "markdown",
   "metadata": {},
   "source": [
    "### Count Quick Sort Comparisons"
   ]
  },
  {
   "cell_type": "code",
   "execution_count": 5,
   "metadata": {
    "ExecuteTime": {
     "end_time": "2020-11-26T01:06:24.305520Z",
     "start_time": "2020-11-26T01:06:24.296384Z"
    }
   },
   "outputs": [
    {
     "name": "stdout",
     "output_type": "stream",
     "text": [
      "[9, 5, 2, 8, 3, 7, 1, 6, 4, 0]\n",
      "[0, 1, 2, 3, 4, 5, 6, 7, 8, 9]\n"
     ]
    }
   ],
   "source": [
    "from quicksort import *\n",
    "\n",
    "inputs = [9,5,2,8,3,7,1,6,4,0]\n",
    "\n",
    "print(inputs)\n",
    "print(quicksort(inputs))"
   ]
  },
  {
   "cell_type": "markdown",
   "metadata": {},
   "source": [
    "### Karger's Minimum Cut Algorithm"
   ]
  },
  {
   "cell_type": "code",
   "execution_count": null,
   "metadata": {
    "ExecuteTime": {
     "end_time": "2020-11-23T06:36:02.665630Z",
     "start_time": "2020-11-23T06:36:02.568204Z"
    }
   },
   "outputs": [],
   "source": []
  },
  {
   "cell_type": "code",
   "execution_count": null,
   "metadata": {
    "ExecuteTime": {
     "end_time": "2020-11-21T12:45:14.572905Z",
     "start_time": "2020-11-21T12:45:14.565629Z"
    }
   },
   "outputs": [],
   "source": []
  },
  {
   "cell_type": "code",
   "execution_count": null,
   "metadata": {},
   "outputs": [],
   "source": []
  }
 ],
 "metadata": {
  "kernelspec": {
   "display_name": "Python 3",
   "language": "python",
   "name": "python3"
  },
  "language_info": {
   "codemirror_mode": {
    "name": "ipython",
    "version": 3
   },
   "file_extension": ".py",
   "mimetype": "text/x-python",
   "name": "python",
   "nbconvert_exporter": "python",
   "pygments_lexer": "ipython3",
   "version": "3.7.7"
  },
  "toc": {
   "base_numbering": 1,
   "nav_menu": {},
   "number_sections": true,
   "sideBar": true,
   "skip_h1_title": true,
   "title_cell": "Table of Contents",
   "title_sidebar": "Contents",
   "toc_cell": false,
   "toc_position": {
    "height": "calc(100% - 180px)",
    "left": "10px",
    "top": "150px",
    "width": "336px"
   },
   "toc_section_display": true,
   "toc_window_display": false
  },
  "varInspector": {
   "cols": {
    "lenName": 16,
    "lenType": 16,
    "lenVar": 40
   },
   "kernels_config": {
    "python": {
     "delete_cmd_postfix": "",
     "delete_cmd_prefix": "del ",
     "library": "var_list.py",
     "varRefreshCmd": "print(var_dic_list())"
    },
    "r": {
     "delete_cmd_postfix": ") ",
     "delete_cmd_prefix": "rm(",
     "library": "var_list.r",
     "varRefreshCmd": "cat(var_dic_list()) "
    }
   },
   "position": {
    "height": "831.85px",
    "left": "1310px",
    "right": "20px",
    "top": "120px",
    "width": "350px"
   },
   "types_to_exclude": [
    "module",
    "function",
    "builtin_function_or_method",
    "instance",
    "_Feature"
   ],
   "window_display": false
  }
 },
 "nbformat": 4,
 "nbformat_minor": 4
}
