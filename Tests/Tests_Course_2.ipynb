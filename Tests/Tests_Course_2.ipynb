{
 "cells": [
  {
   "cell_type": "markdown",
   "metadata": {},
   "source": [
    "# <center>Tests Course 2</center>"
   ]
  },
  {
   "cell_type": "markdown",
   "metadata": {
    "toc": true
   },
   "source": [
    "<h1>Table of Contents<span class=\"tocSkip\"></span></h1>\n",
    "<div class=\"toc\"><ul class=\"toc-item\"><li><span><a href=\"#Week-1\" data-toc-modified-id=\"Week-1-1\"><span class=\"toc-item-num\">1&nbsp;&nbsp;</span>Week 1</a></span></li><li><span><a href=\"#Week-2\" data-toc-modified-id=\"Week-2-2\"><span class=\"toc-item-num\">2&nbsp;&nbsp;</span>Week 2</a></span></li><li><span><a href=\"#Week-3\" data-toc-modified-id=\"Week-3-3\"><span class=\"toc-item-num\">3&nbsp;&nbsp;</span>Week 3</a></span></li><li><span><a href=\"#Week-4\" data-toc-modified-id=\"Week-4-4\"><span class=\"toc-item-num\">4&nbsp;&nbsp;</span>Week 4</a></span></li></ul></div>"
   ]
  },
  {
   "cell_type": "markdown",
   "metadata": {},
   "source": [
    "## Week 1\n",
    "<img src=\"Images/Course 2/testC2W1_1.png\" width=\"1000\"/>\n",
    "<img src=\"Images/Course 2/testC2W1_2.png\" width=\"1000\"/>\n",
    "<img src=\"Images/Course 2/testC2W1_3.png\" width=\"1000\"/>"
   ]
  },
  {
   "cell_type": "markdown",
   "metadata": {},
   "source": [
    "## Week 2\n",
    "<img src=\"Images/Course 2/testC2W2_1.png\" width=\"1000\"/>\n",
    "<img src=\"Images/Course 2/testC2W2_2.png\" width=\"1000\"/>\n",
    "<img src=\"Images/Course 2/testC2W2_3.png\" width=\"1000\"/>"
   ]
  },
  {
   "cell_type": "markdown",
   "metadata": {},
   "source": [
    "## Week 3\n",
    "<img src=\"Images/Course 2/testC2W3_1.png\" width=\"1000\"/>\n",
    "<img src=\"Images/Course 2/testC2W3_2.png\" width=\"1000\"/>\n",
    "<img src=\"Images/Course 2/testC2W3_3.png\" width=\"1000\"/>"
   ]
  },
  {
   "cell_type": "markdown",
   "metadata": {},
   "source": [
    "## Week 4\n",
    "<img src=\"Images/Course 2/testC2W4_1.png\" width=\"1000\"/>\n",
    "<img src=\"Images/Course 2/testC2W4_2.png\" width=\"1000\"/>\n",
    "<img src=\"Images/Course 2/testC2W4_3.png\" width=\"1000\"/>"
   ]
  }
 ],
 "metadata": {
  "kernelspec": {
   "display_name": "Python 3",
   "language": "python",
   "name": "python3"
  },
  "language_info": {
   "codemirror_mode": {
    "name": "ipython",
    "version": 3
   },
   "file_extension": ".py",
   "mimetype": "text/x-python",
   "name": "python",
   "nbconvert_exporter": "python",
   "pygments_lexer": "ipython3",
   "version": "3.7.7"
  },
  "toc": {
   "base_numbering": 1,
   "nav_menu": {},
   "number_sections": true,
   "sideBar": true,
   "skip_h1_title": true,
   "title_cell": "Table of Contents",
   "title_sidebar": "Contents",
   "toc_cell": true,
   "toc_position": {
    "height": "calc(100% - 180px)",
    "left": "10px",
    "top": "150px",
    "width": "384px"
   },
   "toc_section_display": true,
   "toc_window_display": false
  },
  "varInspector": {
   "cols": {
    "lenName": 16,
    "lenType": 16,
    "lenVar": 40
   },
   "kernels_config": {
    "python": {
     "delete_cmd_postfix": "",
     "delete_cmd_prefix": "del ",
     "library": "var_list.py",
     "varRefreshCmd": "print(var_dic_list())"
    },
    "r": {
     "delete_cmd_postfix": ") ",
     "delete_cmd_prefix": "rm(",
     "library": "var_list.r",
     "varRefreshCmd": "cat(var_dic_list()) "
    }
   },
   "types_to_exclude": [
    "module",
    "function",
    "builtin_function_or_method",
    "instance",
    "_Feature"
   ],
   "window_display": false
  }
 },
 "nbformat": 4,
 "nbformat_minor": 4
}
