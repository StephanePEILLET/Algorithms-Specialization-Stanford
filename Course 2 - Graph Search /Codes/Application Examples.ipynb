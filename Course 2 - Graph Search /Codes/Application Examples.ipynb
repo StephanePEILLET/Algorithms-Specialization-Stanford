{
 "cells": [
  {
   "cell_type": "markdown",
   "metadata": {},
   "source": [
    "# <center>Graph Search</center>"
   ]
  },
  {
   "cell_type": "markdown",
   "metadata": {},
   "source": [
    "# Graph Search And Connectivity\n",
    "<img src=\"Images/BFS_vs_DFS.png\" width=\"600\"/>"
   ]
  },
  {
   "cell_type": "markdown",
   "metadata": {},
   "source": [
    "## Breath First Search (BFS)"
   ]
  },
  {
   "cell_type": "markdown",
   "metadata": {},
   "source": [
    "### Algorithm description\n",
    "<img src=\"Images/BFS_Code.png\" width=\"600\"/>"
   ]
  },
  {
   "cell_type": "code",
   "execution_count": null,
   "metadata": {},
   "outputs": [],
   "source": []
  },
  {
   "cell_type": "markdown",
   "metadata": {},
   "source": [
    "### Shortest Paths    \n",
    "<img src=\"Images/BFS_ShortestPath.png\" width=\"600\"/>"
   ]
  },
  {
   "cell_type": "code",
   "execution_count": null,
   "metadata": {},
   "outputs": [],
   "source": []
  },
  {
   "cell_type": "markdown",
   "metadata": {},
   "source": [
    "### Connected Components via BFS\n",
    "<img src=\"Images/BFS_Connected_Components.png\" width=\"600\"/>"
   ]
  },
  {
   "cell_type": "code",
   "execution_count": null,
   "metadata": {},
   "outputs": [],
   "source": []
  },
  {
   "cell_type": "markdown",
   "metadata": {},
   "source": [
    "## Deep First Search (DFS)"
   ]
  },
  {
   "cell_type": "markdown",
   "metadata": {},
   "source": [
    "### Algorithm description\n",
    "<img src=\"Images/DFS_properties.png\" width=\"600\"/>\n",
    "<img src=\"Images/DFS_Code.png\" width=\"600\"/>"
   ]
  },
  {
   "cell_type": "code",
   "execution_count": null,
   "metadata": {},
   "outputs": [],
   "source": []
  },
  {
   "cell_type": "markdown",
   "metadata": {
    "ExecuteTime": {
     "end_time": "2021-01-01T15:34:33.886699Z",
     "start_time": "2021-01-01T15:34:33.875928Z"
    }
   },
   "source": [
    "### Strictly Connected Components (SCC)\n",
    "<img src=\"Images/DFS_SCC.png\" width=\"600\"/>\n",
    "<img src=\"Images/DFS_Kosaraju.png\" width=\"600\"/>\n",
    "<img src=\"Images/DFS_SCC_Code.png\" width=\"600\"/>"
   ]
  },
  {
   "cell_type": "code",
   "execution_count": null,
   "metadata": {
    "ExecuteTime": {
     "end_time": "2021-01-01T22:29:11.861155Z",
     "start_time": "2021-01-01T22:29:11.847503Z"
    }
   },
   "outputs": [],
   "source": [
    "def DFS():\n",
    "    "
   ]
  },
  {
   "cell_type": "code",
   "execution_count": null,
   "metadata": {
    "ExecuteTime": {
     "end_time": "2021-01-01T22:29:11.898748Z",
     "start_time": "2021-01-01T22:29:11.758Z"
    }
   },
   "outputs": [],
   "source": [
    "def DFS1(graph_rev, i):\n",
    "    global t, visited\n",
    "    visited[i] = True\n",
    "    \n",
    "    for edge in graph_rev[i]:\n",
    "        if not visited[edge]:\n",
    "            DFS1(graph_rev, edge)\n",
    "\n",
    "    finish[t] = i\n",
    "    t= t+1"
   ]
  },
  {
   "cell_type": "markdown",
   "metadata": {},
   "source": [
    "The file contains the edges of a directed graph. Vertices are labeled as positive integers from 1 to 875714. Every row indicates an edge, the vertex label in first column is the tail and the vertex label in second column is the head (recall the graph is directed, and the edges are directed from the first column vertex to the second column vertex). So for example, the 11th row looks liks : \"2 47646\". This just means that the vertex with label 2 has an outgoing edge to the vertex with label 47646\n",
    "\n",
    "Your task is to code up the algorithm from the video lectures for computing strongly connected components (SCCs), and to run this algorithm on the given graph.\n",
    "\n",
    "Output Format: You should output the sizes of the 5 largest SCCs in the given graph, in decreasing order of sizes, separated by commas (avoid any spaces). So if your algorithm computes the sizes of the five largest SCCs to be 500, 400, 300, 200 and 100, then your answer should be \"500,400,300,200,100\" (without the quotes). If your algorithm finds less than 5 SCCs, then write 0 for the remaining terms. Thus, if your algorithm computes only 3 SCCs whose sizes are 400, 300, and 100, then your answer should be \"400,300,100,0,0\" (without the quotes).  (Note also that your answer should not have any spaces in it.)\n",
    "\n",
    "WARNING: This is the most challenging programming assignment of the course. Because of the size of the graph you may have to manage memory carefully. The best way to do this depends on your programming language and environment, and we strongly suggest that you exchange tips for doing this on the discussion forums."
   ]
  },
  {
   "cell_type": "code",
   "execution_count": 14,
   "metadata": {
    "ExecuteTime": {
     "end_time": "2021-01-02T08:39:08.166598Z",
     "start_time": "2021-01-02T08:39:08.128999Z"
    }
   },
   "outputs": [],
   "source": [
    "class Node:\n",
    "    def __init__(self, index:int):\n",
    "        self.index = index\n",
    "        self.is_explored = False\n",
    "        self.links = []\n",
    "        self.finish_time = 0\n",
    "    \n",
    "    def add_link(self, link_index):\n",
    "        self.links.append(link_index)\n",
    "\n",
    "class SCC:\n",
    "    def _init_(self):\n",
    "        self.nodes = {}\n",
    "        self.SCC_size = 0\n",
    "    \n",
    "class Graph:\n",
    "    def __init__(self, nbr_nodes:int):\n",
    "        self.t = 0\n",
    "        self.s = 0\n",
    "        self.leader = {}\n",
    "        self.nbr_nodes = nbr_nodes\n",
    "        self.nodes = {k: Node(k) for k in range(nbr_nodes)}\n",
    "        self.nodes_reverse = {k: Node(k) for k in range(nbr_nodes)}\n",
    "        self.SCCs = []\n",
    "        \n",
    "    def add_link_to_node(self, node_index, link_index):\n",
    "        self.nodes[node_index].add_link(link_index)\n",
    "        self.nodes_reverse[link_index].add_link(node_index)\n",
    "    \n",
    "    def get_node(self,node_index):\n",
    "        node = self.nodes[node_index]\n",
    "        print(f'Node: {node.index} -linked to:{node.links} -is explored:{node.is_explored} f(i):{node.finish_time}')\n",
    "        return node\n",
    "    \n",
    "    def DFS(G:dict, start_vertex:int, on_reverse:bool=False)->None:\n",
    "        G = graph.nodes if not on_reverse else graph.nodes_reverse\n",
    "        G[start_vertex].is_explored = True\n",
    "        graph.leader[start_vertex] = G[graph.s]\n",
    "        for i in G.keys():\n",
    "            for j in G[i].links:\n",
    "                if G[j].is_explored:\n",
    "                    DFS(graph, j, on_reverse)\n",
    "        graph.t += 1\n",
    "        graph[start_vertex].finish_time = graph.t \n",
    "\n",
    "    def DFS_Loop(graph:Graph, on_reverse:bool=False)->None:\n",
    "        G = graph.nodes if not on_reverse else graph.nodes_reverse\n",
    "        for i in range(graph.nbr_nodes, 0, -1):\n",
    "            if not G[i].is_explored:\n",
    "                graph.s = i\n",
    "                DFS(graph, i, on_reverse)    \n",
    "\n",
    "def Korasaju(graph:dict)->int:\n",
    "    DFS_loop(graph_rev)\n",
    "    scc = DFS_loop2(graph, num_nodes)\n",
    "    return len(graph.SCCs)  "
   ]
  },
  {
   "cell_type": "code",
   "execution_count": null,
   "metadata": {},
   "outputs": [],
   "source": [
    "def create_graph(file_name:str, nbr_nodes:int)->dict:\n",
    "    '''\n",
    "        From SCC file create a graph and reverse graph.\n",
    "        SCC extract : \n",
    "                            1 1 \n",
    "                            1 2 \n",
    "                            1 5 \n",
    "                            ...\n",
    "                            2 47646      \n",
    "                            2 47647 \n",
    "                            2 13019 \n",
    "                            2 47648 \n",
    "                            ...\n",
    "    '''\n",
    "    file = open(file_name,\"r\")\n",
    "    data = file.readlines()\n",
    "    graph, graph_rev = Graph(nbr_nodes), Graph(nbr_nodes)\n",
    "    \n",
    "    for line in data:\n",
    "        node_start, node_end = list(map(lambda x: int(x),line.split())) \n",
    "        graph.add_link_to_node(node_start, node_end)\n",
    "\n",
    "    return graph   "
   ]
  },
  {
   "cell_type": "code",
   "execution_count": 4,
   "metadata": {
    "ExecuteTime": {
     "end_time": "2021-01-02T14:54:16.384043Z",
     "start_time": "2021-01-02T14:54:16.376531Z"
    }
   },
   "outputs": [],
   "source": [
    "# Imports \n",
    "import os \n",
    "#from SCC import *\n",
    "\n",
    "SCC_file = '../Data/SCC.txt'\n",
    "example_file = '../Data/Example.txt'\n",
    "filepath = os.path.join(os.getcwd(), SCC_file)\n",
    "ex_path = os.path.join(os.getcwd(), example_file)"
   ]
  },
  {
   "cell_type": "code",
   "execution_count": 23,
   "metadata": {
    "ExecuteTime": {
     "end_time": "2021-01-02T10:38:21.199987Z",
     "start_time": "2021-01-02T10:37:58.233334Z"
    }
   },
   "outputs": [],
   "source": [
    "example = create_graph(ex_path, 10)\n",
    "graph = create_graph(filepath, 875715)"
   ]
  },
  {
   "cell_type": "markdown",
   "metadata": {},
   "source": [
    "<img src=\"Images/DFS_SCC_Code.png\" width=\"600\"/>"
   ]
  },
  {
   "cell_type": "code",
   "execution_count": null,
   "metadata": {},
   "outputs": [],
   "source": [
    "613052, 121, 113, 76, 70"
   ]
  },
  {
   "cell_type": "code",
   "execution_count": null,
   "metadata": {},
   "outputs": [],
   "source": []
  }
 ],
 "metadata": {
  "kernelspec": {
   "display_name": "Python 3",
   "language": "python",
   "name": "python3"
  },
  "language_info": {
   "codemirror_mode": {
    "name": "ipython",
    "version": 3
   },
   "file_extension": ".py",
   "mimetype": "text/x-python",
   "name": "python",
   "nbconvert_exporter": "python",
   "pygments_lexer": "ipython3",
   "version": "3.7.7"
  },
  "toc": {
   "base_numbering": 1,
   "nav_menu": {},
   "number_sections": true,
   "sideBar": true,
   "skip_h1_title": true,
   "title_cell": "Table of Contents",
   "title_sidebar": "Contents",
   "toc_cell": false,
   "toc_position": {},
   "toc_section_display": true,
   "toc_window_display": false
  },
  "varInspector": {
   "cols": {
    "lenName": 16,
    "lenType": 16,
    "lenVar": 40
   },
   "kernels_config": {
    "python": {
     "delete_cmd_postfix": "",
     "delete_cmd_prefix": "del ",
     "library": "var_list.py",
     "varRefreshCmd": "print(var_dic_list())"
    },
    "r": {
     "delete_cmd_postfix": ") ",
     "delete_cmd_prefix": "rm(",
     "library": "var_list.r",
     "varRefreshCmd": "cat(var_dic_list()) "
    }
   },
   "types_to_exclude": [
    "module",
    "function",
    "builtin_function_or_method",
    "instance",
    "_Feature"
   ],
   "window_display": false
  }
 },
 "nbformat": 4,
 "nbformat_minor": 4
}
