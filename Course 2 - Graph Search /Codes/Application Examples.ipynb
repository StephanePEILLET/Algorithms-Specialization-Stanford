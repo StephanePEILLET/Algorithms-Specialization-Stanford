{
 "cells": [
  {
   "cell_type": "markdown",
   "metadata": {},
   "source": [
    "# <center>Graph Search, Shortest Paths, and Data Structures</center>"
   ]
  },
  {
   "cell_type": "markdown",
   "metadata": {
    "toc": true
   },
   "source": [
    "<h1>Table of Contents<span class=\"tocSkip\"></span></h1>\n",
    "<div class=\"toc\"><ul class=\"toc-item\"><li><span><a href=\"#Breath-First-Search-(BFS)\" data-toc-modified-id=\"Breath-First-Search-(BFS)-1\"><span class=\"toc-item-num\">1&nbsp;&nbsp;</span>Breath First Search (BFS)</a></span><ul class=\"toc-item\"><li><span><a href=\"#Algorithm-description\" data-toc-modified-id=\"Algorithm-description-1.1\"><span class=\"toc-item-num\">1.1&nbsp;&nbsp;</span>Algorithm description</a></span></li><li><span><a href=\"#Shortest-Paths\" data-toc-modified-id=\"Shortest-Paths-1.2\"><span class=\"toc-item-num\">1.2&nbsp;&nbsp;</span>Shortest Paths</a></span></li><li><span><a href=\"#Connected-Components-via-BFS\" data-toc-modified-id=\"Connected-Components-via-BFS-1.3\"><span class=\"toc-item-num\">1.3&nbsp;&nbsp;</span>Connected Components via BFS</a></span></li></ul></li><li><span><a href=\"#Deep-First-Search-(DFS)\" data-toc-modified-id=\"Deep-First-Search-(DFS)-2\"><span class=\"toc-item-num\">2&nbsp;&nbsp;</span>Deep First Search (DFS)</a></span><ul class=\"toc-item\"><li><span><a href=\"#Algorithm-description\" data-toc-modified-id=\"Algorithm-description-2.1\"><span class=\"toc-item-num\">2.1&nbsp;&nbsp;</span>Algorithm description</a></span></li><li><span><a href=\"#Strictly-Connected-Components-(SCC)\" data-toc-modified-id=\"Strictly-Connected-Components-(SCC)-2.2\"><span class=\"toc-item-num\">2.2&nbsp;&nbsp;</span>Strictly Connected Components (SCC)</a></span></li><li><span><a href=\"#Course-example\" data-toc-modified-id=\"Course-example-2.3\"><span class=\"toc-item-num\">2.3&nbsp;&nbsp;</span>Course example</a></span></li></ul></li><li><span><a href=\"#Dijkstra\" data-toc-modified-id=\"Dijkstra-3\"><span class=\"toc-item-num\">3&nbsp;&nbsp;</span>Dijkstra</a></span><ul class=\"toc-item\"><li><span><a href=\"#Presentation\" data-toc-modified-id=\"Presentation-3.1\"><span class=\"toc-item-num\">3.1&nbsp;&nbsp;</span>Presentation</a></span></li><li><span><a href=\"#Properties\" data-toc-modified-id=\"Properties-3.2\"><span class=\"toc-item-num\">3.2&nbsp;&nbsp;</span>Properties</a></span></li><li><span><a href=\"#Tests\" data-toc-modified-id=\"Tests-3.3\"><span class=\"toc-item-num\">3.3&nbsp;&nbsp;</span>Tests</a></span></li></ul></li><li><span><a href=\"#Heaps-&amp;-Balanced-Binary-Search-Trees\" data-toc-modified-id=\"Heaps-&amp;-Balanced-Binary-Search-Trees-4\"><span class=\"toc-item-num\">4&nbsp;&nbsp;</span>Heaps &amp; Balanced Binary Search Trees</a></span><ul class=\"toc-item\"><li><span><a href=\"#Heap-properties\" data-toc-modified-id=\"Heap-properties-4.1\"><span class=\"toc-item-num\">4.1&nbsp;&nbsp;</span>Heap properties</a></span></li><li><span><a href=\"#Median-Maintenance\" data-toc-modified-id=\"Median-Maintenance-4.2\"><span class=\"toc-item-num\">4.2&nbsp;&nbsp;</span>Median Maintenance</a></span></li></ul></li><li><span><a href=\"#Hashing-and-Bloom-Filters\" data-toc-modified-id=\"Hashing-and-Bloom-Filters-5\"><span class=\"toc-item-num\">5&nbsp;&nbsp;</span>Hashing and Bloom Filters</a></span></li></ul></div>"
   ]
  },
  {
   "cell_type": "markdown",
   "metadata": {},
   "source": [
    "# Graph Search And Connectivity\n",
    "<img src=\"Images/BFS_vs_DFS.png\" width=\"600\"/>"
   ]
  },
  {
   "cell_type": "markdown",
   "metadata": {},
   "source": [
    "## Breath First Search (BFS)"
   ]
  },
  {
   "cell_type": "markdown",
   "metadata": {},
   "source": [
    "### Algorithm description\n",
    "<img src=\"Images/BFS_Code.png\" width=\"600\"/>"
   ]
  },
  {
   "cell_type": "code",
   "execution_count": 1,
   "metadata": {
    "ExecuteTime": {
     "end_time": "2021-02-15T22:20:06.848216Z",
     "start_time": "2021-02-15T22:20:06.830205Z"
    }
   },
   "outputs": [
    {
     "name": "stdout",
     "output_type": "stream",
     "text": [
      "Start exploration with the node s\n",
      "- Exploring Order: ['s', 'a', 'b', 'c', 'd', 'e']\n",
      "- Layers: {0: ['s'], 1: ['a', 'b'], 2: ['c', 'd'], 3: ['e']} \n",
      "\n",
      "Start exploration with the node a\n",
      "- Exploring Order: ['a', 's', 'c', 'b', 'd', 'e']\n",
      "- Layers: {0: ['a'], 1: ['s', 'c'], 2: ['b', 'd', 'e']} \n",
      "\n",
      "Start exploration with the node e\n",
      "- Exploring Order: ['e', 'c', 'd', 'a', 'b', 's']\n",
      "- Layers: {0: ['e'], 1: ['c', 'd'], 2: ['a', 'b'], 3: ['s']} \n",
      "\n"
     ]
    }
   ],
   "source": [
    "from BFS import *\n",
    "\n",
    "graph_example = {'s': ['a', 'b'],\n",
    "                 'a': ['s', 'c'],\n",
    "                 'b': ['s', 'c', 'd'],\n",
    "                 'c': ['a', 'b', 'd', 'e'],\n",
    "                 'd': ['b', 'c', 'e'],\n",
    "                 'e': ['c', 'd']}\n",
    "\n",
    "# Example as in the course \n",
    "start_vertex = 's'; BFS_display(graph_example, start_vertex)\n",
    "start_vertex = 'a'; BFS_display(graph_example, start_vertex)\n",
    "start_vertex = 'e'; BFS_display(graph_example, start_vertex)"
   ]
  },
  {
   "cell_type": "markdown",
   "metadata": {},
   "source": [
    "### Shortest Paths    \n",
    "<img src=\"Images/BFS_ShortestPath.png\" width=\"600\"/>"
   ]
  },
  {
   "cell_type": "code",
   "execution_count": 2,
   "metadata": {
    "ExecuteTime": {
     "end_time": "2021-02-15T22:20:06.881596Z",
     "start_time": "2021-02-15T22:20:06.853494Z"
    }
   },
   "outputs": [
    {
     "name": "stdout",
     "output_type": "stream",
     "text": [
      "Start exploration with the node s\n",
      "- Exploring Order: ['s', 'a', 'b', 'c', 'd', 'e']\n",
      "- Layers: {0: ['s'], 1: ['a', 'b'], 2: ['c', 'd'], 3: ['e']} \n",
      "\n",
      "BFS shortest path: start vertex s and target vertex e\n",
      "Distance path: 3 and shortest path: ['s', 'b', 'c', 'e']\n"
     ]
    }
   ],
   "source": [
    "start_vertex = 's'; target_vertex = 'e'\n",
    "BFS_display(graph_example, start_vertex, target_vertex)"
   ]
  },
  {
   "cell_type": "markdown",
   "metadata": {},
   "source": [
    "### Connected Components via BFS\n",
    "<img src=\"Images/BFS_Connected_Components.png\" width=\"600\"/>"
   ]
  },
  {
   "cell_type": "code",
   "execution_count": 3,
   "metadata": {
    "ExecuteTime": {
     "end_time": "2021-02-15T22:20:06.901171Z",
     "start_time": "2021-02-15T22:20:06.884344Z"
    }
   },
   "outputs": [
    {
     "name": "stdout",
     "output_type": "stream",
     "text": [
      "There is 3 connected components in the graph:\n",
      "*[2, 4]\n",
      "*[1, 3, 5, 7, 9]\n",
      "*[6, 8, 10]\n"
     ]
    }
   ],
   "source": [
    "graph_SCC_example = {1: [3, 5],\n",
    "                     2: [4],\n",
    "                     3: [1, 5],\n",
    "                     4: [2],\n",
    "                     5: [1, 3, 7, 9],\n",
    "                     6: [8, 10],\n",
    "                     7: [5],\n",
    "                     8: [6, 10],\n",
    "                     9: [5],\n",
    "                     10:[6, 8]\n",
    "}\n",
    "\n",
    "number_SCCs, SCCs = BFS_SCC(graph_SCC_example)\n",
    "print(f'There is {number_SCCs} connected components in the graph:')\n",
    "for SCC in SCCs:\n",
    "    print(f'*{SCC}')"
   ]
  },
  {
   "cell_type": "markdown",
   "metadata": {},
   "source": [
    "## Deep First Search (DFS)"
   ]
  },
  {
   "cell_type": "markdown",
   "metadata": {},
   "source": [
    "### Algorithm description\n",
    "<img src=\"Images/DFS_overview.png\" width=\"600\"/>\n",
    "<img src=\"Images/DFS_Code.png\" width=\"600\"/>"
   ]
  },
  {
   "cell_type": "code",
   "execution_count": 4,
   "metadata": {
    "ExecuteTime": {
     "end_time": "2021-02-15T22:20:06.918168Z",
     "start_time": "2021-02-15T22:20:06.902961Z"
    }
   },
   "outputs": [
    {
     "name": "stdout",
     "output_type": "stream",
     "text": [
      "The exploring order with DFS is: ['s', 'a', 'c', 'e', 'd', 'b']\n"
     ]
    }
   ],
   "source": [
    "from DFS import *\n",
    "\n",
    "graph_example = {'s': ['a', 'b'],\n",
    "                 'a': ['s', 'c'],\n",
    "                 'b': ['s', 'c', 'd'],\n",
    "                 'c': ['a', 'e', 'd'],\n",
    "                 'd': ['b', 'c', 'e'],\n",
    "                 'e': ['c', 'd']}\n",
    "\n",
    "start_vertex = 's'\n",
    "exploring_params = DFS_simple_exploration(graph_example, start_vertex)\n",
    "print('The exploring order with DFS is:', exploring_params.explored)"
   ]
  },
  {
   "cell_type": "code",
   "execution_count": 5,
   "metadata": {
    "ExecuteTime": {
     "end_time": "2021-02-15T22:20:06.943700Z",
     "start_time": "2021-02-15T22:20:06.927775Z"
    }
   },
   "outputs": [
    {
     "name": "stdout",
     "output_type": "stream",
     "text": [
      "Exploring order: [10, 6, 8, 9, 5, 1, 3, 7, 4, 2]\n",
      "SCCs: {10: [10, 6, 8], 9: [9, 5, 1, 3, 7], 4: [4, 2]}\n"
     ]
    }
   ],
   "source": [
    "# On multiple connected components graph:\n",
    "params = DFS_loop(graph_SCC_example)\n",
    "print('Exploring order:', params.explored)\n",
    "print('SCCs:', params.SCCs)"
   ]
  },
  {
   "cell_type": "markdown",
   "metadata": {},
   "source": [
    "<img src=\"Images/DFS_properties.png\" width=\"600\"/>"
   ]
  },
  {
   "cell_type": "markdown",
   "metadata": {
    "ExecuteTime": {
     "end_time": "2021-01-01T15:34:33.886699Z",
     "start_time": "2021-01-01T15:34:33.875928Z"
    }
   },
   "source": [
    "### Strictly Connected Components (SCC)\n",
    "<img src=\"Images/DFS_SCC.png\" width=\"600\"/>\n",
    "<img src=\"Images/DFS_Kosaraju.png\" width=\"600\"/>\n",
    "<img src=\"Images/DFS_SCC_Code.png\" width=\"600\"/>"
   ]
  },
  {
   "cell_type": "markdown",
   "metadata": {},
   "source": [
    "The file contains the edges of a directed graph. Vertices are labeled as positive integers from 1 to 875714. Every row indicates an edge, the vertex label in first column is the tail and the vertex label in second column is the head (recall the graph is directed, and the edges are directed from the first column vertex to the second column vertex). So for example, the 11th row looks liks : \"2 47646\". This just means that the vertex with label 2 has an outgoing edge to the vertex with label 47646\n",
    "\n",
    "Your task is to code up the algorithm from the video lectures for computing strongly connected components (SCCs), and to run this algorithm on the given graph.\n",
    "\n",
    "Output Format: You should output the sizes of the 5 largest SCCs in the given graph, in decreasing order of sizes, separated by commas (avoid any spaces). So if your algorithm computes the sizes of the five largest SCCs to be 500, 400, 300, 200 and 100, then your answer should be \"500,400,300,200,100\" (without the quotes). If your algorithm finds less than 5 SCCs, then write 0 for the remaining terms. Thus, if your algorithm computes only 3 SCCs whose sizes are 400, 300, and 100, then your answer should be \"400,300,100,0,0\" (without the quotes).  (Note also that your answer should not have any spaces in it.)\n",
    "\n",
    "WARNING: This is the most challenging programming assignment of the course. Because of the size of the graph you may have to manage memory carefully. The best way to do this depends on your programming language and environment, and we strongly suggest that you exchange tips for doing this on the discussion forums."
   ]
  },
  {
   "cell_type": "markdown",
   "metadata": {},
   "source": [
    "### Course example\n",
    "<img src=\"Images/korasaju_example1.png\" width=\"500\"/>\n",
    "<img src=\"Images/korasaju_example2.png\" width=\"500\"/>"
   ]
  },
  {
   "cell_type": "code",
   "execution_count": 6,
   "metadata": {
    "ExecuteTime": {
     "end_time": "2021-02-15T22:20:07.022739Z",
     "start_time": "2021-02-15T22:20:06.997247Z"
    }
   },
   "outputs": [
    {
     "name": "stdout",
     "output_type": "stream",
     "text": [
      "---------Graphs---------\n",
      "Input  :                         {1: [4], 2: [8], 3: [6], 4: [7], 5: [2], 6: [9], 7: [1], 8: [5, 6], 9: [3, 7]}\n",
      "Step 1 - Reverse graph :         {1: [7], 2: [5], 3: [9], 4: [1], 5: [8], 6: [3, 8], 7: [4, 9], 8: [2], 9: [6]}\n",
      "Step 2 - Compute finishing time: {1: 7, 2: 3, 3: 1, 4: 8, 5: 2, 6: 5, 7: 9, 8: 4, 9: 6}\n",
      "Step 3 - Find the leaders :      {1: [5], 2: [3], 3: [4], 4: [2, 5], 5: [6], 6: [1, 9], 7: [8], 8: [9], 9: [7]}\n",
      "---------Results--------\n",
      "Leader for each node:            {9: 9, 7: 9, 8: 9, 6: 6, 1: 6, 5: 6, 4: 4, 2: 4, 3: 4}\n",
      "Leaders of SCCs in the graphs:   {9, 4, 6}\n",
      "SCCs (grouped by leader):        {9: [9, 7, 8], 6: [6, 1, 5], 4: [4, 2, 3]}\n"
     ]
    }
   ],
   "source": [
    "from korasaju import *\n",
    "\n",
    "G = {1: [4],\n",
    "     2: [8],\n",
    "     3: [6], \n",
    "     4: [7],\n",
    "     5: [2],\n",
    "     6: [9],\n",
    "     7: [1],\n",
    "     8: [5, 6],\n",
    "     9: [3, 7]}\n",
    "\n",
    "SCCs = korasaju(G, verbose=True).SCCs"
   ]
  },
  {
   "cell_type": "code",
   "execution_count": 7,
   "metadata": {
    "ExecuteTime": {
     "end_time": "2021-02-15T22:20:07.065682Z",
     "start_time": "2021-02-15T22:20:07.029390Z"
    }
   },
   "outputs": [
    {
     "data": {
      "text/plain": [
       "{9: [8, 7, 9], 6: [5, 1, 6], 4: [3, 2, 4]}"
      ]
     },
     "execution_count": 7,
     "metadata": {},
     "output_type": "execute_result"
    }
   ],
   "source": [
    "korasaju(G, use_stack=True).SCCs # Work also with a stack method of recursion"
   ]
  },
  {
   "cell_type": "code",
   "execution_count": 8,
   "metadata": {
    "ExecuteTime": {
     "end_time": "2021-02-15T22:20:07.085065Z",
     "start_time": "2021-02-15T22:20:07.075465Z"
    }
   },
   "outputs": [],
   "source": [
    "import os\n",
    "\n",
    "SCC_file = '../Data/SCC.txt'\n",
    "filepath = os.path.join(os.getcwd(), SCC_file)\n",
    "#graph, graph_rev = load_data(filepath)\n",
    "#nbr_nodes = len(graph.keys())\n",
    "#print(f'The number of nodes in the graph is: {nbr_nodes}')\n",
    "#SCCs = korasaju(graph, graph_rev, use_stack=True) # 434821,968,459,313,211"
   ]
  },
  {
   "cell_type": "markdown",
   "metadata": {},
   "source": [
    "## Dijkstra\n",
    "### Presentation\n",
    "<img src=\"Images/dijkstra_pseudocode.png\" width=\"600\"/>\n",
    "<img src=\"Images/dijkstra_example.png\" width=\"600\"/>"
   ]
  },
  {
   "cell_type": "code",
   "execution_count": 9,
   "metadata": {
    "ExecuteTime": {
     "end_time": "2021-02-15T22:20:07.102199Z",
     "start_time": "2021-02-15T22:20:07.090203Z"
    }
   },
   "outputs": [],
   "source": [
    "from dijkstra import *\n",
    "\n",
    "graph_example1 = {'s': {'v':1, 'w':4},\n",
    "                 'v': {'s':1, 'w':2, 't':6},\n",
    "                 'w': {'s':4, 't':3},\n",
    "                 't': {'v':6, 'w':3}}"
   ]
  },
  {
   "cell_type": "code",
   "execution_count": 10,
   "metadata": {
    "ExecuteTime": {
     "end_time": "2021-02-15T22:20:07.124557Z",
     "start_time": "2021-02-15T22:20:07.108907Z"
    }
   },
   "outputs": [
    {
     "data": {
      "text/plain": [
       "({'s': 0, 'v': 1, 'w': 3, 't': 6},\n",
       " {'s': ['s'],\n",
       "  'v': ['s', 'v'],\n",
       "  'w': ['s', 'v', 'w'],\n",
       "  't': ['s', 'v', 'w', 't']})"
      ]
     },
     "execution_count": 10,
     "metadata": {},
     "output_type": "execute_result"
    }
   ],
   "source": [
    "dijkstra_straightforward(graph_example1, 's')"
   ]
  },
  {
   "cell_type": "markdown",
   "metadata": {
    "ExecuteTime": {
     "end_time": "2021-02-10T10:19:03.356654Z",
     "start_time": "2021-02-10T10:19:03.347572Z"
    }
   },
   "source": [
    "### Properties\n",
    "<img src=\"Images/dijkstra_invariants.png\" width=\"600\"/>\n",
    "<img src=\"Images/dijkstra_invariants2.png\" width=\"600\"/>\n",
    "\n",
    "### Tests\n",
    "The file contains an adjacency list representation of an undirected weighted graph with 200 vertices labeled 1 to 200.  Each row consists of the node tuples that are adjacent to that particular vertex along with the length of that edge. For example, the 6th row has 6 as the first entry indicating that this row corresponds to the vertex labeled 6. The next entry of this row \"141,8200\" indicates that there is an edge between vertex 6 and vertex 141 that has length 8200.  The rest of the pairs of this row indicate the other vertices adjacent to vertex 6 and the lengths of the corresponding edges.\n",
    "\n",
    "Your task is to run Dijkstra's shortest-path algorithm on this graph, using 1 (the first vertex) as the source vertex, and to compute the shortest-path distances between 1 and every other vertex of the graph. If there is no path between a vertex vvv and vertex 1, we'll define the shortest-path distance between 1 and vvv to be 1000000. \n",
    "\n",
    "You should report the shortest-path distances to the following ten vertices, in order: 7,37,59,82,99,115,133,165,188,197.  You should encode the distances as a comma-separated string of integers. So if you find that all ten of these vertices except 115 are at distance 1000 away from vertex 1 and 115 is 2000 distance away, then your answer should be 1000,1000,1000,1000,1000,2000,1000,1000,1000,1000. Remember the order of reporting DOES MATTER, and the string should be in the same order in which the above ten vertices are given. The string should not contain any spaces.  Please type your answer in the space provided.\n",
    "\n",
    "IMPLEMENTATION NOTES: This graph is small enough that the straightforward O(mn)O(mn)O(mn) time implementation of Dijkstra's algorithm should work fine.  OPTIONAL: For those of you seeking an additional challenge, try implementing the heap-based version.  Note this requires a heap that supports deletions, and you'll probably need to maintain some kind of mapping between vertices and their positions in the heap."
   ]
  },
  {
   "cell_type": "code",
   "execution_count": 11,
   "metadata": {
    "ExecuteTime": {
     "end_time": "2021-02-15T22:20:07.691860Z",
     "start_time": "2021-02-15T22:20:07.128960Z"
    }
   },
   "outputs": [
    {
     "data": {
      "text/plain": [
       "[2599, 2610, 2947, 2052, 2367, 2399, 2029, 2442, 2505, 3068]"
      ]
     },
     "execution_count": 11,
     "metadata": {},
     "output_type": "execute_result"
    }
   ],
   "source": [
    "import os\n",
    "dijkstra_file = '../Data/dijkstra.txt'\n",
    "filepath = os.path.join(os.getcwd(), dijkstra_file)\n",
    "graph = load_data(filepath)\n",
    "\n",
    "nodes = [7,37,59,82,99,115,133,165,188,197]\n",
    "dijkstra_shortest_path(graph, 1, nodes)"
   ]
  },
  {
   "cell_type": "code",
   "execution_count": 12,
   "metadata": {
    "ExecuteTime": {
     "end_time": "2021-02-15T22:20:08.208867Z",
     "start_time": "2021-02-15T22:20:07.699093Z"
    }
   },
   "outputs": [
    {
     "data": {
      "text/plain": [
       "[2599, 2610, 2947, 2052, 2367, 2399, 2029, 2442, 2505, 3068]"
      ]
     },
     "execution_count": 12,
     "metadata": {},
     "output_type": "execute_result"
    }
   ],
   "source": [
    "# Work also with a heap data structure\n",
    "dijkstra_shortest_path(graph, 1, nodes, heap=True)"
   ]
  },
  {
   "cell_type": "markdown",
   "metadata": {},
   "source": [
    "## Heaps & Balanced Binary Search Trees\n",
    "### Heap properties\n",
    "<img src=\"Images/heap_properties.png\" width=\"600\"/>\n",
    "<img src=\"Images/heap_supported_operations.png\" width=\"600\"/>"
   ]
  },
  {
   "cell_type": "markdown",
   "metadata": {},
   "source": [
    "### Median Maintenance\n",
    "<img src=\"Images/median_maintenance.png\" width=\"600\"/>\n",
    "The goal of this problem is to implement the \"Median Maintenance\" algorithm (covered in the Week 3 lecture on heap applications).  The text file contains a list of the integers from 1 to 10000 in unsorted order; you should treat this as a stream of numbers, arriving one by one.  Letting x_i denote the ith number of the file, the kth median m_k is defined as the median of the numbers x_1,...,x_k. (So, if k is odd, then m_k is ((k+1)/2)th smallest number among x_1,...,x_k; if k is even, then m_k is the (k/2)th smallest number among x1,…,xk.)\n",
    "\n",
    "In the box below you should type the sum of these 10000 medians, modulo 10000 (i.e., only the last 4 digits).  That is, you should compute (m_1+m_2+m_3 + ... + m_10000) mod 10000.\n",
    "\n",
    "OPTIONAL EXERCISE: Compare the performance achieved by heap-based and search-tree-based implementations of the algorithm."
   ]
  },
  {
   "cell_type": "code",
   "execution_count": 13,
   "metadata": {
    "ExecuteTime": {
     "end_time": "2021-02-15T22:20:09.270197Z",
     "start_time": "2021-02-15T22:20:08.215567Z"
    }
   },
   "outputs": [
    {
     "data": {
      "text/plain": [
       "1213"
      ]
     },
     "execution_count": 13,
     "metadata": {},
     "output_type": "execute_result"
    }
   ],
   "source": [
    "from median_maintenance import *\n",
    "import os\n",
    "\n",
    "median_file = os.path.join(os.getcwd(), '../Data/Median.txt')\n",
    "data = load_data(median_file)\n",
    "\n",
    "median_maintenance(data)"
   ]
  },
  {
   "cell_type": "markdown",
   "metadata": {},
   "source": [
    "## Hashing and Bloom Filters"
   ]
  },
  {
   "cell_type": "code",
   "execution_count": null,
   "metadata": {
    "ExecuteTime": {
     "start_time": "2021-02-22T17:54:01.995Z"
    }
   },
   "outputs": [
    {
     "data": {
      "application/vnd.jupyter.widget-view+json": {
       "model_id": "c26fec838d4b412392c4be6150c6b30a",
       "version_major": 2,
       "version_minor": 0
      },
      "text/plain": [
       "  0%|          | 0/20001 [00:00<?, ?it/s]"
      ]
     },
     "metadata": {},
     "output_type": "display_data"
    }
   ],
   "source": [
    "from two_sum_hashset import *\n",
    "import os  \n",
    "\n",
    "filepath = os.path.join(os.getcwd(), '../Data/algo1-programming_prob-2sum.txt')\n",
    "data = load_data(filepath)\n",
    "two_sum_hash(data)"
   ]
  },
  {
   "cell_type": "code",
   "execution_count": null,
   "metadata": {},
   "outputs": [],
   "source": []
  }
 ],
 "metadata": {
  "kernelspec": {
   "display_name": "Python 3",
   "language": "python",
   "name": "python3"
  },
  "language_info": {
   "codemirror_mode": {
    "name": "ipython",
    "version": 3
   },
   "file_extension": ".py",
   "mimetype": "text/x-python",
   "name": "python",
   "nbconvert_exporter": "python",
   "pygments_lexer": "ipython3",
   "version": "3.7.7"
  },
  "toc": {
   "base_numbering": 1,
   "nav_menu": {},
   "number_sections": true,
   "sideBar": true,
   "skip_h1_title": true,
   "title_cell": "Table of Contents",
   "title_sidebar": "Contents",
   "toc_cell": true,
   "toc_position": {
    "height": "calc(100% - 180px)",
    "left": "10px",
    "top": "150px",
    "width": "336px"
   },
   "toc_section_display": true,
   "toc_window_display": false
  },
  "varInspector": {
   "cols": {
    "lenName": 16,
    "lenType": 16,
    "lenVar": 40
   },
   "kernels_config": {
    "python": {
     "delete_cmd_postfix": "",
     "delete_cmd_prefix": "del ",
     "library": "var_list.py",
     "varRefreshCmd": "print(var_dic_list())"
    },
    "r": {
     "delete_cmd_postfix": ") ",
     "delete_cmd_prefix": "rm(",
     "library": "var_list.r",
     "varRefreshCmd": "cat(var_dic_list()) "
    }
   },
   "types_to_exclude": [
    "module",
    "function",
    "builtin_function_or_method",
    "instance",
    "_Feature"
   ],
   "window_display": false
  }
 },
 "nbformat": 4,
 "nbformat_minor": 4
}
