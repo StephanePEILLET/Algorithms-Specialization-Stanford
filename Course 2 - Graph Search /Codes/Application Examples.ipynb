{
 "cells": [
  {
   "cell_type": "markdown",
   "metadata": {},
   "source": [
    "# <center>Graph Search</center>"
   ]
  },
  {
   "cell_type": "code",
   "execution_count": 1,
   "metadata": {
    "ExecuteTime": {
     "end_time": "2021-02-05T17:49:40.265478Z",
     "start_time": "2021-02-05T17:49:37.697589Z"
    }
   },
   "outputs": [],
   "source": [
    "import numpy as np\n",
    "import pandas as pd\n",
    "import matplotlib.pyplot as plt\n",
    "import seaborn as sns"
   ]
  },
  {
   "cell_type": "markdown",
   "metadata": {},
   "source": [
    "# Graph Search And Connectivity\n",
    "<img src=\"Images/BFS_vs_DFS.png\" width=\"600\"/>"
   ]
  },
  {
   "cell_type": "markdown",
   "metadata": {},
   "source": [
    "## Breath First Search (BFS)"
   ]
  },
  {
   "cell_type": "markdown",
   "metadata": {},
   "source": [
    "### Algorithm description\n",
    "<img src=\"Images/BFS_Code.png\" width=\"600\"/>"
   ]
  },
  {
   "cell_type": "code",
   "execution_count": 2,
   "metadata": {
    "ExecuteTime": {
     "end_time": "2021-02-05T17:49:40.577709Z",
     "start_time": "2021-02-05T17:49:40.555752Z"
    }
   },
   "outputs": [
    {
     "name": "stdout",
     "output_type": "stream",
     "text": [
      "Start exploration with the node s\n",
      "- Exploring Order: ['s', 'a', 'b', 'c', 'd', 'e']\n",
      "- Layers: {0: ['s'], 1: ['a', 'b'], 2: ['c', 'd'], 3: ['e']} \n",
      "\n",
      "Start exploration with the node a\n",
      "- Exploring Order: ['a', 's', 'c', 'b', 'd', 'e']\n",
      "- Layers: {0: ['a'], 1: ['s', 'c'], 2: ['b', 'd', 'e']} \n",
      "\n",
      "Start exploration with the node e\n",
      "- Exploring Order: ['e', 'c', 'd', 'a', 'b', 's']\n",
      "- Layers: {0: ['e'], 1: ['c', 'd'], 2: ['a', 'b'], 3: ['s']} \n",
      "\n"
     ]
    }
   ],
   "source": [
    "from BFS import *\n",
    "\n",
    "graph_example = {'s': ['a', 'b'],\n",
    "                 'a': ['s', 'c'],\n",
    "                 'b': ['s', 'c', 'd'],\n",
    "                 'c': ['a', 'b', 'd', 'e'],\n",
    "                 'd': ['b', 'c', 'e'],\n",
    "                 'e': ['c', 'd']}\n",
    "\n",
    "# Example as in the course \n",
    "start_vertex = 's'; BFS_display(graph_example, start_vertex)\n",
    "start_vertex = 'a'; BFS_display(graph_example, start_vertex)\n",
    "start_vertex = 'e'; BFS_display(graph_example, start_vertex)"
   ]
  },
  {
   "cell_type": "markdown",
   "metadata": {},
   "source": [
    "### Shortest Paths    \n",
    "<img src=\"Images/BFS_ShortestPath.png\" width=\"600\"/>"
   ]
  },
  {
   "cell_type": "code",
   "execution_count": 3,
   "metadata": {
    "ExecuteTime": {
     "end_time": "2021-02-05T17:49:40.868361Z",
     "start_time": "2021-02-05T17:49:40.861457Z"
    }
   },
   "outputs": [
    {
     "name": "stdout",
     "output_type": "stream",
     "text": [
      "Start exploration with the node s\n",
      "- Exploring Order: ['s', 'a', 'b', 'c', 'd', 'e']\n",
      "- Layers: {0: ['s'], 1: ['a', 'b'], 2: ['c', 'd'], 3: ['e']} \n",
      "\n",
      "BFS shortest path: start vertex s and target vertex e\n",
      "Distance path: 3 and shortest path: ['s', 'a', 'c', 'e']\n"
     ]
    }
   ],
   "source": [
    "start_vertex = 's'; target_vertex = 'e'\n",
    "BFS_display(graph_example, start_vertex, target_vertex)"
   ]
  },
  {
   "cell_type": "markdown",
   "metadata": {},
   "source": [
    "### Connected Components via BFS\n",
    "<img src=\"Images/BFS_Connected_Components.png\" width=\"600\"/>"
   ]
  },
  {
   "cell_type": "code",
   "execution_count": 4,
   "metadata": {
    "ExecuteTime": {
     "end_time": "2021-02-05T17:49:41.081685Z",
     "start_time": "2021-02-05T17:49:41.069082Z"
    }
   },
   "outputs": [
    {
     "name": "stdout",
     "output_type": "stream",
     "text": [
      "There is 3 connected components in the graph:\n",
      "*[2, 4]\n",
      "*[1, 3, 5, 7, 9]\n",
      "*[6, 8, 10]\n"
     ]
    }
   ],
   "source": [
    "graph_SCC_example = {1: [3, 5],\n",
    "                     2: [4],\n",
    "                     3: [1, 5],\n",
    "                     4: [2],\n",
    "                     5: [1, 3, 7, 9],\n",
    "                     6: [8, 10],\n",
    "                     7: [5],\n",
    "                     8: [6, 10],\n",
    "                     9: [5],\n",
    "                     10:[6, 8]\n",
    "}\n",
    "\n",
    "number_SCCs, SCCs = BFS_SCC(graph_SCC_example)\n",
    "print(f'There is {number_SCCs} connected components in the graph:')\n",
    "for SCC in SCCs:\n",
    "    print(f'*{SCC}')"
   ]
  },
  {
   "cell_type": "markdown",
   "metadata": {},
   "source": [
    "## Deep First Search (DFS)"
   ]
  },
  {
   "cell_type": "markdown",
   "metadata": {},
   "source": [
    "### Algorithm description\n",
    "<img src=\"Images/DFS_overview.png\" width=\"600\"/>\n",
    "<img src=\"Images/DFS_Code.png\" width=\"600\"/>"
   ]
  },
  {
   "cell_type": "code",
   "execution_count": 9,
   "metadata": {
    "ExecuteTime": {
     "end_time": "2021-02-05T21:32:07.859655Z",
     "start_time": "2021-02-05T21:32:07.847131Z"
    }
   },
   "outputs": [
    {
     "data": {
      "text/plain": [
       "['s', 'a', 'c', 'b', 'd', 'e']"
      ]
     },
     "execution_count": 9,
     "metadata": {},
     "output_type": "execute_result"
    }
   ],
   "source": [
    "from DFS import *\n",
    "\n",
    "graph_example = {'s': ['a', 'b'],\n",
    "                 'a': ['s', 'c'],\n",
    "                 'b': ['s', 'c', 'd'],\n",
    "                 'c': ['a', 'b', 'd', 'e'],\n",
    "                 'd': ['b', 'c', 'e'],\n",
    "                 'e': ['c', 'd']}\n",
    "\n",
    "DFS(graph_example)"
   ]
  },
  {
   "cell_type": "code",
   "execution_count": 7,
   "metadata": {
    "ExecuteTime": {
     "end_time": "2021-02-05T21:31:46.307851Z",
     "start_time": "2021-02-05T21:31:46.296166Z"
    }
   },
   "outputs": [],
   "source": [
    "def DFS_intern(graph:dict, start_vertex:int, explored:list=[])->list:\n",
    "    explored.append(start_vertex)\n",
    "    for node in graph[start_vertex]:\n",
    "        if node not in explored:\n",
    "            DFS_intern(graph, node, explored=explored)\n",
    "\n",
    "def DFS(graph:dict)-> list:\n",
    "    nodes = list(graph.keys())\n",
    "    explored = [nodes[0]]\n",
    "    for node in nodes:\n",
    "        if node not in explored:\n",
    "            DFS_intern(graph, node, explored=explored)\n",
    "    return explored"
   ]
  },
  {
   "cell_type": "code",
   "execution_count": 8,
   "metadata": {
    "ExecuteTime": {
     "end_time": "2021-02-05T21:31:46.901477Z",
     "start_time": "2021-02-05T21:31:46.888495Z"
    }
   },
   "outputs": [
    {
     "data": {
      "text/plain": [
       "['s', 'a', 'c', 'b', 'd', 'e']"
      ]
     },
     "execution_count": 8,
     "metadata": {},
     "output_type": "execute_result"
    }
   ],
   "source": []
  },
  {
   "cell_type": "code",
   "execution_count": null,
   "metadata": {},
   "outputs": [],
   "source": [
    "def DFSrev(Grev:list, i:int)->None:\n",
    "    '''\n",
    "        Apply DFS from a defined node on Grev.\n",
    "        Give a finishing time to every node of the graph to compute \"magical ordering\" of the nodes.\n",
    "    '''\n",
    "    global t, is_explored, finishing_time\n",
    "    is_explored[i] = True\n",
    "    for j in Grev[i]:\n",
    "        if not is_explored[j]:\n",
    "            DFSrev(Grev, j)\n",
    "    t += 1\n",
    "    finishing_time[i] = t \n",
    "\n",
    "def DFSrev_Loop(Grev:list)->None:\n",
    "    '''\n",
    "        Loop DFS on every node of the graph Grev.\n",
    "    '''\n",
    "    global t, is_explored, finishing_time\n",
    "    is_explored = [False for x in range(nbr_nodes)]\n",
    "    t = 0\n",
    "    for i in range(len(Grev)-1, 0, -1):\n",
    "        if not is_explored[i]:\n",
    "            DFSrev(Grev, i)"
   ]
  },
  {
   "cell_type": "markdown",
   "metadata": {},
   "source": [
    "<img src=\"Images/DFS_properties.png\" width=\"600\"/>"
   ]
  },
  {
   "cell_type": "markdown",
   "metadata": {
    "ExecuteTime": {
     "end_time": "2021-01-01T15:34:33.886699Z",
     "start_time": "2021-01-01T15:34:33.875928Z"
    }
   },
   "source": [
    "### Strictly Connected Components (SCC)\n",
    "<img src=\"Images/DFS_SCC.png\" width=\"600\"/>\n",
    "<img src=\"Images/DFS_Kosaraju.png\" width=\"600\"/>\n",
    "<img src=\"Images/DFS_SCC_Code.png\" width=\"600\"/>"
   ]
  },
  {
   "cell_type": "markdown",
   "metadata": {},
   "source": [
    "The file contains the edges of a directed graph. Vertices are labeled as positive integers from 1 to 875714. Every row indicates an edge, the vertex label in first column is the tail and the vertex label in second column is the head (recall the graph is directed, and the edges are directed from the first column vertex to the second column vertex). So for example, the 11th row looks liks : \"2 47646\". This just means that the vertex with label 2 has an outgoing edge to the vertex with label 47646\n",
    "\n",
    "Your task is to code up the algorithm from the video lectures for computing strongly connected components (SCCs), and to run this algorithm on the given graph.\n",
    "\n",
    "Output Format: You should output the sizes of the 5 largest SCCs in the given graph, in decreasing order of sizes, separated by commas (avoid any spaces). So if your algorithm computes the sizes of the five largest SCCs to be 500, 400, 300, 200 and 100, then your answer should be \"500,400,300,200,100\" (without the quotes). If your algorithm finds less than 5 SCCs, then write 0 for the remaining terms. Thus, if your algorithm computes only 3 SCCs whose sizes are 400, 300, and 100, then your answer should be \"400,300,100,0,0\" (without the quotes).  (Note also that your answer should not have any spaces in it.)\n",
    "\n",
    "WARNING: This is the most challenging programming assignment of the course. Because of the size of the graph you may have to manage memory carefully. The best way to do this depends on your programming language and environment, and we strongly suggest that you exchange tips for doing this on the discussion forums."
   ]
  },
  {
   "cell_type": "markdown",
   "metadata": {},
   "source": [
    "### Réponse tenté\n",
    "613052,121,113,76,70"
   ]
  },
  {
   "cell_type": "code",
   "execution_count": null,
   "metadata": {},
   "outputs": [],
   "source": []
  },
  {
   "cell_type": "code",
   "execution_count": null,
   "metadata": {},
   "outputs": [],
   "source": []
  },
  {
   "cell_type": "code",
   "execution_count": null,
   "metadata": {
    "ExecuteTime": {
     "end_time": "2021-02-05T15:06:32.799535Z",
     "start_time": "2021-02-05T15:06:32.779687Z"
    }
   },
   "outputs": [],
   "source": [
    "# SCC algorithm with only list and global variables\n",
    "import os, sys, threading\n",
    "\n",
    "SCC_file = '../Data/SCC.txt'\n",
    "filepath = os.path.join(os.getcwd(), SCC_file)\n",
    "nbr_nodes = 875715\n",
    "\n",
    "def load_data(filepath:str, nbr_nodes:int)->list:\n",
    "    '''\n",
    "        Create graph/graph reverse as lists from the input file.\n",
    "    '''\n",
    "    file = open(filepath,\"r\")\n",
    "    data = file.readlines()\n",
    "    G, Grev = [[] for x in range(nbr_nodes)], [[] for x in range(nbr_nodes)]\n",
    "    for line in data:\n",
    "        node_start, node_end = list(map(lambda x: int(x),line.split())) \n",
    "        G[node_start].append(node_end); Grev[node_end].append(node_start)\n",
    "    return G, Grev   \n",
    "\n",
    "def DFSrev(Grev:list, i:int)->None:\n",
    "    '''\n",
    "        Apply DFS from a defined node on Grev.\n",
    "        Give a finishing time to every node of the graph to compute \"magical ordering\" of the nodes.\n",
    "    '''\n",
    "    global t, is_explored, finishing_time\n",
    "    is_explored[i] = True\n",
    "    for j in Grev[i]:\n",
    "        if not is_explored[j]:\n",
    "            DFSrev(Grev, j)\n",
    "    t += 1\n",
    "    finishing_time[i] = t \n",
    "\n",
    "def DFSrev_Loop(Grev:list)->None:\n",
    "    '''\n",
    "        Loop DFS on every node of the graph Grev.\n",
    "    '''\n",
    "    global t, is_explored, finishing_time\n",
    "    is_explored = [False for x in range(nbr_nodes)]\n",
    "    t = 0\n",
    "    for i in range(len(Grev)-1, 0, -1):\n",
    "        if not is_explored[i]:\n",
    "            DFSrev(Grev, i)\n",
    "\n",
    "def DFS(G:list, i:int)->None:\n",
    "    '''\n",
    "        Apply DFS from a defined node on G.\n",
    "        Find the SCCs in the graph and list all the leaders.\n",
    "    '''\n",
    "    global is_explored, scc_size\n",
    "    is_explored[i] = True\n",
    "    for j in G[i]:\n",
    "        if is_explored[j]:\n",
    "            DFS(G, j)\n",
    "    scc_size += 1                      \n",
    "\n",
    "def DFS_Loop(G:list)->None:\n",
    "    '''\n",
    "        Loop DFS on every node of the graph G.\n",
    "    '''\n",
    "    global is_explored, finishing_time, SCCs, scc_size\n",
    "    is_explored = [False for x in range(nbr_nodes)]\n",
    "    for i in range(len(G)-1, 0, -1):\n",
    "        if not is_explored[i]:\n",
    "            scc_size = 0\n",
    "            DFS(G, i)\n",
    "            SCCs.append(scc_size)\n",
    "            \n",
    "def Korasaju(filepath:str, nbr_nodes:int)->list:\n",
    "    '''\n",
    "        Apply Korasaju's two passes algorithms to find the five biggest Strongly Connected Components(SCC).\n",
    "    '''\n",
    "    global finishing_time, SCCs\n",
    "    finishing_time = [[] for x in range(nbr_nodes)]\n",
    "    SCCs = []\n",
    "    G, Grev = load_data(filepath, nbr_nodes)     # 1 - Let Grev = G with all arcs reversed\n",
    "    DFSrev_Loop(Grev)                            # 2 - Run DFS-Loop on Grev. Give a finishing time to every node of the graph to compute \"magical ordering\" of the nodes.\n",
    "    DFS_Loop(G)                                  # 3 - Run DFS-Loop on G. Processinig all nodes by finishing time.\n",
    "    return sorted(SCCs, reverse=True)[:5]"
   ]
  },
  {
   "cell_type": "code",
   "execution_count": null,
   "metadata": {
    "ExecuteTime": {
     "start_time": "2021-02-05T15:06:28.929Z"
    }
   },
   "outputs": [],
   "source": [
    "threading.stack_size(67108864) # 64MB stack\n",
    "sys.setrecursionlimit(2 ** 20)  # approx 1 million recursions\n",
    "\n",
    "Korasaju(filepath, nbr_nodes)"
   ]
  },
  {
   "cell_type": "code",
   "execution_count": null,
   "metadata": {
    "ExecuteTime": {
     "end_time": "2021-01-03T08:44:30.327425Z",
     "start_time": "2021-01-03T08:43:51.930778Z"
    }
   },
   "outputs": [],
   "source": []
  },
  {
   "cell_type": "code",
   "execution_count": null,
   "metadata": {
    "ExecuteTime": {
     "start_time": "2021-02-05T15:06:28.933Z"
    }
   },
   "outputs": [],
   "source": [
    "from collections import defaultdict\n",
    "import sys\n",
    "import threading\n",
    "\n",
    "\n",
    "class Track():\n",
    "    \"\"\" Use Track() class to record all the information \"\"\"\n",
    "    def __init__(self):\n",
    "        self.visited = set()\n",
    "        self.current_time = 0\n",
    "        self.current_source = []\n",
    "        self.leader = defaultdict(list)\n",
    "        self.finishing_times = {}\n",
    "\n",
    "    def addNode(self, node):\n",
    "        \"\"\" Add node to a leader dictionary \"\"\"\n",
    "        self.leader[self.current_source].append(node)\n",
    "\n",
    "\n",
    "def dfs(graph, start, track):\n",
    "    \"\"\" DFS on the graph from start vertex\"\"\"\n",
    "    track.visited.add(start)\n",
    "    track.addNode(start)\n",
    "    for v in graph[start]:\n",
    "        if v not in track.visited:\n",
    "            dfs(graph, v, track)\n",
    "\n",
    "    track.current_time += 1\n",
    "    track.finishing_times[start] = track.current_time\n",
    "\n",
    "\n",
    "def dfs_loop(graph, nodes, track):\n",
    "    \"\"\" Loop over the nodes on the graph using DFS \"\"\"\n",
    "    for node in nodes:\n",
    "        if node not in track.visited:\n",
    "            track.current_source = node\n",
    "            dfs(graph, node, track)\n",
    "\n",
    "\n",
    "def load_graph(filename):\n",
    "    \"\"\" Load the graph structure from the txt file \"\"\"\n",
    "    edges = []\n",
    "    with open(filename) as f:\n",
    "        for lines in f:\n",
    "            line = lines.split()\n",
    "            edges.append((int(line[0]), int(line[1])))\n",
    "\n",
    "    nodes = list(set([v for edge in edges for v in edge]))\n",
    "    graph = {i: [] for i in range(1, len(nodes) + 1)}\n",
    "    graph_rev = {i: [] for i in range(1, len(nodes) + 1)}\n",
    "    for edge in edges:\n",
    "        graph[edge[0]].append(edge[1])\n",
    "        graph_rev[edge[1]].append(edge[0])\n",
    "\n",
    "    return graph, graph_rev, nodes\n",
    "\n",
    "\n",
    "def scc(graph, graph_rev, nodes):\n",
    "    \"\"\" Compute the SCC components \"\"\"\n",
    "    track = Track()\n",
    "    dfs_loop(graph_rev, nodes, track)\n",
    "    sorted_nodes = sorted(track.finishing_times, key=track.finishing_times.get, reverse=True)\n",
    "    track = Track()\n",
    "    dfs_loop(graph, sorted_nodes, track)\n",
    "    return track\n",
    "\n",
    "\n",
    "def most_common(leader, x):\n",
    "    \"\"\" Find the top x elements \"\"\"\n",
    "    results = [len(v) for k, v in leader.items()] + [0] * x\n",
    "    return sorted(results, reverse=True)[: x]\n",
    "\n",
    "\n",
    "def main():\n",
    "    graph, graph_rev, nodes = load_graph(filepath)\n",
    "    track = scc(graph, graph_rev, nodes)\n",
    "    assert most_common(track.leader, 5) == [6, 3, 2, 1, 0]\n",
    "\n",
    "    graph, graph_rev, nodes = load_graph(\"SCC.txt\")\n",
    "    track = scc(graph, graph_rev, nodes)\n",
    "    print(most_common(track.leader, 5))"
   ]
  },
  {
   "cell_type": "code",
   "execution_count": null,
   "metadata": {
    "ExecuteTime": {
     "start_time": "2021-02-05T15:06:28.936Z"
    }
   },
   "outputs": [],
   "source": [
    "main()"
   ]
  },
  {
   "cell_type": "code",
   "execution_count": null,
   "metadata": {},
   "outputs": [],
   "source": []
  }
 ],
 "metadata": {
  "kernelspec": {
   "display_name": "Python 3",
   "language": "python",
   "name": "python3"
  },
  "language_info": {
   "codemirror_mode": {
    "name": "ipython",
    "version": 3
   },
   "file_extension": ".py",
   "mimetype": "text/x-python",
   "name": "python",
   "nbconvert_exporter": "python",
   "pygments_lexer": "ipython3",
   "version": "3.7.7"
  },
  "toc": {
   "base_numbering": 1,
   "nav_menu": {},
   "number_sections": true,
   "sideBar": true,
   "skip_h1_title": true,
   "title_cell": "Table of Contents",
   "title_sidebar": "Contents",
   "toc_cell": false,
   "toc_position": {},
   "toc_section_display": true,
   "toc_window_display": false
  },
  "varInspector": {
   "cols": {
    "lenName": 16,
    "lenType": 16,
    "lenVar": 40
   },
   "kernels_config": {
    "python": {
     "delete_cmd_postfix": "",
     "delete_cmd_prefix": "del ",
     "library": "var_list.py",
     "varRefreshCmd": "print(var_dic_list())"
    },
    "r": {
     "delete_cmd_postfix": ") ",
     "delete_cmd_prefix": "rm(",
     "library": "var_list.r",
     "varRefreshCmd": "cat(var_dic_list()) "
    }
   },
   "types_to_exclude": [
    "module",
    "function",
    "builtin_function_or_method",
    "instance",
    "_Feature"
   ],
   "window_display": false
  }
 },
 "nbformat": 4,
 "nbformat_minor": 4
}
