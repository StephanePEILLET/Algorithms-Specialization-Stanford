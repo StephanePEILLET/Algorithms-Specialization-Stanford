{
 "cells": [
  {
   "cell_type": "markdown",
   "metadata": {},
   "source": [
    "# <center>Graph Search</center>"
   ]
  },
  {
   "cell_type": "markdown",
   "metadata": {},
   "source": [
    "# Graph Search And Connectivity\n",
    "<img src=\"Images/BFS_vs_DFS.png\" width=\"600\"/>"
   ]
  },
  {
   "cell_type": "markdown",
   "metadata": {},
   "source": [
    "## Breath First Search (BFS)"
   ]
  },
  {
   "cell_type": "markdown",
   "metadata": {},
   "source": [
    "### Algorithm description\n",
    "<img src=\"Images/BFS_Code.png\" width=\"600\"/>"
   ]
  },
  {
   "cell_type": "code",
   "execution_count": null,
   "metadata": {},
   "outputs": [],
   "source": []
  },
  {
   "cell_type": "markdown",
   "metadata": {},
   "source": [
    "### Shortest Paths    \n",
    "<img src=\"Images/BFS_ShortestPath.png\" width=\"600\"/>"
   ]
  },
  {
   "cell_type": "code",
   "execution_count": null,
   "metadata": {},
   "outputs": [],
   "source": []
  },
  {
   "cell_type": "markdown",
   "metadata": {},
   "source": [
    "### Connected Components via BFS\n",
    "<img src=\"Images/BFS_Connected_Components.png\" width=\"600\"/>"
   ]
  },
  {
   "cell_type": "code",
   "execution_count": null,
   "metadata": {},
   "outputs": [],
   "source": []
  },
  {
   "cell_type": "markdown",
   "metadata": {},
   "source": [
    "## Deep First Search (DFS)"
   ]
  },
  {
   "cell_type": "markdown",
   "metadata": {},
   "source": [
    "### Algorithm description\n",
    "<img src=\"Images/DFS_properties.png\" width=\"600\"/>\n",
    "<img src=\"Images/DFS_Code.png\" width=\"600\"/>"
   ]
  },
  {
   "cell_type": "code",
   "execution_count": null,
   "metadata": {},
   "outputs": [],
   "source": []
  },
  {
   "cell_type": "markdown",
   "metadata": {
    "ExecuteTime": {
     "end_time": "2021-01-01T15:34:33.886699Z",
     "start_time": "2021-01-01T15:34:33.875928Z"
    }
   },
   "source": [
    "### Strictly Connected Components (SCC)\n",
    "<img src=\"Images/DFS_SCC.png\" width=\"600\"/>\n",
    "<img src=\"Images/DFS_Kosaraju.png\" width=\"600\"/>\n",
    "<img src=\"Images/DFS_SCC_Code.png\" width=\"600\"/>"
   ]
  },
  {
   "cell_type": "code",
   "execution_count": null,
   "metadata": {
    "ExecuteTime": {
     "end_time": "2021-01-01T22:29:11.861155Z",
     "start_time": "2021-01-01T22:29:11.847503Z"
    }
   },
   "outputs": [],
   "source": [
    "def DFS():\n",
    "    "
   ]
  },
  {
   "cell_type": "code",
   "execution_count": null,
   "metadata": {
    "ExecuteTime": {
     "end_time": "2021-01-01T22:29:11.898748Z",
     "start_time": "2021-01-01T22:29:11.758Z"
    }
   },
   "outputs": [],
   "source": [
    "def DFS1(graph_rev, i):\n",
    "    global t, visited\n",
    "    visited[i] = True\n",
    "    \n",
    "    for edge in graph_rev[i]:\n",
    "        if not visited[edge]:\n",
    "            DFS1(graph_rev, edge)\n",
    "\n",
    "    finish[t] = i\n",
    "    t= t+1"
   ]
  },
  {
   "cell_type": "markdown",
   "metadata": {},
   "source": [
    "The file contains the edges of a directed graph. Vertices are labeled as positive integers from 1 to 875714. Every row indicates an edge, the vertex label in first column is the tail and the vertex label in second column is the head (recall the graph is directed, and the edges are directed from the first column vertex to the second column vertex). So for example, the 11th row looks liks : \"2 47646\". This just means that the vertex with label 2 has an outgoing edge to the vertex with label 47646\n",
    "\n",
    "Your task is to code up the algorithm from the video lectures for computing strongly connected components (SCCs), and to run this algorithm on the given graph.\n",
    "\n",
    "Output Format: You should output the sizes of the 5 largest SCCs in the given graph, in decreasing order of sizes, separated by commas (avoid any spaces). So if your algorithm computes the sizes of the five largest SCCs to be 500, 400, 300, 200 and 100, then your answer should be \"500,400,300,200,100\" (without the quotes). If your algorithm finds less than 5 SCCs, then write 0 for the remaining terms. Thus, if your algorithm computes only 3 SCCs whose sizes are 400, 300, and 100, then your answer should be \"400,300,100,0,0\" (without the quotes).  (Note also that your answer should not have any spaces in it.)\n",
    "\n",
    "WARNING: This is the most challenging programming assignment of the course. Because of the size of the graph you may have to manage memory carefully. The best way to do this depends on your programming language and environment, and we strongly suggest that you exchange tips for doing this on the discussion forums."
   ]
  },
  {
   "cell_type": "code",
   "execution_count": 1,
   "metadata": {
    "ExecuteTime": {
     "end_time": "2021-01-01T22:33:01.400748Z",
     "start_time": "2021-01-01T22:33:01.388208Z"
    }
   },
   "outputs": [],
   "source": [
    "# Imports \n",
    "import os \n",
    "from SCC import *\n",
    "\n",
    "path_file = '../Data/SCC.txt'\n",
    "filepath = os.path.join(os.getcwd(), path_file)"
   ]
  },
  {
   "cell_type": "code",
   "execution_count": 8,
   "metadata": {
    "ExecuteTime": {
     "end_time": "2021-01-01T23:49:57.345981Z",
     "start_time": "2021-01-01T23:49:57.319900Z"
    }
   },
   "outputs": [],
   "source": [
    "class Node:\n",
    "    def __init__(self, index:int):\n",
    "        self.index = index\n",
    "        self.is_explored = False\n",
    "        self.links = []\n",
    "        self.links_rev = []\n",
    "        self.finish_time = 0\n",
    "    \n",
    "    def add_link(self, link_index):\n",
    "        self.links.append(link_index)\n",
    "        \n",
    "    def add_rev(self, link_index):\n",
    "        self.links_rev.append(link_index)\n",
    "\n",
    "class Graph:\n",
    "    def __init__(self, nbr_nodes:int):\n",
    "        self.t = 0\n",
    "        self.s = 0\n",
    "        self.leader = {}\n",
    "        self.length = nbr_nodes\n",
    "        self.nodes = {k: Node(k) for k in range(nbr_nodes)}\n",
    "        \n",
    "    def add_link_to_node(self, node_index, link_index):\n",
    "        self.nodes[node_index].add_link(link_index)\n",
    "        self.nodes[link_index].add_rev(node_index)\n",
    "    \n",
    "    def get(self,node_index):\n",
    "        node = self.nodes[node_index]\n",
    "        print(f'Node: {node.index} -linked to:{node.links} -is explored:{node.is_explored} f(i):{node.finish_time}')\n",
    "\n",
    "def DFS(graph:dict, start_vertex:int)->None:\n",
    "    graph[start_vertex].is_explored = True\n",
    "    graph.leader[start_vertex] = graph[graph.s]\n",
    "    for i in graph.nodes.keys():\n",
    "        for j in graph[i].links:\n",
    "            if graph[j].is_explored:\n",
    "                DFS(graph, j)\n",
    "    graph.t += 1\n",
    "    graph[start_vertex].finish_time = graph.t \n",
    "\n",
    "def DFS_Loop(graph:Graph)->None:\n",
    "    for i in range(graph.length, 0, -1):\n",
    "        if not graph[i].is_explored:\n",
    "            graph.s = i\n",
    "            DFS(graph, i)    \n",
    "\n",
    "def get_SCC(graph:dict)->int:\n",
    "    return        \n",
    "\n",
    "def create_data(file_name:str)->dict:\n",
    "    '''\n",
    "        From SCC file create a graph and reverse graph.\n",
    "        SCC extract : \n",
    "                            1 1 \n",
    "                            1 2 \n",
    "                            1 5 \n",
    "                            ...\n",
    "                            2 47646      \n",
    "                            2 47647 \n",
    "                            2 13019 \n",
    "                            2 47648 \n",
    "                            ...\n",
    "    '''\n",
    "    file = open(file_name,\"r\")\n",
    "    data = file.readlines()\n",
    "    nbr_nodes = 875715\n",
    "    graph = Graph(nbr_nodes)\n",
    "    \n",
    "    for line in data:\n",
    "        node_start, node_end = list(map(lambda x: int(x),line.split())) \n",
    "        graph.add_link_to_node(node_start, node_end)\n",
    "\n",
    "    return graph"
   ]
  },
  {
   "cell_type": "code",
   "execution_count": 9,
   "metadata": {
    "ExecuteTime": {
     "end_time": "2021-01-01T23:50:41.942156Z",
     "start_time": "2021-01-01T23:49:57.699866Z"
    }
   },
   "outputs": [],
   "source": [
    "graph = create_data(filepath)"
   ]
  },
  {
   "cell_type": "markdown",
   "metadata": {},
   "source": [
    "<img src=\"Images/DFS_SCC_Code.png\" width=\"600\"/>"
   ]
  },
  {
   "cell_type": "code",
   "execution_count": 10,
   "metadata": {
    "ExecuteTime": {
     "end_time": "2021-01-01T23:50:42.211591Z",
     "start_time": "2021-01-01T23:50:42.181852Z"
    }
   },
   "outputs": [
    {
     "ename": "IndentationError",
     "evalue": "expected an indented block (<ipython-input-10-87ddc0b8c92b>, line 4)",
     "output_type": "error",
     "traceback": [
      "\u001b[0;36m  File \u001b[0;32m\"<ipython-input-10-87ddc0b8c92b>\"\u001b[0;36m, line \u001b[0;32m4\u001b[0m\n\u001b[0;31m    def DFS_Loop(graph:dict, start_vertex:int)->None:\u001b[0m\n\u001b[0m                                                     ^\u001b[0m\n\u001b[0;31mIndentationError\u001b[0m\u001b[0;31m:\u001b[0m expected an indented block\n"
     ]
    }
   ],
   "source": [
    "1 7\n",
    "2 5\n",
    "3 9\n",
    "4 1\n",
    "5 8\n",
    "6 3 8\n",
    "7 4 9\n",
    "8 2\n",
    "9 6"
   ]
  },
  {
   "cell_type": "code",
   "execution_count": 13,
   "metadata": {
    "ExecuteTime": {
     "end_time": "2021-01-01T23:51:43.592984Z",
     "start_time": "2021-01-01T23:51:43.555136Z"
    }
   },
   "outputs": [
    {
     "data": {
      "text/plain": [
       "[]"
      ]
     },
     "execution_count": 13,
     "metadata": {},
     "output_type": "execute_result"
    }
   ],
   "source": [
    "[x for x in (range(3, -1))]"
   ]
  },
  {
   "cell_type": "code",
   "execution_count": null,
   "metadata": {},
   "outputs": [],
   "source": []
  }
 ],
 "metadata": {
  "kernelspec": {
   "display_name": "Python 3",
   "language": "python",
   "name": "python3"
  },
  "language_info": {
   "codemirror_mode": {
    "name": "ipython",
    "version": 3
   },
   "file_extension": ".py",
   "mimetype": "text/x-python",
   "name": "python",
   "nbconvert_exporter": "python",
   "pygments_lexer": "ipython3",
   "version": "3.7.7"
  },
  "toc": {
   "base_numbering": 1,
   "nav_menu": {},
   "number_sections": true,
   "sideBar": true,
   "skip_h1_title": true,
   "title_cell": "Table of Contents",
   "title_sidebar": "Contents",
   "toc_cell": false,
   "toc_position": {},
   "toc_section_display": true,
   "toc_window_display": false
  },
  "varInspector": {
   "cols": {
    "lenName": 16,
    "lenType": 16,
    "lenVar": 40
   },
   "kernels_config": {
    "python": {
     "delete_cmd_postfix": "",
     "delete_cmd_prefix": "del ",
     "library": "var_list.py",
     "varRefreshCmd": "print(var_dic_list())"
    },
    "r": {
     "delete_cmd_postfix": ") ",
     "delete_cmd_prefix": "rm(",
     "library": "var_list.r",
     "varRefreshCmd": "cat(var_dic_list()) "
    }
   },
   "types_to_exclude": [
    "module",
    "function",
    "builtin_function_or_method",
    "instance",
    "_Feature"
   ],
   "window_display": false
  }
 },
 "nbformat": 4,
 "nbformat_minor": 4
}
