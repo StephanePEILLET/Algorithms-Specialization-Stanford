{
 "cells": [
  {
   "cell_type": "markdown",
   "metadata": {},
   "source": [
    "# <center>Graph Search</center>"
   ]
  },
  {
   "cell_type": "markdown",
   "metadata": {},
   "source": [
    "# Graph Search And Connectivity\n",
    "<img src=\"Images/BFS_vs_DFS.png\" width=\"600\"/>"
   ]
  },
  {
   "cell_type": "markdown",
   "metadata": {},
   "source": [
    "## Breath First Search (BFS)"
   ]
  },
  {
   "cell_type": "markdown",
   "metadata": {},
   "source": [
    "### Algorithm description\n",
    "<img src=\"Images/BFS_Code.png\" width=\"600\"/>"
   ]
  },
  {
   "cell_type": "code",
   "execution_count": null,
   "metadata": {},
   "outputs": [],
   "source": []
  },
  {
   "cell_type": "markdown",
   "metadata": {},
   "source": [
    "### Shortest Paths    \n",
    "<img src=\"Images/BFS_ShortestPath.png\" width=\"600\"/>"
   ]
  },
  {
   "cell_type": "code",
   "execution_count": null,
   "metadata": {},
   "outputs": [],
   "source": []
  },
  {
   "cell_type": "markdown",
   "metadata": {},
   "source": [
    "### Connected Components via BFS\n",
    "<img src=\"Images/BFS_Connected_Components.png\" width=\"600\"/>"
   ]
  },
  {
   "cell_type": "code",
   "execution_count": null,
   "metadata": {},
   "outputs": [],
   "source": []
  },
  {
   "cell_type": "markdown",
   "metadata": {},
   "source": [
    "## Deep First Search (DFS)"
   ]
  },
  {
   "cell_type": "markdown",
   "metadata": {},
   "source": [
    "### Algorithm description\n",
    "<img src=\"Images/DFS_properties.png\" width=\"600\"/>\n",
    "<img src=\"Images/DFS_Code.png\" width=\"600\"/>"
   ]
  },
  {
   "cell_type": "code",
   "execution_count": null,
   "metadata": {},
   "outputs": [],
   "source": []
  },
  {
   "cell_type": "markdown",
   "metadata": {
    "ExecuteTime": {
     "end_time": "2021-01-01T15:34:33.886699Z",
     "start_time": "2021-01-01T15:34:33.875928Z"
    }
   },
   "source": [
    "### Strictly Connected Components (SCC)\n",
    "<img src=\"Images/DFS_SCC.png\" width=\"600\"/>\n",
    "<img src=\"Images/DFS_Kosaraju.png\" width=\"600\"/>\n",
    "<img src=\"Images/DFS_SCC_Code.png\" width=\"600\"/>"
   ]
  },
  {
   "cell_type": "markdown",
   "metadata": {},
   "source": [
    "The file contains the edges of a directed graph. Vertices are labeled as positive integers from 1 to 875714. Every row indicates an edge, the vertex label in first column is the tail and the vertex label in second column is the head (recall the graph is directed, and the edges are directed from the first column vertex to the second column vertex). So for example, the 11th row looks liks : \"2 47646\". This just means that the vertex with label 2 has an outgoing edge to the vertex with label 47646\n",
    "\n",
    "Your task is to code up the algorithm from the video lectures for computing strongly connected components (SCCs), and to run this algorithm on the given graph.\n",
    "\n",
    "Output Format: You should output the sizes of the 5 largest SCCs in the given graph, in decreasing order of sizes, separated by commas (avoid any spaces). So if your algorithm computes the sizes of the five largest SCCs to be 500, 400, 300, 200 and 100, then your answer should be \"500,400,300,200,100\" (without the quotes). If your algorithm finds less than 5 SCCs, then write 0 for the remaining terms. Thus, if your algorithm computes only 3 SCCs whose sizes are 400, 300, and 100, then your answer should be \"400,300,100,0,0\" (without the quotes).  (Note also that your answer should not have any spaces in it.)\n",
    "\n",
    "WARNING: This is the most challenging programming assignment of the course. Because of the size of the graph you may have to manage memory carefully. The best way to do this depends on your programming language and environment, and we strongly suggest that you exchange tips for doing this on the discussion forums."
   ]
  },
  {
   "cell_type": "code",
   "execution_count": 1,
   "metadata": {
    "ExecuteTime": {
     "end_time": "2021-01-02T22:15:39.637320Z",
     "start_time": "2021-01-02T22:15:39.607206Z"
    }
   },
   "outputs": [],
   "source": [
    "# SCC algorithm with only list and global variables\n",
    "import os, sys, threading\n",
    "\n",
    "SCC_file = '../Data/SCC.txt'\n",
    "filepath = os.path.join(os.getcwd(), SCC_file)\n",
    "nbr_nodes = 875715\n",
    "\n",
    "def load_data(filepath:str, nbr_nodes:int)->list:\n",
    "    '''\n",
    "        Create graph/graph reverse as lists from the input file.\n",
    "    '''\n",
    "    file = open(filepath,\"r\")\n",
    "    data = file.readlines()\n",
    "    G, Grev = [[] for x in range(nbr_nodes)], [[] for x in range(nbr_nodes)]\n",
    "    for line in data:\n",
    "        node_start, node_end = list(map(lambda x: int(x),line.split())) \n",
    "        G[node_start].append(node_end); Grev[node_end].append(node_start)\n",
    "    return G, Grev   \n",
    "\n",
    "def DFSrev(Grev:list, i:int)->None:\n",
    "    '''\n",
    "        Apply DFS from a defined node on Grev.\n",
    "        Give a finishing time to every node of the graph to compute \"magical ordering\" of the nodes.\n",
    "    '''\n",
    "    global t, is_explored, finishing_time\n",
    "    is_explored[i] = True\n",
    "    for j in Grev[i]:\n",
    "        if not is_explored[j]:\n",
    "            DFSrev(Grev, j)\n",
    "    t += 1\n",
    "    finishing_time[i] = t \n",
    "\n",
    "def DFSrev_Loop(Grev:list)->None:\n",
    "    '''\n",
    "        Loop DFS on every node of the graph Grev.\n",
    "    '''\n",
    "    global t, is_explored, finishing_time\n",
    "    is_explored = [False for x in range(nbr_nodes)]\n",
    "    t = 0\n",
    "    for i in range(len(Grev)-1, 0, -1):\n",
    "        if not is_explored[i]:\n",
    "            DFSrev(Grev, i)\n",
    "\n",
    "def DFS(G:list, i:int)->None:\n",
    "    '''\n",
    "        Apply DFS from a defined node on G.\n",
    "        Find the SCCs in the graph and list all the leaders.\n",
    "    '''\n",
    "    global is_explored, scc_size\n",
    "    is_explored[i] = True\n",
    "    for j in G[i]:\n",
    "        if is_explored[j]:\n",
    "            DFS(G, j)\n",
    "    scc_size += 1                      \n",
    "\n",
    "def DFS_Loop(G:list)->None:\n",
    "    '''\n",
    "        Loop DFS on every node of the graph G.\n",
    "    '''\n",
    "    global is_explored, finishing_time, SCCs, scc_size\n",
    "    is_explored = [False for x in range(nbr_nodes)]\n",
    "    for i in range(len(G)-1, 0, -1):\n",
    "        if not is_explored[i]:\n",
    "            scc_size = 0\n",
    "            DFS(G, i)  \n",
    "            SCCs.append(scc_size)\n",
    "            \n",
    "def Korasaju(filepath:str, nbr_nodes:int)->list:\n",
    "    '''\n",
    "        Apply Korasaju's two passes algorithms to find the five biggest Strongly Connected Components(SCC).\n",
    "    '''\n",
    "    global finishing_time, SCCs\n",
    "    finishing_time = [[] for x in range(nbr_nodes)]\n",
    "    SCCs = []\n",
    "    G, Grev = load_data(filepath, nbr_nodes)     # 1 - Let Grev = G with all arcs reversed\n",
    "    DFSrev_Loop(Grev)                            # 2 - Run DFS-Loop on Grev. Give a finishing time to every node of the graph to compute \"magical ordering\" of the nodes.\n",
    "    DFS_Loop(G)                                  # 3 - Run DFS-Loop on G. Processinig all nodes by finishing time.\n",
    "    return sorted(SCCs, reverse=True)[:5]"
   ]
  },
  {
   "cell_type": "code",
   "execution_count": null,
   "metadata": {
    "ExecuteTime": {
     "start_time": "2021-01-02T22:14:40.452Z"
    }
   },
   "outputs": [],
   "source": [
    "threading.stack_size(67108864) # 64MB stack\n",
    "sys.setrecursionlimit(2 ** 20)  # approx 1 million recursions\n",
    "\n",
    "Korasaju(filepath, nbr_nodes)"
   ]
  },
  {
   "cell_type": "code",
   "execution_count": null,
   "metadata": {},
   "outputs": [],
   "source": []
  }
 ],
 "metadata": {
  "kernelspec": {
   "display_name": "Python 3",
   "language": "python",
   "name": "python3"
  },
  "language_info": {
   "codemirror_mode": {
    "name": "ipython",
    "version": 3
   },
   "file_extension": ".py",
   "mimetype": "text/x-python",
   "name": "python",
   "nbconvert_exporter": "python",
   "pygments_lexer": "ipython3",
   "version": "3.7.7"
  },
  "toc": {
   "base_numbering": 1,
   "nav_menu": {},
   "number_sections": true,
   "sideBar": true,
   "skip_h1_title": true,
   "title_cell": "Table of Contents",
   "title_sidebar": "Contents",
   "toc_cell": false,
   "toc_position": {},
   "toc_section_display": true,
   "toc_window_display": false
  },
  "varInspector": {
   "cols": {
    "lenName": 16,
    "lenType": 16,
    "lenVar": 40
   },
   "kernels_config": {
    "python": {
     "delete_cmd_postfix": "",
     "delete_cmd_prefix": "del ",
     "library": "var_list.py",
     "varRefreshCmd": "print(var_dic_list())"
    },
    "r": {
     "delete_cmd_postfix": ") ",
     "delete_cmd_prefix": "rm(",
     "library": "var_list.r",
     "varRefreshCmd": "cat(var_dic_list()) "
    }
   },
   "types_to_exclude": [
    "module",
    "function",
    "builtin_function_or_method",
    "instance",
    "_Feature"
   ],
   "window_display": false
  }
 },
 "nbformat": 4,
 "nbformat_minor": 4
}
