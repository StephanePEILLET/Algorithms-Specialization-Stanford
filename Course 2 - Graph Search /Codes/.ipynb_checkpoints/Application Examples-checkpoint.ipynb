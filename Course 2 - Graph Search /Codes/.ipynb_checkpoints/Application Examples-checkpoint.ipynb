{
 "cells": [
  {
   "cell_type": "markdown",
   "metadata": {},
   "source": [
    "# <center>Graph Search</center>"
   ]
  },
  {
   "cell_type": "code",
   "execution_count": 1,
   "metadata": {
    "ExecuteTime": {
     "end_time": "2021-02-07T12:41:40.573291Z",
     "start_time": "2021-02-07T12:41:37.756120Z"
    }
   },
   "outputs": [],
   "source": [
    "import numpy as np\n",
    "import pandas as pd\n",
    "import matplotlib.pyplot as plt\n",
    "import seaborn as sns"
   ]
  },
  {
   "cell_type": "markdown",
   "metadata": {},
   "source": [
    "# Graph Search And Connectivity\n",
    "<img src=\"Images/BFS_vs_DFS.png\" width=\"600\"/>"
   ]
  },
  {
   "cell_type": "markdown",
   "metadata": {},
   "source": [
    "## Breath First Search (BFS)"
   ]
  },
  {
   "cell_type": "markdown",
   "metadata": {},
   "source": [
    "### Algorithm description\n",
    "<img src=\"Images/BFS_Code.png\" width=\"600\"/>"
   ]
  },
  {
   "cell_type": "code",
   "execution_count": 2,
   "metadata": {
    "ExecuteTime": {
     "end_time": "2021-02-07T12:41:40.592410Z",
     "start_time": "2021-02-07T12:41:40.575838Z"
    }
   },
   "outputs": [
    {
     "name": "stdout",
     "output_type": "stream",
     "text": [
      "Start exploration with the node s\n",
      "- Exploring Order: ['s', 'a', 'b', 'c', 'd', 'e']\n",
      "- Layers: {0: ['s'], 1: ['a', 'b'], 2: ['c', 'd'], 3: ['e']} \n",
      "\n",
      "Start exploration with the node a\n",
      "- Exploring Order: ['a', 's', 'c', 'b', 'd', 'e']\n",
      "- Layers: {0: ['a'], 1: ['s', 'c'], 2: ['b', 'd', 'e']} \n",
      "\n",
      "Start exploration with the node e\n",
      "- Exploring Order: ['e', 'c', 'd', 'a', 'b', 's']\n",
      "- Layers: {0: ['e'], 1: ['c', 'd'], 2: ['a', 'b'], 3: ['s']} \n",
      "\n"
     ]
    }
   ],
   "source": [
    "from BFS import *\n",
    "\n",
    "graph_example = {'s': ['a', 'b'],\n",
    "                 'a': ['s', 'c'],\n",
    "                 'b': ['s', 'c', 'd'],\n",
    "                 'c': ['a', 'b', 'd', 'e'],\n",
    "                 'd': ['b', 'c', 'e'],\n",
    "                 'e': ['c', 'd']}\n",
    "\n",
    "# Example as in the course \n",
    "start_vertex = 's'; BFS_display(graph_example, start_vertex)\n",
    "start_vertex = 'a'; BFS_display(graph_example, start_vertex)\n",
    "start_vertex = 'e'; BFS_display(graph_example, start_vertex)"
   ]
  },
  {
   "cell_type": "markdown",
   "metadata": {},
   "source": [
    "### Shortest Paths    \n",
    "<img src=\"Images/BFS_ShortestPath.png\" width=\"600\"/>"
   ]
  },
  {
   "cell_type": "code",
   "execution_count": 3,
   "metadata": {
    "ExecuteTime": {
     "end_time": "2021-02-07T12:41:40.603940Z",
     "start_time": "2021-02-07T12:41:40.596599Z"
    }
   },
   "outputs": [
    {
     "name": "stdout",
     "output_type": "stream",
     "text": [
      "Start exploration with the node s\n",
      "- Exploring Order: ['s', 'a', 'b', 'c', 'd', 'e']\n",
      "- Layers: {0: ['s'], 1: ['a', 'b'], 2: ['c', 'd'], 3: ['e']} \n",
      "\n",
      "BFS shortest path: start vertex s and target vertex e\n",
      "Distance path: 3 and shortest path: ['s', 'b', 'd', 'e']\n"
     ]
    }
   ],
   "source": [
    "start_vertex = 's'; target_vertex = 'e'\n",
    "BFS_display(graph_example, start_vertex, target_vertex)"
   ]
  },
  {
   "cell_type": "markdown",
   "metadata": {},
   "source": [
    "### Connected Components via BFS\n",
    "<img src=\"Images/BFS_Connected_Components.png\" width=\"600\"/>"
   ]
  },
  {
   "cell_type": "code",
   "execution_count": 4,
   "metadata": {
    "ExecuteTime": {
     "end_time": "2021-02-07T12:41:40.628682Z",
     "start_time": "2021-02-07T12:41:40.615896Z"
    }
   },
   "outputs": [
    {
     "name": "stdout",
     "output_type": "stream",
     "text": [
      "There is 3 connected components in the graph:\n",
      "*[2, 4]\n",
      "*[1, 3, 5, 7, 9]\n",
      "*[6, 8, 10]\n"
     ]
    }
   ],
   "source": [
    "graph_SCC_example = {1: [3, 5],\n",
    "                     2: [4],\n",
    "                     3: [1, 5],\n",
    "                     4: [2],\n",
    "                     5: [1, 3, 7, 9],\n",
    "                     6: [8, 10],\n",
    "                     7: [5],\n",
    "                     8: [6, 10],\n",
    "                     9: [5],\n",
    "                     10:[6, 8]\n",
    "}\n",
    "\n",
    "number_SCCs, SCCs = BFS_SCC(graph_SCC_example)\n",
    "print(f'There is {number_SCCs} connected components in the graph:')\n",
    "for SCC in SCCs:\n",
    "    print(f'*{SCC}')"
   ]
  },
  {
   "cell_type": "markdown",
   "metadata": {},
   "source": [
    "## Deep First Search (DFS)"
   ]
  },
  {
   "cell_type": "markdown",
   "metadata": {},
   "source": [
    "### Algorithm description\n",
    "<img src=\"Images/DFS_overview.png\" width=\"600\"/>\n",
    "<img src=\"Images/DFS_Code.png\" width=\"600\"/>"
   ]
  },
  {
   "cell_type": "code",
   "execution_count": 5,
   "metadata": {
    "ExecuteTime": {
     "end_time": "2021-02-07T12:41:40.647318Z",
     "start_time": "2021-02-07T12:41:40.633242Z"
    }
   },
   "outputs": [
    {
     "name": "stdout",
     "output_type": "stream",
     "text": [
      "The exploring order with DFS is: ['s', 'a', 'c', 'e', 'd', 'b']\n"
     ]
    }
   ],
   "source": [
    "from DFS import *\n",
    "\n",
    "graph_example = {'s': ['a', 'b'],\n",
    "                 'a': ['s', 'c'],\n",
    "                 'b': ['s', 'c', 'd'],\n",
    "                 'c': ['a', 'e', 'd'],\n",
    "                 'd': ['b', 'c', 'e'],\n",
    "                 'e': ['c', 'd']}\n",
    "\n",
    "start_vertex = 's'\n",
    "exploring_params = DFS_simple_exploration(graph_example, start_vertex)\n",
    "print('The exploring order with DFS is:', exploring_params.explored)"
   ]
  },
  {
   "cell_type": "code",
   "execution_count": 6,
   "metadata": {
    "ExecuteTime": {
     "end_time": "2021-02-07T12:41:40.705850Z",
     "start_time": "2021-02-07T12:41:40.682722Z"
    }
   },
   "outputs": [
    {
     "name": "stdout",
     "output_type": "stream",
     "text": [
      "Exploring order: [10, 6, 8, 9, 5, 1, 3, 7, 4, 2]\n",
      "SCCs: {10: [10, 6, 8], 9: [9, 5, 1, 3, 7], 4: [4, 2]}\n"
     ]
    }
   ],
   "source": [
    "# On multiple connected components graph:\n",
    "params = DFS_loop(graph_SCC_example)\n",
    "print('Exploring order:', params.explored)\n",
    "print('SCCs:', params.SCCs)"
   ]
  },
  {
   "cell_type": "markdown",
   "metadata": {},
   "source": [
    "<img src=\"Images/DFS_properties.png\" width=\"600\"/>"
   ]
  },
  {
   "cell_type": "markdown",
   "metadata": {
    "ExecuteTime": {
     "end_time": "2021-01-01T15:34:33.886699Z",
     "start_time": "2021-01-01T15:34:33.875928Z"
    }
   },
   "source": [
    "### Strictly Connected Components (SCC)\n",
    "<img src=\"Images/DFS_SCC.png\" width=\"600\"/>\n",
    "<img src=\"Images/DFS_Kosaraju.png\" width=\"600\"/>\n",
    "<img src=\"Images/DFS_SCC_Code.png\" width=\"600\"/>"
   ]
  },
  {
   "cell_type": "markdown",
   "metadata": {},
   "source": [
    "The file contains the edges of a directed graph. Vertices are labeled as positive integers from 1 to 875714. Every row indicates an edge, the vertex label in first column is the tail and the vertex label in second column is the head (recall the graph is directed, and the edges are directed from the first column vertex to the second column vertex). So for example, the 11th row looks liks : \"2 47646\". This just means that the vertex with label 2 has an outgoing edge to the vertex with label 47646\n",
    "\n",
    "Your task is to code up the algorithm from the video lectures for computing strongly connected components (SCCs), and to run this algorithm on the given graph.\n",
    "\n",
    "Output Format: You should output the sizes of the 5 largest SCCs in the given graph, in decreasing order of sizes, separated by commas (avoid any spaces). So if your algorithm computes the sizes of the five largest SCCs to be 500, 400, 300, 200 and 100, then your answer should be \"500,400,300,200,100\" (without the quotes). If your algorithm finds less than 5 SCCs, then write 0 for the remaining terms. Thus, if your algorithm computes only 3 SCCs whose sizes are 400, 300, and 100, then your answer should be \"400,300,100,0,0\" (without the quotes).  (Note also that your answer should not have any spaces in it.)\n",
    "\n",
    "WARNING: This is the most challenging programming assignment of the course. Because of the size of the graph you may have to manage memory carefully. The best way to do this depends on your programming language and environment, and we strongly suggest that you exchange tips for doing this on the discussion forums."
   ]
  },
  {
   "cell_type": "markdown",
   "metadata": {},
   "source": [
    "### Course example\n",
    "<img src=\"Images/korasaju_example1.png\" width=\"500\"/>\n",
    "<img src=\"Images/korasaju_example2.png\" width=\"500\"/>"
   ]
  },
  {
   "cell_type": "code",
   "execution_count": 7,
   "metadata": {
    "ExecuteTime": {
     "end_time": "2021-02-07T12:41:40.758049Z",
     "start_time": "2021-02-07T12:41:40.736113Z"
    }
   },
   "outputs": [
    {
     "name": "stdout",
     "output_type": "stream",
     "text": [
      "---------Graphs---------\n",
      "Input  : {1: [4], 2: [8], 3: [6], 4: [7], 5: [2], 6: [9], 7: [1], 8: [5, 6], 9: [3, 7]}\n",
      "Step 1 : {1: [7], 2: [5], 3: [9], 4: [1], 5: [8], 6: [3, 8], 7: [4, 9], 8: [2], 9: [6]}\n",
      "Step 2 : {1: 7, 2: 3, 3: 1, 4: 8, 5: 2, 6: 5, 7: 9, 8: 4, 9: 6}\n",
      "Step 3 : {1: [5], 2: [3], 3: [4], 4: [2, 5], 5: [6], 6: [1, 9], 7: [8], 8: [9], 9: [7]}\n",
      "---------Results--------\n",
      "Leader :  {9: 9, 7: 9, 8: 9, 6: 6, 1: 6, 5: 6, 4: 4, 2: 4, 3: 4}\n",
      "Leaders :  {9, 4, 6}\n",
      "SCCs : {9: [9, 7, 8], 6: [6, 1, 5], 4: [4, 2, 3]}\n"
     ]
    }
   ],
   "source": [
    "from korasaju import *\n",
    "\n",
    "G = {1: [4],\n",
    "     2: [8],\n",
    "     3: [6], \n",
    "     4: [7],\n",
    "     5: [2],\n",
    "     6: [9],\n",
    "     7: [1],\n",
    "     8: [5, 6],\n",
    "     9: [3, 7]}\n",
    "\n",
    "korasaju(G, verbose=True)"
   ]
  },
  {
   "cell_type": "code",
   "execution_count": null,
   "metadata": {
    "ExecuteTime": {
     "start_time": "2021-02-07T12:41:37.683Z"
    }
   },
   "outputs": [
    {
     "name": "stdout",
     "output_type": "stream",
     "text": [
      "The number of nodes in the graph is: 875714\n"
     ]
    }
   ],
   "source": [
    "import os\n",
    "\n",
    "SCC_file = '../Data/SCC.txt'\n",
    "filepath = os.path.join(os.getcwd(), SCC_file)\n",
    "graph, graph_rev = load_data(filepath)\n",
    "nbr_nodes = len(graph.keys())\n",
    "print(f'The number of nodes in the graph is: {nbr_nodes}')\n",
    "\n",
    "results = korasaju(graph, graph_rev)"
   ]
  },
  {
   "cell_type": "code",
   "execution_count": null,
   "metadata": {
    "ExecuteTime": {
     "end_time": "2021-01-03T08:44:30.327425Z",
     "start_time": "2021-01-03T08:43:51.930778Z"
    }
   },
   "outputs": [],
   "source": [
    "#Expected answer 434821,968,459,313,211"
   ]
  }
 ],
 "metadata": {
  "kernelspec": {
   "display_name": "Python 3",
   "language": "python",
   "name": "python3"
  },
  "language_info": {
   "codemirror_mode": {
    "name": "ipython",
    "version": 3
   },
   "file_extension": ".py",
   "mimetype": "text/x-python",
   "name": "python",
   "nbconvert_exporter": "python",
   "pygments_lexer": "ipython3",
   "version": "3.7.7"
  },
  "toc": {
   "base_numbering": 1,
   "nav_menu": {},
   "number_sections": true,
   "sideBar": true,
   "skip_h1_title": true,
   "title_cell": "Table of Contents",
   "title_sidebar": "Contents",
   "toc_cell": false,
   "toc_position": {},
   "toc_section_display": true,
   "toc_window_display": false
  },
  "varInspector": {
   "cols": {
    "lenName": 16,
    "lenType": 16,
    "lenVar": 40
   },
   "kernels_config": {
    "python": {
     "delete_cmd_postfix": "",
     "delete_cmd_prefix": "del ",
     "library": "var_list.py",
     "varRefreshCmd": "print(var_dic_list())"
    },
    "r": {
     "delete_cmd_postfix": ") ",
     "delete_cmd_prefix": "rm(",
     "library": "var_list.r",
     "varRefreshCmd": "cat(var_dic_list()) "
    }
   },
   "types_to_exclude": [
    "module",
    "function",
    "builtin_function_or_method",
    "instance",
    "_Feature"
   ],
   "window_display": false
  }
 },
 "nbformat": 4,
 "nbformat_minor": 4
}
