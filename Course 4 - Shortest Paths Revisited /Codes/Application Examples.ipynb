{
 "cells": [
  {
   "cell_type": "markdown",
   "metadata": {},
   "source": [
    "# <center>Shortest Paths Revisited</center>"
   ]
  },
  {
   "cell_type": "markdown",
   "metadata": {},
   "source": [
    "# Week 1\n",
    "Question 1\n",
    "\n",
    "In this assignment you will implement one or more algorithms for the all-pairs shortest-path problem.  Here are data files describing three graphs: \n",
    "g1.txt\n",
    "g2.txt\n",
    "g3.txt\n",
    "\n",
    "The first line indicates the number of vertices and edges, respectively.  Each subsequent line describes an edge (the first two numbers are its tail and head, respectively) and its length (the third number).  NOTE: some of the edge lengths are negative.  NOTE: These graphs may or may not have negative-cost cycles.\n",
    "\n",
    "Your task is to compute the \"shortest shortest path\".  Precisely, you must first identify which, if any, of the three graphs have no negative cycles.  For each such graph, you should compute all-pairs shortest paths and remember the smallest one (i.e., compute min⁡u,v∈Vd(u,v)\\min_{u,v \\in V} d(u,v)minu,v∈V​d(u,v), where d(u,v)d(u,v)d(u,v) denotes the shortest-path distance from uuu to vvv). \n",
    "\n",
    "If each of the three graphs has a negative-cost cycle, then enter \"NULL\" in the box below.  If exactly one graph has no negative-cost cycles, then enter the length of its shortest shortest path in the box below.  If two or more of the graphs have no negative-cost cycles, then enter the smallest of the lengths of their shortest shortest paths in the box below.\n",
    "\n",
    "OPTIONAL: You can use whatever algorithm you like to solve this question.  If you have extra time, try comparing the performance of different all-pairs shortest-path algorithms!\n",
    "\n",
    "OPTIONAL: Here is a bigger data set to play with.\n",
    "large.txt"
   ]
  },
  {
   "cell_type": "code",
   "execution_count": null,
   "metadata": {},
   "outputs": [],
   "source": []
  },
  {
   "cell_type": "markdown",
   "metadata": {},
   "source": [
    "# Week 2"
   ]
  },
  {
   "cell_type": "markdown",
   "metadata": {},
   "source": [
    "Question 1\n",
    "\n",
    "In this assignment you will implement one or more algorithms for the traveling salesman problem, such as the dynamic programming algorithm covered in the video lectures.  Here is a data file describing a TSP instance.\n",
    "\n",
    "tsp.txt\n",
    "\n",
    "The first line indicates the number of cities.  Each city is a point in the plane, and each subsequent line indicates the x- and y-coordinates of a single city.  \n",
    "\n",
    "The distance between two cities is defined as the Euclidean distance --- that is, two cities at locations (x,y)(x,y)(x,y) and (z,w)(z,w)(z,w) have distance (x−z)2+(y−w)2\\sqrt{(x-z)^2 + (y-w)^2}(x−z)2+(y−w)2\n",
    "\n",
    "​ between them.  \n",
    "\n",
    "In the box below, type in the minimum cost of a traveling salesman tour for this instance, rounded down to the nearest integer.\n",
    "\n",
    "OPTIONAL: If you want bigger data sets to play with, check out the TSP instances from around the world here.  The smallest data set (Western Sahara) has 29 cities, and most of the data sets are much bigger than that.  What's the largest of these data sets that you're able to solve --- using dynamic programming or, if you like, a completely different method?\n",
    "\n",
    "HINT: You might experiment with ways to reduce the data set size.  For example, trying plotting the points.  Can you infer any structure of the optimal solution?  Can you use that structure to speed up your algorithm?"
   ]
  },
  {
   "cell_type": "code",
   "execution_count": null,
   "metadata": {},
   "outputs": [],
   "source": []
  },
  {
   "cell_type": "markdown",
   "metadata": {},
   "source": [
    "# Week 3\n",
    "Question 1\n",
    "\n",
    "In this assignment we will revisit an old friend, the traveling salesman problem (TSP).  This week you will implement a heuristic for the TSP, rather than an exact algorithm, and as a result will be able to handle much larger problem sizes.  Here is a data file describing a TSP instance (original source: http://www.math.uwaterloo.ca/tsp/world/bm33708.tsp).\n",
    "\n",
    "nn.txt\n",
    "\n",
    "The first line indicates the number of cities. Each city is a point in the plane, and each subsequent line indicates the x- and y-coordinates of a single city.\n",
    "\n",
    "The distance between two cities is defined as the Euclidean distance --- that is, two cities at locations (x,y)(x,y)(x,y) and (z,w)(z,w)(z,w) have distance (x−z)2+(y−w)2\\sqrt{(x-z)^2 + (y-w)^2}(x−z)2+(y−w)2\n",
    "\n",
    "​ between them.\n",
    "\n",
    "You should implement the nearest neighbor heuristic:\n",
    "\n",
    "    1. Start the tour at the first city.\n",
    "    2. Repeatedly visit the closest city that the tour hasn't visited yet.  In case of a tie, go to the closest city with the lowest index.  For example, if both the third and fifth cities have the same distance from the first city (and are closer than any other city), then the tour should begin by going from the first city to the third city.\n",
    "    3. Once every city has been visited exactly once, return to the first city to complete the tour.\n",
    "\n",
    "In the box below, enter the cost of the traveling salesman tour computed by the nearest neighbor heuristic for this instance, rounded down to the nearest integer.\n",
    "\n",
    "[Hint: when constructing the tour, you might find it simpler to work with squared Euclidean distances (i.e., the formula above but without the square root) than Euclidean distances.  But don't forget to report the length of the tour in terms of standard Euclidean distance.]"
   ]
  },
  {
   "cell_type": "code",
   "execution_count": null,
   "metadata": {},
   "outputs": [],
   "source": []
  },
  {
   "cell_type": "markdown",
   "metadata": {},
   "source": [
    "# Week 4\n",
    "Question 1\n",
    "\n",
    "In this assignment you will implement one or more algorithms for the 2SAT problem.  Here are 6 different 2SAT instances:\n",
    "\n",
    "2sat1.txt\n",
    "\n",
    "2sat2.txt\n",
    "\n",
    "2sat3.txt\n",
    "\n",
    "2sat4.txt\n",
    "\n",
    "2sat5.txt\n",
    "\n",
    "2sat6.txt\n",
    "\n",
    "The file format is as follows.  In each instance, the number of variables and the number of clauses is the same, and this number is specified on the first line of the file.  Each subsequent line specifies a clause via its two literals, with a number denoting the variable and a \"-\" sign denoting logical \"not\".  For example, the second line of the first data file is \"-16808 75250\", which indicates the clause ¬x16808∨x75250\\neg x_{16808} \\vee x_{75250}¬x16808​∨x75250​.\n",
    "\n",
    "Your task is to determine which of the 6 instances are satisfiable, and which are unsatisfiable.  In the box below, enter a 6-bit string, where the ith bit should be 1 if the ith instance is satisfiable, and 0 otherwise.  For example, if you think that the first 3 instances are satisfiable and the last 3 are not, then you should enter the string 111000 in the box below.\n",
    "\n",
    "DISCUSSION: This assignment is deliberately open-ended, and you can implement whichever 2SAT algorithm you want.  For example, 2SAT reduces to computing the strongly connected components of a suitable graph (with two vertices per variable and two directed edges per clause, you should think through the details).  This might be an especially attractive option for those of you who coded up an SCC algorithm in Part 2 of this specialization.  Alternatively, you can use Papadimitriou's randomized local search algorithm.  (The algorithm from lecture is probably too slow as stated, so you might want to make one or more simple modifications to it --- even if this means breaking the analysis given in lecture --- to ensure that it runs in a reasonable amount of time.)  A third approach is via backtracking.  In lecture we mentioned this approach only in passing; see Chapter 9 of the Dasgupta-Papadimitriou-Vazirani book, for example, for more details."
   ]
  },
  {
   "cell_type": "code",
   "execution_count": null,
   "metadata": {},
   "outputs": [],
   "source": []
  }
 ],
 "metadata": {
  "kernelspec": {
   "display_name": "Python 3",
   "language": "python",
   "name": "python3"
  },
  "language_info": {
   "codemirror_mode": {
    "name": "ipython",
    "version": 3
   },
   "file_extension": ".py",
   "mimetype": "text/x-python",
   "name": "python",
   "nbconvert_exporter": "python",
   "pygments_lexer": "ipython3",
   "version": "3.7.7"
  },
  "toc": {
   "base_numbering": 1,
   "nav_menu": {},
   "number_sections": true,
   "sideBar": true,
   "skip_h1_title": true,
   "title_cell": "Table of Contents",
   "title_sidebar": "Contents",
   "toc_cell": false,
   "toc_position": {},
   "toc_section_display": true,
   "toc_window_display": false
  },
  "varInspector": {
   "cols": {
    "lenName": 16,
    "lenType": 16,
    "lenVar": 40
   },
   "kernels_config": {
    "python": {
     "delete_cmd_postfix": "",
     "delete_cmd_prefix": "del ",
     "library": "var_list.py",
     "varRefreshCmd": "print(var_dic_list())"
    },
    "r": {
     "delete_cmd_postfix": ") ",
     "delete_cmd_prefix": "rm(",
     "library": "var_list.r",
     "varRefreshCmd": "cat(var_dic_list()) "
    }
   },
   "types_to_exclude": [
    "module",
    "function",
    "builtin_function_or_method",
    "instance",
    "_Feature"
   ],
   "window_display": false
  }
 },
 "nbformat": 4,
 "nbformat_minor": 4
}
